{
 "cells": [
  {
   "cell_type": "markdown",
   "metadata": {
    "slideshow": {
     "slide_type": "slide"
    }
   },
   "source": [
    "# K-Means Clustering"
   ]
  },
  {
   "cell_type": "code",
   "execution_count": 1,
   "metadata": {
    "slideshow": {
     "slide_type": "skip"
    }
   },
   "outputs": [],
   "source": [
    "# from sklearn.feature_extraction.text import TfidfVectorizer\n",
    "from sklearn.feature_extraction.text import CountVectorizer\n",
    "from sklearn import metrics\n",
    "from sklearn.cluster import KMeans\n",
    "\n",
    "from time import time\n",
    "\n",
    "import numpy as np\n",
    "import pandas as pd\n",
    "\n",
    "import matplotlib.pyplot as plt; \n",
    "plt.rcdefaults()"
   ]
  },
  {
   "cell_type": "markdown",
   "metadata": {
    "slideshow": {
     "slide_type": "slide"
    }
   },
   "source": [
    "# Data from Preprocessing Result"
   ]
  },
  {
   "cell_type": "code",
   "execution_count": 2,
   "metadata": {
    "slideshow": {
     "slide_type": "slide"
    }
   },
   "outputs": [
    {
     "data": {
      "text/html": [
       "<div>\n",
       "<style scoped>\n",
       "    .dataframe tbody tr th:only-of-type {\n",
       "        vertical-align: middle;\n",
       "    }\n",
       "\n",
       "    .dataframe tbody tr th {\n",
       "        vertical-align: top;\n",
       "    }\n",
       "\n",
       "    .dataframe thead th {\n",
       "        text-align: right;\n",
       "    }\n",
       "</style>\n",
       "<table border=\"1\" class=\"dataframe\">\n",
       "  <thead>\n",
       "    <tr style=\"text-align: right;\">\n",
       "      <th></th>\n",
       "      <th>username</th>\n",
       "      <th>date</th>\n",
       "      <th>time</th>\n",
       "      <th>text</th>\n",
       "      <th>tweetID</th>\n",
       "      <th>placeID</th>\n",
       "      <th>daerah</th>\n",
       "      <th>lokasi</th>\n",
       "      <th>longitude</th>\n",
       "      <th>latitude</th>\n",
       "      <th>result</th>\n",
       "    </tr>\n",
       "  </thead>\n",
       "  <tbody>\n",
       "    <tr>\n",
       "      <th>0</th>\n",
       "      <td>@AbdulIkromMukti</td>\n",
       "      <td>2018-01-01</td>\n",
       "      <td>17:22</td>\n",
       "      <td>Ntah ini gaya apa. Nahan bersin Nahan mules M...</td>\n",
       "      <td>9.477750e+17</td>\n",
       "      <td>2eb44917f4d6dddc</td>\n",
       "      <td>Cirebon Barat</td>\n",
       "      <td>Cirebon Barat Indonesia</td>\n",
       "      <td>108.539152</td>\n",
       "      <td>-6.719110</td>\n",
       "      <td>ntah gaya nahan bersin nahan mules muka kane m...</td>\n",
       "    </tr>\n",
       "    <tr>\n",
       "      <th>1</th>\n",
       "      <td>@nengnurlaela21</td>\n",
       "      <td>2018-01-01</td>\n",
       "      <td>18:36</td>\n",
       "      <td>get well soon Kak Dori   masih di Sukabumi ka...</td>\n",
       "      <td>9.477940e+17</td>\n",
       "      <td>8b2c9342507e86d3</td>\n",
       "      <td>Baros</td>\n",
       "      <td>Baros Indonesia</td>\n",
       "      <td>106.928706</td>\n",
       "      <td>-6.946683</td>\n",
       "      <td>get well soon kak dor sukabumi kak niat ken sa...</td>\n",
       "    </tr>\n",
       "    <tr>\n",
       "      <th>2</th>\n",
       "      <td>@_sulistiyowati_</td>\n",
       "      <td>2018-01-01</td>\n",
       "      <td>19:57</td>\n",
       "      <td>Awalnya pening doang berhari-hari. Terus dema...</td>\n",
       "      <td>9.478140e+17</td>\n",
       "      <td>dc83e4ea9c950d75</td>\n",
       "      <td>Labuhan Maringgai</td>\n",
       "      <td>Labuhan Maringgai Indonesia</td>\n",
       "      <td>105.811806</td>\n",
       "      <td>-5.342388</td>\n",
       "      <td>pening doang hari demam diare lemes kapar</td>\n",
       "    </tr>\n",
       "    <tr>\n",
       "      <th>3</th>\n",
       "      <td>@rundraj</td>\n",
       "      <td>2018-01-01</td>\n",
       "      <td>13:39</td>\n",
       "      <td>Sing seneng akeh  sing mules merga mburi ngom...</td>\n",
       "      <td>9.477190e+17</td>\n",
       "      <td>c4397d8c10325af5</td>\n",
       "      <td>Kasihan</td>\n",
       "      <td>Kasihan Indonesia</td>\n",
       "      <td>110.333619</td>\n",
       "      <td>-7.814739</td>\n",
       "      <td>sing neng akeh sing mules merga mburi ngomah k...</td>\n",
       "    </tr>\n",
       "    <tr>\n",
       "      <th>4</th>\n",
       "      <td>@fitryfee3</td>\n",
       "      <td>2018-01-01</td>\n",
       "      <td>11:55</td>\n",
       "      <td>Maag kumat sejak kemarin  hasilnya diare. Mul...</td>\n",
       "      <td>9.476930e+17</td>\n",
       "      <td>420f122b6bea262c</td>\n",
       "      <td>Lemahabang</td>\n",
       "      <td>Lemahabang Indonesia</td>\n",
       "      <td>107.184287</td>\n",
       "      <td>-6.297686</td>\n",
       "      <td>maag kumat kemarin hasil diare mules plus my p...</td>\n",
       "    </tr>\n",
       "  </tbody>\n",
       "</table>\n",
       "</div>"
      ],
      "text/plain": [
       "           username         date    time  \\\n",
       "0  @AbdulIkromMukti   2018-01-01   17:22   \n",
       "1   @nengnurlaela21   2018-01-01   18:36   \n",
       "2  @_sulistiyowati_   2018-01-01   19:57   \n",
       "3          @rundraj   2018-01-01   13:39   \n",
       "4        @fitryfee3   2018-01-01   11:55   \n",
       "\n",
       "                                                text       tweetID  \\\n",
       "0   Ntah ini gaya apa. Nahan bersin Nahan mules M...  9.477750e+17   \n",
       "1   get well soon Kak Dori   masih di Sukabumi ka...  9.477940e+17   \n",
       "2   Awalnya pening doang berhari-hari. Terus dema...  9.478140e+17   \n",
       "3   Sing seneng akeh  sing mules merga mburi ngom...  9.477190e+17   \n",
       "4   Maag kumat sejak kemarin  hasilnya diare. Mul...  9.476930e+17   \n",
       "\n",
       "             placeID              daerah                        lokasi  \\\n",
       "0   2eb44917f4d6dddc       Cirebon Barat       Cirebon Barat Indonesia   \n",
       "1   8b2c9342507e86d3               Baros               Baros Indonesia   \n",
       "2   dc83e4ea9c950d75   Labuhan Maringgai   Labuhan Maringgai Indonesia   \n",
       "3   c4397d8c10325af5             Kasihan             Kasihan Indonesia   \n",
       "4   420f122b6bea262c          Lemahabang          Lemahabang Indonesia   \n",
       "\n",
       "    longitude  latitude                                             result  \n",
       "0  108.539152 -6.719110  ntah gaya nahan bersin nahan mules muka kane m...  \n",
       "1  106.928706 -6.946683  get well soon kak dor sukabumi kak niat ken sa...  \n",
       "2  105.811806 -5.342388          pening doang hari demam diare lemes kapar  \n",
       "3  110.333619 -7.814739  sing neng akeh sing mules merga mburi ngomah k...  \n",
       "4  107.184287 -6.297686  maag kumat kemarin hasil diare mules plus my p...  "
      ]
     },
     "execution_count": 2,
     "metadata": {},
     "output_type": "execute_result"
    }
   ],
   "source": [
    "data = pd.read_csv('./data/preprocessing_data.csv')\n",
    "data.head()"
   ]
  },
  {
   "cell_type": "code",
   "execution_count": 130,
   "metadata": {
    "slideshow": {
     "slide_type": "skip"
    }
   },
   "outputs": [],
   "source": [
    "def wm2df(wm, feat_names):\n",
    "    \n",
    "    # create an index for each row\n",
    "    doc_names = ['Doc{:d}'.format(idx) for idx, _ in enumerate(wm)]\n",
    "    df = pd.DataFrame(data=wm.toarray(), index=doc_names,\n",
    "                      columns=feat_names)\n",
    "    return(df)\n",
    "\n",
    "# set of documents\n",
    "corpora = data.loc[:,'result'].tolist()\n",
    "\n",
    "# instantiate the vectorizer object\n",
    "cvec = CountVectorizer(lowercase=False)\n",
    "\n",
    "# convert the documents into a document-term matrix\n",
    "wm = cvec.fit_transform(corpora)\n",
    "\n",
    "# retrieve the terms found in the corpora\n",
    "tokens = cvec.get_feature_names()\n",
    "\n",
    "# create a dataframe from the matrix\n",
    "tdm = wm2df(wm, tokens)"
   ]
  },
  {
   "cell_type": "code",
   "execution_count": 131,
   "metadata": {},
   "outputs": [
    {
     "data": {
      "text/plain": [
       "(6787, 12205)"
      ]
     },
     "execution_count": 131,
     "metadata": {},
     "output_type": "execute_result"
    }
   ],
   "source": [
    "tdm.shape"
   ]
  },
  {
   "cell_type": "code",
   "execution_count": 132,
   "metadata": {},
   "outputs": [
    {
     "data": {
      "text/html": [
       "<div>\n",
       "<style scoped>\n",
       "    .dataframe tbody tr th:only-of-type {\n",
       "        vertical-align: middle;\n",
       "    }\n",
       "\n",
       "    .dataframe tbody tr th {\n",
       "        vertical-align: top;\n",
       "    }\n",
       "\n",
       "    .dataframe thead th {\n",
       "        text-align: right;\n",
       "    }\n",
       "</style>\n",
       "<table border=\"1\" class=\"dataframe\">\n",
       "  <thead>\n",
       "    <tr style=\"text-align: right;\">\n",
       "      <th></th>\n",
       "      <th>freq</th>\n",
       "    </tr>\n",
       "  </thead>\n",
       "  <tbody>\n",
       "    <tr>\n",
       "      <th>angin</th>\n",
       "      <td>85</td>\n",
       "    </tr>\n",
       "    <tr>\n",
       "      <th>at</th>\n",
       "      <td>85</td>\n",
       "    </tr>\n",
       "    <tr>\n",
       "      <th>kasih</th>\n",
       "      <td>85</td>\n",
       "    </tr>\n",
       "  </tbody>\n",
       "</table>\n",
       "</div>"
      ],
      "text/plain": [
       "       freq\n",
       "angin    85\n",
       "at       85\n",
       "kasih    85"
      ]
     },
     "execution_count": 132,
     "metadata": {},
     "output_type": "execute_result"
    }
   ],
   "source": [
    "new_tdm = tdm.sum(0).to_frame('freq')\n",
    "new_tdm[new_tdm['freq'] == 85]"
   ]
  },
  {
   "cell_type": "markdown",
   "metadata": {},
   "source": [
    "# K-Means Clustering with Tfidf Vectorizer"
   ]
  },
  {
   "cell_type": "code",
   "execution_count": 124,
   "metadata": {
    "slideshow": {
     "slide_type": "slide"
    }
   },
   "outputs": [
    {
     "name": "stdout",
     "output_type": "stream",
     "text": [
      "Cluster 2\n",
      "#######################################################################\n",
      "Extracting features from the training dataset using a sparse vectorizer\n"
     ]
    },
    {
     "ename": "NameError",
     "evalue": "name 'TfidfVectorizer' is not defined",
     "output_type": "error",
     "traceback": [
      "\u001b[1;31m---------------------------------------------------------------------------\u001b[0m",
      "\u001b[1;31mNameError\u001b[0m                                 Traceback (most recent call last)",
      "\u001b[1;32m<ipython-input-124-8e6bd6867e61>\u001b[0m in \u001b[0;36m<module>\u001b[1;34m()\u001b[0m\n\u001b[0;32m      6\u001b[0m     \u001b[0mprint\u001b[0m\u001b[1;33m(\u001b[0m\u001b[1;34m\"Extracting features from the training dataset using a sparse vectorizer\"\u001b[0m\u001b[1;33m)\u001b[0m\u001b[1;33m\u001b[0m\u001b[0m\n\u001b[0;32m      7\u001b[0m     \u001b[0mt0\u001b[0m \u001b[1;33m=\u001b[0m \u001b[0mtime\u001b[0m\u001b[1;33m(\u001b[0m\u001b[1;33m)\u001b[0m\u001b[1;33m\u001b[0m\u001b[0m\n\u001b[1;32m----> 8\u001b[1;33m     \u001b[0mvectorizer\u001b[0m \u001b[1;33m=\u001b[0m \u001b[0mTfidfVectorizer\u001b[0m\u001b[1;33m(\u001b[0m\u001b[0mmax_df\u001b[0m\u001b[1;33m=\u001b[0m\u001b[1;36m0.5\u001b[0m\u001b[1;33m,\u001b[0m \u001b[0mmax_features\u001b[0m\u001b[1;33m=\u001b[0m\u001b[1;36m100\u001b[0m\u001b[1;33m,\u001b[0m \u001b[0mmin_df\u001b[0m\u001b[1;33m=\u001b[0m\u001b[1;36m85\u001b[0m\u001b[1;33m,\u001b[0m \u001b[0muse_idf\u001b[0m\u001b[1;33m=\u001b[0m\u001b[1;32mTrue\u001b[0m\u001b[1;33m)\u001b[0m\u001b[1;33m\u001b[0m\u001b[0m\n\u001b[0m\u001b[0;32m      9\u001b[0m     \u001b[0mX\u001b[0m \u001b[1;33m=\u001b[0m \u001b[0mvectorizer\u001b[0m\u001b[1;33m.\u001b[0m\u001b[0mfit_transform\u001b[0m\u001b[1;33m(\u001b[0m\u001b[0mcorpora\u001b[0m\u001b[1;33m)\u001b[0m\u001b[1;33m\u001b[0m\u001b[0m\n\u001b[0;32m     10\u001b[0m \u001b[1;33m\u001b[0m\u001b[0m\n",
      "\u001b[1;31mNameError\u001b[0m: name 'TfidfVectorizer' is not defined"
     ]
    }
   ],
   "source": [
    "range_cluster = 11\n",
    "wcss = []\n",
    "for cluster in range(2, range_cluster):\n",
    "    print(\"Cluster \" + str(cluster))\n",
    "    print('#######################################################################')\n",
    "    print(\"Extracting features from the training dataset using a sparse vectorizer\")\n",
    "    t0 = time()\n",
    "    vectorizer = TfidfVectorizer(max_df=0.5, max_features=100, min_df=85, use_idf=True)\n",
    "    X = vectorizer.fit_transform(corpora)\n",
    "\n",
    "    print(\"done in %fs\" % (time() - t0))\n",
    "    print(\"n_samples: %d, n_features: %d\" % X.shape)\n",
    "    print()\n",
    "\n",
    "    km = KMeans(n_clusters=cluster, init='k-means++', max_iter=100, n_init=1, verbose=False)\n",
    "\n",
    "    print(\"Clustering sparse data with %s\" % km)\n",
    "    t0 = time()\n",
    "    km.fit(X)\n",
    "    wcss.append(km.inertia_)\n",
    "    print(\"done in %0.3fs\" % (time() - t0))\n",
    "    print()\n",
    "\n",
    "    print(\"Silhouette Coefficient: %0.3f\" % metrics.silhouette_score(X, km.labels_, sample_size=1000))\n",
    "\n",
    "    print()\n",
    "\n",
    "    print(\"Top terms per cluster:\")\n",
    "    order_centroids = km.cluster_centers_.argsort()[:, ::-1]\n",
    "\n",
    "    terms = vectorizer.get_feature_names()\n",
    "    for i in range(cluster):\n",
    "        print(\"Cluster %d:\" % i, end='')\n",
    "        for ind in order_centroids[i, :10]:\n",
    "            print(' %s' % terms[ind], end='')\n",
    "        print()\n",
    "    print()"
   ]
  },
  {
   "cell_type": "code",
   "execution_count": 5,
   "metadata": {
    "slideshow": {
     "slide_type": "slide"
    }
   },
   "outputs": [
    {
     "data": {
      "text/plain": [
       "(6787, 84)"
      ]
     },
     "execution_count": 5,
     "metadata": {},
     "output_type": "execute_result"
    }
   ],
   "source": [
    "tfidf = pd.DataFrame(X.toarray(), columns=vectorizer.get_feature_names())\n",
    "tfidf.shape"
   ]
  },
  {
   "cell_type": "code",
   "execution_count": 6,
   "metadata": {
    "slideshow": {
     "slide_type": "slide"
    }
   },
   "outputs": [
    {
     "data": {
      "image/png": "[encoded data removed]",
      "text/plain": [
       "<Figure size 432x288 with 1 Axes>"
      ]
     },
     "metadata": {},
     "output_type": "display_data"
    }
   ],
   "source": [
    "plt.plot(range(2, range_cluster), wcss)\n",
    "plt.title('The Elbow Method')\n",
    "plt.xlabel('Number of clusters')\n",
    "plt.ylabel('WCSS')\n",
    "plt.show()"
   ]
  },
  {
   "cell_type": "markdown",
   "metadata": {},
   "source": [
    "# K-Means Clustering with CountVectorizer"
   ]
  },
  {
   "cell_type": "code",
   "execution_count": 144,
   "metadata": {},
   "outputs": [
    {
     "name": "stdout",
     "output_type": "stream",
     "text": [
      "Cluster 2\n",
      "#######################################################################\n",
      "Extracting features from the training dataset using a sparse vectorizer\n",
      "done in 0.139938s\n",
      "n_samples: 6787, n_features: 84\n",
      "\n",
      "Clustering sparse data with KMeans(algorithm='auto', copy_x=True, init='k-means++', max_iter=100,\n",
      "    n_clusters=2, n_init=1, n_jobs=1, precompute_distances='auto',\n",
      "    random_state=None, tol=0.0001, verbose=False)\n",
      "done in 0.077s\n",
      "\n",
      "Silhouette Coefficient: 0.099\n",
      "\n",
      "Top terms per cluster:\n",
      "Cluster 2: mules perut sakit makan mencret yg ga ya pagi udah kalo bikin aja gak jam\n",
      "Cluster 3: diare makan sakit yg obat ya ga aja udah kalo perut gak minum pagi kena\n",
      "\n",
      "Cluster 3\n",
      "#######################################################################\n",
      "Extracting features from the training dataset using a sparse vectorizer\n",
      "done in 0.126930s\n",
      "n_samples: 6787, n_features: 84\n",
      "\n",
      "Clustering sparse data with KMeans(algorithm='auto', copy_x=True, init='k-means++', max_iter=100,\n",
      "    n_clusters=3, n_init=1, n_jobs=1, precompute_distances='auto',\n",
      "    random_state=None, tol=0.0001, verbose=False)\n",
      "done in 0.200s\n",
      "\n",
      "Silhouette Coefficient: 0.145\n",
      "\n",
      "Top terms per cluster:\n",
      "Cluster 2: sakit perut makan yg ga ya aja kalo bikin udah gak sampe diare pagi gue\n",
      "Cluster 3: mules diare perut makan yg ga pagi udah ya aja kalo bikin gak minum jam\n",
      "Cluster 4: mencret makan yg ya kalo gak ga minum obat udah aja biar orang sampe bikin\n",
      "\n",
      "Cluster 4\n",
      "#######################################################################\n",
      "Extracting features from the training dataset using a sparse vectorizer\n",
      "done in 0.123979s\n",
      "n_samples: 6787, n_features: 84\n",
      "\n",
      "Clustering sparse data with KMeans(algorithm='auto', copy_x=True, init='k-means++', max_iter=100,\n",
      "    n_clusters=4, n_init=1, n_jobs=1, precompute_distances='auto',\n",
      "    random_state=None, tol=0.0001, verbose=False)\n",
      "done in 0.200s\n",
      "\n",
      "Silhouette Coefficient: 0.163\n",
      "\n",
      "Top terms per cluster:\n",
      "Cluster 2: mules perut makan pagi yg ga udah ya bikin aja jam kalo pas gak gin\n",
      "Cluster 3: sakit perut makan yg ga ya kalo bikin aja udah gak sampe pagi gue jam\n",
      "Cluster 4: mencret makan yg ya minum kalo obat gak ga aja udah biar orang bikin sampe\n",
      "Cluster 5: diare makan yg ya ga obat aja sakit udah kalo gak minum perut pagi kena\n",
      "\n",
      "Cluster 5\n",
      "#######################################################################\n",
      "Extracting features from the training dataset using a sparse vectorizer\n",
      "done in 0.131925s\n",
      "n_samples: 6787, n_features: 84\n",
      "\n",
      "Clustering sparse data with KMeans(algorithm='auto', copy_x=True, init='k-means++', max_iter=100,\n",
      "    n_clusters=5, n_init=1, n_jobs=1, precompute_distances='auto',\n",
      "    random_state=None, tol=0.0001, verbose=False)\n",
      "done in 0.194s\n",
      "\n",
      "Silhouette Coefficient: 0.126\n",
      "\n",
      "Top terms per cluster:\n",
      "Cluster 2: yg mules sakit perut diare ga sebab makan mencret aja ya kalo bakteri gue gw\n",
      "Cluster 3: sakit perut makan ga ya yg kalo aja udah gak bikin sampe pagi jam gue\n",
      "Cluster 4: mules perut makan pagi ga udah ya jam aja kalo pas gak gin sampe langsung\n",
      "Cluster 5: diare mencret makan ya obat ga aja kalo minum gak udah sakit perut sampe pas\n",
      "Cluster 6: bikin mules perut yg ga aja makan pagi udah gak ya nya sakit orang sarap\n",
      "\n",
      "Cluster 6\n",
      "#######################################################################\n",
      "Extracting features from the training dataset using a sparse vectorizer\n",
      "done in 0.121928s\n",
      "n_samples: 6787, n_features: 84\n",
      "\n",
      "Clustering sparse data with KMeans(algorithm='auto', copy_x=True, init='k-means++', max_iter=100,\n",
      "    n_clusters=6, n_init=1, n_jobs=1, precompute_distances='auto',\n",
      "    random_state=None, tol=0.0001, verbose=False)\n",
      "done in 0.302s\n",
      "\n",
      "Silhouette Coefficient: 0.141\n",
      "\n",
      "Top terms per cluster:\n",
      "Cluster 2: mules perut pagi yg ga udah makan ya bikin aja kalo jam pas gak gin\n",
      "Cluster 3: diare mencret yg makan ya ga gak aja kalo udah sakit obat minum bikin sampe\n",
      "Cluster 4: sakit perut yg ya ga bikin kalo sampe udah aja gak sebab pagi gue jam\n",
      "Cluster 5: makan perut sakit ga pedes mules yg aja kalo diare udah ya gak abis langsung\n",
      "Cluster 6: minum kopi perut mules sakit ga pagi aja langsung yg kalo gak diare tidur jam\n",
      "Cluster 7: obat diare sakit minum ya mencret perut yg makan pas si udah sampe kalo jam\n",
      "\n",
      "Cluster 7\n",
      "#######################################################################\n",
      "Extracting features from the training dataset using a sparse vectorizer\n",
      "done in 0.115980s\n",
      "n_samples: 6787, n_features: 84\n",
      "\n",
      "Clustering sparse data with KMeans(algorithm='auto', copy_x=True, init='k-means++', max_iter=100,\n",
      "    n_clusters=7, n_init=1, n_jobs=1, precompute_distances='auto',\n",
      "    random_state=None, tol=0.0001, verbose=False)\n",
      "done in 0.355s\n",
      "\n",
      "Silhouette Coefficient: 0.147\n",
      "\n",
      "Top terms per cluster:\n",
      "Cluster 2: diare mencret makan yg ya gak minum aja kalo udah sakit ga obat bikin sampe\n",
      "Cluster 3: mules perut pagi yg udah makan bikin ya gak aja jam kalo pas gin sampe\n",
      "Cluster 4: ga mules perut yg kalo aja ya sakit udah makan jam gue pas gw tp\n",
      "Cluster 5: makan pedes mules perut aja diare kalo ga yg sakit ya udah langsung mencret abis\n",
      "Cluster 6: makan perut sakit yg ga aja kalo pedes gak pagi udah ya enak jam minum\n",
      "Cluster 7: obat diare sakit minum ya perut mencret yg pas makan udah si sampe rumah tau\n",
      "Cluster 8: sakit perut yg ya bikin kalo sampe ga gak udah aja sebab pagi jam gue\n",
      "\n",
      "Cluster 8\n",
      "#######################################################################\n",
      "Extracting features from the training dataset using a sparse vectorizer\n",
      "done in 0.115934s\n",
      "n_samples: 6787, n_features: 84\n",
      "\n",
      "Clustering sparse data with KMeans(algorithm='auto', copy_x=True, init='k-means++', max_iter=100,\n",
      "    n_clusters=8, n_init=1, n_jobs=1, precompute_distances='auto',\n",
      "    random_state=None, tol=0.0001, verbose=False)\n",
      "done in 0.266s\n",
      "\n",
      "Silhouette Coefficient: 0.128\n",
      "\n",
      "Top terms per cluster:\n",
      "Cluster 2: diare makan ya obat yg ga aja sakit udah gak kalo minum perut kena sampe\n",
      "Cluster 3: mules yg ga udah ya bikin makan kalo aja gak pas jam gin tidur gue\n",
      "Cluster 4: pagi mules perut yg udah makan minum jam bangun aja ga sampe sakit kalo sarap\n",
      "Cluster 5: mencret yg sebab bakteri makan obat ya minum sakit kalo gak ga aja udah biar\n",
      "Cluster 6: perut sakit makan ya ga yg bikin kalo aja sampe gue udah gak jam gin\n",
      "Cluster 7: mules perut makan yg ga udah sakit aja bikin ya jam langsung banget gak gin\n",
      "Cluster 8: sakit perut yg ga makan obat gak ya kalo diare aja udah sampe nya minum\n",
      "Cluster 9: makan perut sakit pedes ga mules aja yg kalo diare udah ya gak langsung mencret\n",
      "\n",
      "Cluster 9\n",
      "#######################################################################\n",
      "Extracting features from the training dataset using a sparse vectorizer\n",
      "done in 0.120926s\n",
      "n_samples: 6787, n_features: 84\n",
      "\n",
      "Clustering sparse data with KMeans(algorithm='auto', copy_x=True, init='k-means++', max_iter=100,\n",
      "    n_clusters=9, n_init=1, n_jobs=1, precompute_distances='auto',\n",
      "    random_state=None, tol=0.0001, verbose=False)\n",
      "done in 0.461s\n",
      "\n",
      "Silhouette Coefficient: 0.141\n",
      "\n",
      "Top terms per cluster:\n",
      "Cluster 2: mencret sebab yg bakteri makan obat sakit ya minum gak kalo aja udah biar at\n",
      "Cluster 3: sakit perut yg makan obat ga gak ya kalo diare aja udah sampe nya minum\n",
      "Cluster 4: yg mules perut bikin sakit ya kalo gw gue aja makan gak nya tp diare\n",
      "Cluster 5: perut sakit ya bikin kalo ga sampe yg gak udah aja ketawa jam gue gin\n",
      "Cluster 6: mules perut udah makan ya bikin gak jam aja gin pas kalo sampe tidur langsung\n",
      "Cluster 7: pagi mules perut udah makan bangun minum jam yg kalo sampe sakit aja pas bikin\n",
      "Cluster 8: ga mules perut kalo yg aja sakit makan ya udah gue jam pas tp gw\n",
      "Cluster 9: makan perut sakit pedes mules aja ga kalo yg gak udah ya diare langsung abis\n",
      "Cluster 10: diare makan ya obat aja sakit udah yg gak ga kalo minum perut kena sampe\n",
      "\n",
      "Cluster 10\n",
      "#######################################################################\n",
      "Extracting features from the training dataset using a sparse vectorizer\n",
      "done in 0.153910s\n",
      "n_samples: 6787, n_features: 84\n",
      "\n",
      "Clustering sparse data with KMeans(algorithm='auto', copy_x=True, init='k-means++', max_iter=100,\n",
      "    n_clusters=10, n_init=1, n_jobs=1, precompute_distances='auto',\n",
      "    random_state=None, tol=0.0001, verbose=False)\n",
      "done in 0.313s\n",
      "\n",
      "Silhouette Coefficient: 0.161\n",
      "\n",
      "Top terms per cluster:\n",
      "Cluster 2: sakit perut yg ga ya bikin kalo sampe udah sebab gak aja pagi jam gue\n",
      "Cluster 3: mules perut pagi ga udah makan yg bikin aja jam kalo pas gak minum sampe\n",
      "Cluster 4: mencret makan yg kalo gak ga minum ya udah biar orang aja bikin sampe malam\n",
      "Cluster 5: ya mules perut ga kalo aja udah sakit gue gin yg makan jam gw gak\n",
      "Cluster 6: yg mules perut sakit diare ga kalo bikin makan ya lg gue aja nya tp\n",
      "Cluster 7: diare makan ga sakit aja ya udah gak yg minum kalo obat kena perut pagi\n",
      "Cluster 8: sakit perut makan obat nya kalo ya aja gak ga minum tau udah nahan yg\n",
      "Cluster 9: makan pedes mules perut ga aja diare kalo sakit udah yg langsung ya abis banget\n",
      "Cluster 10: makan perut sakit ga yg aja kalo pedes gak udah pagi ya gue enak biar\n",
      "Cluster 11: obat diare sakit mencret minum ya perut pas yg makan sampe si malam jd rumah\n",
      "\n"
     ]
    }
   ],
   "source": [
    "range_cluster = 11\n",
    "wcss = []\n",
    "for cluster in range(2, range_cluster):\n",
    "    print(\"Cluster \" + str(cluster))\n",
    "    print('#######################################################################')\n",
    "    print(\"Extracting features from the training dataset using a sparse vectorizer\")\n",
    "    t0 = time()\n",
    "    vectorizer = CountVectorizer(max_df=0.5, max_features=100, min_df=85)\n",
    "#     vectorizer = CountVectorizer()\n",
    "    X = vectorizer.fit_transform(corpora)\n",
    "\n",
    "    print(\"done in %fs\" % (time() - t0))\n",
    "    print(\"n_samples: %d, n_features: %d\" % X.shape)\n",
    "    print()\n",
    "\n",
    "    km = KMeans(n_clusters=cluster, init='k-means++', max_iter=100, n_init=1, verbose=False)\n",
    "\n",
    "    print(\"Clustering sparse data with %s\" % km)\n",
    "    t0 = time()\n",
    "    km.fit(X)\n",
    "    wcss.append(km.inertia_)\n",
    "    print(\"done in %0.3fs\" % (time() - t0))\n",
    "    print()\n",
    "\n",
    "    print(\"Silhouette Coefficient: %0.3f\" % metrics.silhouette_score(X, km.labels_, sample_size=1000))\n",
    "\n",
    "    print()\n",
    "\n",
    "    print(\"Top terms per cluster:\")\n",
    "    order_centroids = km.cluster_centers_.argsort()[:, ::-1]\n",
    "\n",
    "    terms = vectorizer.get_feature_names()\n",
    "    for i in range(cluster):\n",
    "        print(\"Cluster %s:\" % str(i+2), end='')\n",
    "        for ind in order_centroids[i, :15]:\n",
    "            print(' %s' % terms[ind], end='')\n",
    "        print()\n",
    "    print()"
   ]
  },
  {
   "cell_type": "code",
   "execution_count": 145,
   "metadata": {},
   "outputs": [
    {
     "data": {
      "image/png": "[encoded data removed]",
      "text/plain": [
       "<Figure size 432x288 with 1 Axes>"
      ]
     },
     "metadata": {},
     "output_type": "display_data"
    }
   ],
   "source": [
    "plt.plot(range(2, range_cluster), wcss)\n",
    "plt.title('Metode Elbow')\n",
    "plt.xlabel('Nilai k')\n",
    "plt.ylabel('Sum Squared Error')\n",
    "plt.show()"
   ]
  },
  {
   "cell_type": "code",
   "execution_count": 7,
   "metadata": {},
   "outputs": [
    {
     "name": "stdout",
     "output_type": "stream",
     "text": [
      "Cluster 3\n",
      "#######################################################################\n",
      "Extracting features from the training dataset using a sparse vectorizer\n",
      "done in 0.172904s\n",
      "n_samples: 6787, n_features: 84\n",
      "\n",
      "Clustering sparse data with KMeans(algorithm='auto', copy_x=True, init='k-means++', max_iter=100,\n",
      "    n_clusters=3, n_init=1, n_jobs=1, precompute_distances='auto',\n",
      "    random_state=None, tol=0.0001, verbose=False)\n",
      "done in 0.239s\n",
      "\n",
      "Silhouette Coefficient: 0.171\n",
      "\n",
      "Top terms per cluster:\n",
      "Cluster 2: mules diare mencret perut yg ga ya pagi udah kalo bikin aja gak minum pas\n",
      "Cluster 3: makan mules perut diare pedes ga aja sakit mencret yg udah ya pagi gak kalo\n",
      "Cluster 4: sakit perut yg makan ga ya bikin kalo aja udah gak sampe pagi diare gue\n",
      "\n"
     ]
    }
   ],
   "source": [
    "cluster = 3\n",
    "wcss = []\n",
    "print(\"Cluster \" + str(cluster))\n",
    "print('#######################################################################')\n",
    "print(\"Extracting features from the training dataset using a sparse vectorizer\")\n",
    "t0 = time()\n",
    "vectorizer = CountVectorizer(max_df=0.5, max_features=100, min_df=85)\n",
    "X = vectorizer.fit_transform(corpora)\n",
    "\n",
    "print(\"done in %fs\" % (time() - t0))\n",
    "print(\"n_samples: %d, n_features: %d\" % X.shape)\n",
    "print()\n",
    "\n",
    "km = KMeans(n_clusters=cluster, init='k-means++', max_iter=100, n_init=1, verbose=False)\n",
    "\n",
    "print(\"Clustering sparse data with %s\" % km)\n",
    "t0 = time()\n",
    "km.fit(X)\n",
    "wcss.append(km.inertia_)\n",
    "print(\"done in %0.3fs\" % (time() - t0))\n",
    "print()\n",
    "\n",
    "print(\"Silhouette Coefficient: %0.3f\" % metrics.silhouette_score(X, km.labels_, sample_size=1000))\n",
    "\n",
    "print()\n",
    "\n",
    "print(\"Top terms per cluster:\")\n",
    "order_centroids = km.cluster_centers_.argsort()[:, ::-1]\n",
    "\n",
    "terms = vectorizer.get_feature_names()\n",
    "for i in range(cluster):\n",
    "    print(\"Cluster %s:\" % str(i+2), end='')\n",
    "    for ind in order_centroids[i, :15]:\n",
    "        print(' %s' % terms[ind], end='')\n",
    "    print()\n",
    "print()"
   ]
  },
  {
   "cell_type": "code",
   "execution_count": 7,
   "metadata": {},
   "outputs": [],
   "source": [
    "cluster_result = []\n",
    "for r in data['result']:\n",
    "    cluster_result.append(km.predict(vectorizer.transform([r]))[0])"
   ]
  },
  {
   "cell_type": "code",
   "execution_count": 9,
   "metadata": {},
   "outputs": [
    {
     "data": {
      "text/html": [
       "<div>\n",
       "<style scoped>\n",
       "    .dataframe tbody tr th:only-of-type {\n",
       "        vertical-align: middle;\n",
       "    }\n",
       "\n",
       "    .dataframe tbody tr th {\n",
       "        vertical-align: top;\n",
       "    }\n",
       "\n",
       "    .dataframe thead th {\n",
       "        text-align: right;\n",
       "    }\n",
       "</style>\n",
       "<table border=\"1\" class=\"dataframe\">\n",
       "  <thead>\n",
       "    <tr style=\"text-align: right;\">\n",
       "      <th></th>\n",
       "      <th>username</th>\n",
       "      <th>date</th>\n",
       "      <th>time</th>\n",
       "      <th>text</th>\n",
       "      <th>tweetID</th>\n",
       "      <th>placeID</th>\n",
       "      <th>daerah</th>\n",
       "      <th>lokasi</th>\n",
       "      <th>longitude</th>\n",
       "      <th>latitude</th>\n",
       "      <th>result</th>\n",
       "      <th>cluster_result</th>\n",
       "    </tr>\n",
       "  </thead>\n",
       "  <tbody>\n",
       "    <tr>\n",
       "      <th>0</th>\n",
       "      <td>@AbdulIkromMukti</td>\n",
       "      <td>2018-01-01</td>\n",
       "      <td>17:22</td>\n",
       "      <td>Ntah ini gaya apa. Nahan bersin Nahan mules M...</td>\n",
       "      <td>9.477750e+17</td>\n",
       "      <td>2eb44917f4d6dddc</td>\n",
       "      <td>Cirebon Barat</td>\n",
       "      <td>Cirebon Barat Indonesia</td>\n",
       "      <td>108.539152</td>\n",
       "      <td>-6.719110</td>\n",
       "      <td>ntah gaya nahan bersin nahan mules muka kane m...</td>\n",
       "      <td>1</td>\n",
       "    </tr>\n",
       "    <tr>\n",
       "      <th>1</th>\n",
       "      <td>@nengnurlaela21</td>\n",
       "      <td>2018-01-01</td>\n",
       "      <td>18:36</td>\n",
       "      <td>get well soon Kak Dori   masih di Sukabumi ka...</td>\n",
       "      <td>9.477940e+17</td>\n",
       "      <td>8b2c9342507e86d3</td>\n",
       "      <td>Baros</td>\n",
       "      <td>Baros Indonesia</td>\n",
       "      <td>106.928706</td>\n",
       "      <td>-6.946683</td>\n",
       "      <td>get well soon kak dor sukabumi kak niat ken sa...</td>\n",
       "      <td>0</td>\n",
       "    </tr>\n",
       "    <tr>\n",
       "      <th>2</th>\n",
       "      <td>@_sulistiyowati_</td>\n",
       "      <td>2018-01-01</td>\n",
       "      <td>19:57</td>\n",
       "      <td>Awalnya pening doang berhari-hari. Terus dema...</td>\n",
       "      <td>9.478140e+17</td>\n",
       "      <td>dc83e4ea9c950d75</td>\n",
       "      <td>Labuhan Maringgai</td>\n",
       "      <td>Labuhan Maringgai Indonesia</td>\n",
       "      <td>105.811806</td>\n",
       "      <td>-5.342388</td>\n",
       "      <td>pening doang hari demam diare lemes kapar</td>\n",
       "      <td>2</td>\n",
       "    </tr>\n",
       "    <tr>\n",
       "      <th>3</th>\n",
       "      <td>@rundraj</td>\n",
       "      <td>2018-01-01</td>\n",
       "      <td>13:39</td>\n",
       "      <td>Sing seneng akeh  sing mules merga mburi ngom...</td>\n",
       "      <td>9.477190e+17</td>\n",
       "      <td>c4397d8c10325af5</td>\n",
       "      <td>Kasihan</td>\n",
       "      <td>Kasihan Indonesia</td>\n",
       "      <td>110.333619</td>\n",
       "      <td>-7.814739</td>\n",
       "      <td>sing neng akeh sing mules merga mburi ngomah k...</td>\n",
       "      <td>1</td>\n",
       "    </tr>\n",
       "    <tr>\n",
       "      <th>4</th>\n",
       "      <td>@fitryfee3</td>\n",
       "      <td>2018-01-01</td>\n",
       "      <td>11:55</td>\n",
       "      <td>Maag kumat sejak kemarin  hasilnya diare. Mul...</td>\n",
       "      <td>9.476930e+17</td>\n",
       "      <td>420f122b6bea262c</td>\n",
       "      <td>Lemahabang</td>\n",
       "      <td>Lemahabang Indonesia</td>\n",
       "      <td>107.184287</td>\n",
       "      <td>-6.297686</td>\n",
       "      <td>maag kumat kemarin hasil diare mules plus my p...</td>\n",
       "      <td>1</td>\n",
       "    </tr>\n",
       "  </tbody>\n",
       "</table>\n",
       "</div>"
      ],
      "text/plain": [
       "           username         date    time  \\\n",
       "0  @AbdulIkromMukti   2018-01-01   17:22   \n",
       "1   @nengnurlaela21   2018-01-01   18:36   \n",
       "2  @_sulistiyowati_   2018-01-01   19:57   \n",
       "3          @rundraj   2018-01-01   13:39   \n",
       "4        @fitryfee3   2018-01-01   11:55   \n",
       "\n",
       "                                                text       tweetID  \\\n",
       "0   Ntah ini gaya apa. Nahan bersin Nahan mules M...  9.477750e+17   \n",
       "1   get well soon Kak Dori   masih di Sukabumi ka...  9.477940e+17   \n",
       "2   Awalnya pening doang berhari-hari. Terus dema...  9.478140e+17   \n",
       "3   Sing seneng akeh  sing mules merga mburi ngom...  9.477190e+17   \n",
       "4   Maag kumat sejak kemarin  hasilnya diare. Mul...  9.476930e+17   \n",
       "\n",
       "             placeID              daerah                        lokasi  \\\n",
       "0   2eb44917f4d6dddc       Cirebon Barat       Cirebon Barat Indonesia   \n",
       "1   8b2c9342507e86d3               Baros               Baros Indonesia   \n",
       "2   dc83e4ea9c950d75   Labuhan Maringgai   Labuhan Maringgai Indonesia   \n",
       "3   c4397d8c10325af5             Kasihan             Kasihan Indonesia   \n",
       "4   420f122b6bea262c          Lemahabang          Lemahabang Indonesia   \n",
       "\n",
       "    longitude  latitude                                             result  \\\n",
       "0  108.539152 -6.719110  ntah gaya nahan bersin nahan mules muka kane m...   \n",
       "1  106.928706 -6.946683  get well soon kak dor sukabumi kak niat ken sa...   \n",
       "2  105.811806 -5.342388          pening doang hari demam diare lemes kapar   \n",
       "3  110.333619 -7.814739  sing neng akeh sing mules merga mburi ngomah k...   \n",
       "4  107.184287 -6.297686  maag kumat kemarin hasil diare mules plus my p...   \n",
       "\n",
       "   cluster_result  \n",
       "0               1  \n",
       "1               0  \n",
       "2               2  \n",
       "3               1  \n",
       "4               1  "
      ]
     },
     "execution_count": 9,
     "metadata": {},
     "output_type": "execute_result"
    }
   ],
   "source": [
    "data['cluster_result'] = cluster_result\n",
    "data.head()"
   ]
  },
  {
   "cell_type": "code",
   "execution_count": 10,
   "metadata": {},
   "outputs": [],
   "source": [
    "data.to_csv('./clustering_result.csv')"
   ]
  },
  {
   "cell_type": "code",
   "execution_count": null,
   "metadata": {},
   "outputs": [],
   "source": []
  }
 ],
 "metadata": {
  "celltoolbar": "Slideshow",
  "kernelspec": {
   "display_name": "Python 3",
   "language": "python",
   "name": "python3"
  },
  "language_info": {
   "codemirror_mode": {
    "name": "ipython",
    "version": 3
   },
   "file_extension": ".py",
   "mimetype": "text/x-python",
   "name": "python",
   "nbconvert_exporter": "python",
   "pygments_lexer": "ipython3",
   "version": "3.6.5"
  }
 },
 "nbformat": 4,
 "nbformat_minor": 2
}
