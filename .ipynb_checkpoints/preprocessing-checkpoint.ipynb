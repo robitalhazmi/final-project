{
 "cells": [
  {
   "cell_type": "markdown",
   "metadata": {
    "slideshow": {
     "slide_type": "slide"
    }
   },
   "source": [
    "# Data Teks Twitter Penyakit Menular 2018"
   ]
  },
  {
   "cell_type": "code",
   "execution_count": 2,
   "metadata": {
    "slideshow": {
     "slide_type": "skip"
    }
   },
   "outputs": [],
   "source": [
    "import pandas as pd"
   ]
  },
  {
   "cell_type": "code",
   "execution_count": 3,
   "metadata": {
    "slideshow": {
     "slide_type": "skip"
    }
   },
   "outputs": [
    {
     "name": "stdout",
     "output_type": "stream",
     "text": [
      "361610\n"
     ]
    }
   ],
   "source": [
    "pm = pd.read_csv('./data/pm 2018.csv').sort_values(by=\"date\")\n",
    "print(pm.shape[0])"
   ]
  },
  {
   "cell_type": "code",
   "execution_count": 4,
   "metadata": {
    "slideshow": {
     "slide_type": "slide"
    }
   },
   "outputs": [
    {
     "data": {
      "text/html": [
       "<div>\n",
       "<style scoped>\n",
       "    .dataframe tbody tr th:only-of-type {\n",
       "        vertical-align: middle;\n",
       "    }\n",
       "\n",
       "    .dataframe tbody tr th {\n",
       "        vertical-align: top;\n",
       "    }\n",
       "\n",
       "    .dataframe thead th {\n",
       "        text-align: right;\n",
       "    }\n",
       "</style>\n",
       "<table border=\"1\" class=\"dataframe\">\n",
       "  <thead>\n",
       "    <tr style=\"text-align: right;\">\n",
       "      <th></th>\n",
       "      <th>username</th>\n",
       "      <th>date</th>\n",
       "      <th>time</th>\n",
       "      <th>text</th>\n",
       "      <th>tweetID</th>\n",
       "      <th>placeID</th>\n",
       "      <th>daerah</th>\n",
       "      <th>lokasi</th>\n",
       "      <th>longitude</th>\n",
       "      <th>latitude</th>\n",
       "    </tr>\n",
       "  </thead>\n",
       "  <tbody>\n",
       "    <tr>\n",
       "      <th>10745</th>\n",
       "      <td>@lk_lovegood</td>\n",
       "      <td>2018-01-01</td>\n",
       "      <td>13:11</td>\n",
       "      <td>sakit perut nat</td>\n",
       "      <td>947711820948635649</td>\n",
       "      <td></td>\n",
       "      <td></td>\n",
       "      <td></td>\n",
       "      <td></td>\n",
       "      <td></td>\n",
       "    </tr>\n",
       "    <tr>\n",
       "      <th>10810</th>\n",
       "      <td>@wiki019</td>\n",
       "      <td>2018-01-01</td>\n",
       "      <td>11:31</td>\n",
       "      <td>X bestnya ride sakit perut ni</td>\n",
       "      <td>947686662766596098</td>\n",
       "      <td></td>\n",
       "      <td></td>\n",
       "      <td></td>\n",
       "      <td></td>\n",
       "      <td></td>\n",
       "    </tr>\n",
       "    <tr>\n",
       "      <th>10811</th>\n",
       "      <td>@joungkoo</td>\n",
       "      <td>2018-01-01</td>\n",
       "      <td>11:30</td>\n",
       "      <td>Mencret lu? Diare tuh</td>\n",
       "      <td>947686539198218240</td>\n",
       "      <td></td>\n",
       "      <td></td>\n",
       "      <td></td>\n",
       "      <td></td>\n",
       "      <td></td>\n",
       "    </tr>\n",
       "    <tr>\n",
       "      <th>10812</th>\n",
       "      <td>@hanshohoho</td>\n",
       "      <td>2018-01-01</td>\n",
       "      <td>11:29</td>\n",
       "      <td>Sakit perut damar. Gara2 makan baso. Hehe</td>\n",
       "      <td>947686252228231168</td>\n",
       "      <td></td>\n",
       "      <td></td>\n",
       "      <td></td>\n",
       "      <td></td>\n",
       "      <td></td>\n",
       "    </tr>\n",
       "    <tr>\n",
       "      <th>10813</th>\n",
       "      <td>@doubleofme</td>\n",
       "      <td>2018-01-01</td>\n",
       "      <td>11:28</td>\n",
       "      <td>Sakit perut pulak makan nasi lemak pagi tadi.</td>\n",
       "      <td>947685963790041088</td>\n",
       "      <td></td>\n",
       "      <td></td>\n",
       "      <td></td>\n",
       "      <td></td>\n",
       "      <td></td>\n",
       "    </tr>\n",
       "  </tbody>\n",
       "</table>\n",
       "</div>"
      ],
      "text/plain": [
       "           username         date    time  \\\n",
       "10745  @lk_lovegood   2018-01-01   13:11   \n",
       "10810      @wiki019   2018-01-01   11:31   \n",
       "10811     @joungkoo   2018-01-01   11:30   \n",
       "10812   @hanshohoho   2018-01-01   11:29   \n",
       "10813   @doubleofme   2018-01-01   11:28   \n",
       "\n",
       "                                                  text             tweetID  \\\n",
       "10745                                  sakit perut nat  947711820948635649   \n",
       "10810                    X bestnya ride sakit perut ni  947686662766596098   \n",
       "10811                            Mencret lu? Diare tuh  947686539198218240   \n",
       "10812        Sakit perut damar. Gara2 makan baso. Hehe  947686252228231168   \n",
       "10813   Sakit perut pulak makan nasi lemak pagi tadi.   947685963790041088   \n",
       "\n",
       "      placeID daerah lokasi longitude latitude  \n",
       "10745                                           \n",
       "10810                                           \n",
       "10811                                           \n",
       "10812                                           \n",
       "10813                                           "
      ]
     },
     "execution_count": 4,
     "metadata": {},
     "output_type": "execute_result"
    }
   ],
   "source": [
    "pm.head()"
   ]
  },
  {
   "cell_type": "markdown",
   "metadata": {
    "slideshow": {
     "slide_type": "slide"
    }
   },
   "source": [
    "# Data dengan Geolokasi"
   ]
  },
  {
   "cell_type": "code",
   "execution_count": 5,
   "metadata": {
    "slideshow": {
     "slide_type": "slide"
    }
   },
   "outputs": [
    {
     "name": "stdout",
     "output_type": "stream",
     "text": [
      "14722\n"
     ]
    }
   ],
   "source": [
    "pm_geo = pm[pm['placeID'] != ' '].sort_values(by=\"date\")\n",
    "print(pm_geo.shape[0])"
   ]
  },
  {
   "cell_type": "code",
   "execution_count": 6,
   "metadata": {
    "slideshow": {
     "slide_type": "slide"
    }
   },
   "outputs": [
    {
     "data": {
      "text/html": [
       "<div>\n",
       "<style scoped>\n",
       "    .dataframe tbody tr th:only-of-type {\n",
       "        vertical-align: middle;\n",
       "    }\n",
       "\n",
       "    .dataframe tbody tr th {\n",
       "        vertical-align: top;\n",
       "    }\n",
       "\n",
       "    .dataframe thead th {\n",
       "        text-align: right;\n",
       "    }\n",
       "</style>\n",
       "<table border=\"1\" class=\"dataframe\">\n",
       "  <thead>\n",
       "    <tr style=\"text-align: right;\">\n",
       "      <th></th>\n",
       "      <th>username</th>\n",
       "      <th>date</th>\n",
       "      <th>time</th>\n",
       "      <th>text</th>\n",
       "      <th>tweetID</th>\n",
       "      <th>placeID</th>\n",
       "      <th>daerah</th>\n",
       "      <th>lokasi</th>\n",
       "      <th>longitude</th>\n",
       "      <th>latitude</th>\n",
       "    </tr>\n",
       "  </thead>\n",
       "  <tbody>\n",
       "    <tr>\n",
       "      <th>10356</th>\n",
       "      <td>@syahmie9000</td>\n",
       "      <td>2018-01-01</td>\n",
       "      <td>22:58</td>\n",
       "      <td>sakit perut ni nk tido dh slow2</td>\n",
       "      <td>947859547963584514</td>\n",
       "      <td>bfd31bd14b32e206</td>\n",
       "      <td>Kuala Nerus</td>\n",
       "      <td>Kuala Nerus Terengganu</td>\n",
       "      <td>103.05502109247088</td>\n",
       "      <td>5.3675648</td>\n",
       "    </tr>\n",
       "    <tr>\n",
       "      <th>10742</th>\n",
       "      <td>@Mizan_Amran</td>\n",
       "      <td>2018-01-01</td>\n",
       "      <td>13:16</td>\n",
       "      <td>Teda juga makan yg nda patut  sakit perut tau</td>\n",
       "      <td>947713107207401472</td>\n",
       "      <td>7b02fbddf4d9f2c6</td>\n",
       "      <td>Bandar Kuala Lumpur</td>\n",
       "      <td>Bandar Kuala Lumpur Wilayah Persekutuan Kuala...</td>\n",
       "      <td>101.70353513023889</td>\n",
       "      <td>3.1485306499999997</td>\n",
       "    </tr>\n",
       "    <tr>\n",
       "      <th>10631</th>\n",
       "      <td>@AbdulIkromMukti</td>\n",
       "      <td>2018-01-01</td>\n",
       "      <td>17:22</td>\n",
       "      <td>Ntah ini gaya apa. Nahan bersin Nahan mules M...</td>\n",
       "      <td>947775136970797056</td>\n",
       "      <td>2eb44917f4d6dddc</td>\n",
       "      <td>Cirebon Barat</td>\n",
       "      <td>Cirebon Barat Indonesia</td>\n",
       "      <td>108.53915156648996</td>\n",
       "      <td>-6.7191105</td>\n",
       "    </tr>\n",
       "    <tr>\n",
       "      <th>10604</th>\n",
       "      <td>@nengnurlaela21</td>\n",
       "      <td>2018-01-01</td>\n",
       "      <td>18:36</td>\n",
       "      <td>get well soon Kak Dori   masih di Sukabumi ka...</td>\n",
       "      <td>947793618315522048</td>\n",
       "      <td>8b2c9342507e86d3</td>\n",
       "      <td>Baros</td>\n",
       "      <td>Baros Indonesia</td>\n",
       "      <td>106.92870584765362</td>\n",
       "      <td>-6.946683</td>\n",
       "    </tr>\n",
       "    <tr>\n",
       "      <th>10540</th>\n",
       "      <td>@_sulistiyowati_</td>\n",
       "      <td>2018-01-01</td>\n",
       "      <td>19:57</td>\n",
       "      <td>Awalnya pening doang berhari-hari. Terus dema...</td>\n",
       "      <td>947813927059988481</td>\n",
       "      <td>dc83e4ea9c950d75</td>\n",
       "      <td>Labuhan Maringgai</td>\n",
       "      <td>Labuhan Maringgai Indonesia</td>\n",
       "      <td>105.81180643124533</td>\n",
       "      <td>-5.342388</td>\n",
       "    </tr>\n",
       "  </tbody>\n",
       "</table>\n",
       "</div>"
      ],
      "text/plain": [
       "               username         date    time  \\\n",
       "10356      @syahmie9000   2018-01-01   22:58   \n",
       "10742      @Mizan_Amran   2018-01-01   13:16   \n",
       "10631  @AbdulIkromMukti   2018-01-01   17:22   \n",
       "10604   @nengnurlaela21   2018-01-01   18:36   \n",
       "10540  @_sulistiyowati_   2018-01-01   19:57   \n",
       "\n",
       "                                                    text             tweetID  \\\n",
       "10356                    sakit perut ni nk tido dh slow2  947859547963584514   \n",
       "10742      Teda juga makan yg nda patut  sakit perut tau  947713107207401472   \n",
       "10631   Ntah ini gaya apa. Nahan bersin Nahan mules M...  947775136970797056   \n",
       "10604   get well soon Kak Dori   masih di Sukabumi ka...  947793618315522048   \n",
       "10540   Awalnya pening doang berhari-hari. Terus dema...  947813927059988481   \n",
       "\n",
       "                 placeID                daerah  \\\n",
       "10356   bfd31bd14b32e206           Kuala Nerus   \n",
       "10742   7b02fbddf4d9f2c6   Bandar Kuala Lumpur   \n",
       "10631   2eb44917f4d6dddc         Cirebon Barat   \n",
       "10604   8b2c9342507e86d3                 Baros   \n",
       "10540   dc83e4ea9c950d75     Labuhan Maringgai   \n",
       "\n",
       "                                                  lokasi            longitude  \\\n",
       "10356                             Kuala Nerus Terengganu   103.05502109247088   \n",
       "10742   Bandar Kuala Lumpur Wilayah Persekutuan Kuala...   101.70353513023889   \n",
       "10631                            Cirebon Barat Indonesia   108.53915156648996   \n",
       "10604                                    Baros Indonesia   106.92870584765362   \n",
       "10540                        Labuhan Maringgai Indonesia   105.81180643124533   \n",
       "\n",
       "                  latitude  \n",
       "10356            5.3675648  \n",
       "10742   3.1485306499999997  \n",
       "10631           -6.7191105  \n",
       "10604            -6.946683  \n",
       "10540            -5.342388  "
      ]
     },
     "execution_count": 6,
     "metadata": {},
     "output_type": "execute_result"
    }
   ],
   "source": [
    "pm_geo.head()"
   ]
  },
  {
   "cell_type": "markdown",
   "metadata": {
    "slideshow": {
     "slide_type": "slide"
    }
   },
   "source": [
    "# Data Tanpa Duplikat"
   ]
  },
  {
   "cell_type": "code",
   "execution_count": 7,
   "metadata": {
    "slideshow": {
     "slide_type": "slide"
    }
   },
   "outputs": [
    {
     "name": "stdout",
     "output_type": "stream",
     "text": [
      "14127\n"
     ]
    }
   ],
   "source": [
    "pm_geo_drop = pm_geo.drop_duplicates()\n",
    "print(pm_geo_drop.shape[0])"
   ]
  },
  {
   "cell_type": "code",
   "execution_count": 8,
   "metadata": {
    "slideshow": {
     "slide_type": "slide"
    }
   },
   "outputs": [
    {
     "data": {
      "text/html": [
       "<div>\n",
       "<style scoped>\n",
       "    .dataframe tbody tr th:only-of-type {\n",
       "        vertical-align: middle;\n",
       "    }\n",
       "\n",
       "    .dataframe tbody tr th {\n",
       "        vertical-align: top;\n",
       "    }\n",
       "\n",
       "    .dataframe thead th {\n",
       "        text-align: right;\n",
       "    }\n",
       "</style>\n",
       "<table border=\"1\" class=\"dataframe\">\n",
       "  <thead>\n",
       "    <tr style=\"text-align: right;\">\n",
       "      <th></th>\n",
       "      <th>username</th>\n",
       "      <th>date</th>\n",
       "      <th>time</th>\n",
       "      <th>text</th>\n",
       "      <th>tweetID</th>\n",
       "      <th>placeID</th>\n",
       "      <th>daerah</th>\n",
       "      <th>lokasi</th>\n",
       "      <th>longitude</th>\n",
       "      <th>latitude</th>\n",
       "    </tr>\n",
       "  </thead>\n",
       "  <tbody>\n",
       "    <tr>\n",
       "      <th>10356</th>\n",
       "      <td>@syahmie9000</td>\n",
       "      <td>2018-01-01</td>\n",
       "      <td>22:58</td>\n",
       "      <td>sakit perut ni nk tido dh slow2</td>\n",
       "      <td>947859547963584514</td>\n",
       "      <td>bfd31bd14b32e206</td>\n",
       "      <td>Kuala Nerus</td>\n",
       "      <td>Kuala Nerus Terengganu</td>\n",
       "      <td>103.05502109247088</td>\n",
       "      <td>5.3675648</td>\n",
       "    </tr>\n",
       "    <tr>\n",
       "      <th>10742</th>\n",
       "      <td>@Mizan_Amran</td>\n",
       "      <td>2018-01-01</td>\n",
       "      <td>13:16</td>\n",
       "      <td>Teda juga makan yg nda patut  sakit perut tau</td>\n",
       "      <td>947713107207401472</td>\n",
       "      <td>7b02fbddf4d9f2c6</td>\n",
       "      <td>Bandar Kuala Lumpur</td>\n",
       "      <td>Bandar Kuala Lumpur Wilayah Persekutuan Kuala...</td>\n",
       "      <td>101.70353513023889</td>\n",
       "      <td>3.1485306499999997</td>\n",
       "    </tr>\n",
       "    <tr>\n",
       "      <th>10631</th>\n",
       "      <td>@AbdulIkromMukti</td>\n",
       "      <td>2018-01-01</td>\n",
       "      <td>17:22</td>\n",
       "      <td>Ntah ini gaya apa. Nahan bersin Nahan mules M...</td>\n",
       "      <td>947775136970797056</td>\n",
       "      <td>2eb44917f4d6dddc</td>\n",
       "      <td>Cirebon Barat</td>\n",
       "      <td>Cirebon Barat Indonesia</td>\n",
       "      <td>108.53915156648996</td>\n",
       "      <td>-6.7191105</td>\n",
       "    </tr>\n",
       "    <tr>\n",
       "      <th>10604</th>\n",
       "      <td>@nengnurlaela21</td>\n",
       "      <td>2018-01-01</td>\n",
       "      <td>18:36</td>\n",
       "      <td>get well soon Kak Dori   masih di Sukabumi ka...</td>\n",
       "      <td>947793618315522048</td>\n",
       "      <td>8b2c9342507e86d3</td>\n",
       "      <td>Baros</td>\n",
       "      <td>Baros Indonesia</td>\n",
       "      <td>106.92870584765362</td>\n",
       "      <td>-6.946683</td>\n",
       "    </tr>\n",
       "    <tr>\n",
       "      <th>10540</th>\n",
       "      <td>@_sulistiyowati_</td>\n",
       "      <td>2018-01-01</td>\n",
       "      <td>19:57</td>\n",
       "      <td>Awalnya pening doang berhari-hari. Terus dema...</td>\n",
       "      <td>947813927059988481</td>\n",
       "      <td>dc83e4ea9c950d75</td>\n",
       "      <td>Labuhan Maringgai</td>\n",
       "      <td>Labuhan Maringgai Indonesia</td>\n",
       "      <td>105.81180643124533</td>\n",
       "      <td>-5.342388</td>\n",
       "    </tr>\n",
       "  </tbody>\n",
       "</table>\n",
       "</div>"
      ],
      "text/plain": [
       "               username         date    time  \\\n",
       "10356      @syahmie9000   2018-01-01   22:58   \n",
       "10742      @Mizan_Amran   2018-01-01   13:16   \n",
       "10631  @AbdulIkromMukti   2018-01-01   17:22   \n",
       "10604   @nengnurlaela21   2018-01-01   18:36   \n",
       "10540  @_sulistiyowati_   2018-01-01   19:57   \n",
       "\n",
       "                                                    text             tweetID  \\\n",
       "10356                    sakit perut ni nk tido dh slow2  947859547963584514   \n",
       "10742      Teda juga makan yg nda patut  sakit perut tau  947713107207401472   \n",
       "10631   Ntah ini gaya apa. Nahan bersin Nahan mules M...  947775136970797056   \n",
       "10604   get well soon Kak Dori   masih di Sukabumi ka...  947793618315522048   \n",
       "10540   Awalnya pening doang berhari-hari. Terus dema...  947813927059988481   \n",
       "\n",
       "                 placeID                daerah  \\\n",
       "10356   bfd31bd14b32e206           Kuala Nerus   \n",
       "10742   7b02fbddf4d9f2c6   Bandar Kuala Lumpur   \n",
       "10631   2eb44917f4d6dddc         Cirebon Barat   \n",
       "10604   8b2c9342507e86d3                 Baros   \n",
       "10540   dc83e4ea9c950d75     Labuhan Maringgai   \n",
       "\n",
       "                                                  lokasi            longitude  \\\n",
       "10356                             Kuala Nerus Terengganu   103.05502109247088   \n",
       "10742   Bandar Kuala Lumpur Wilayah Persekutuan Kuala...   101.70353513023889   \n",
       "10631                            Cirebon Barat Indonesia   108.53915156648996   \n",
       "10604                                    Baros Indonesia   106.92870584765362   \n",
       "10540                        Labuhan Maringgai Indonesia   105.81180643124533   \n",
       "\n",
       "                  latitude  \n",
       "10356            5.3675648  \n",
       "10742   3.1485306499999997  \n",
       "10631           -6.7191105  \n",
       "10604            -6.946683  \n",
       "10540            -5.342388  "
      ]
     },
     "execution_count": 8,
     "metadata": {},
     "output_type": "execute_result"
    }
   ],
   "source": [
    "pm_geo_drop.head()"
   ]
  },
  {
   "cell_type": "markdown",
   "metadata": {
    "slideshow": {
     "slide_type": "slide"
    }
   },
   "source": [
    "# Data Lokasi Indonesia"
   ]
  },
  {
   "cell_type": "code",
   "execution_count": 9,
   "metadata": {
    "slideshow": {
     "slide_type": "slide"
    }
   },
   "outputs": [
    {
     "data": {
      "text/plain": [
       "(6787, 10)"
      ]
     },
     "execution_count": 9,
     "metadata": {},
     "output_type": "execute_result"
    }
   ],
   "source": [
    "pm_id = pm_geo_drop[pm_geo_drop[\"lokasi\"].str.contains(\"Indonesia|Jawa|Sulawesi|Yogyakarta|Jambi|Gorontalo|Banten|Jakarta|Riau|Sumatera|Kampung kandang|Menteng|Maumere|D 1537 OO|Manado|Sekolah Kartini|Bumi tamalanrea|Bogor|Gramedia|Gilimanuk|Bendungan hilir|Nusa Tenggara|Toilet|Cianjur|juanda|Fakultas Ekonomi|UNDIP|Cikunir|cibitung|tinjomoyo|Meruya|KFC|Terminal 2|Dinas Pekerjaan|Rumah Makeupuccino|The Danted Mencret|Sekumpul|Cipaganti|Ronggowarsito|Pakem|Tugel|Aceh|RS UIN|Dago|Lampung|Pizza|Oseng|Sudirman|Bintaro|Malioboro|IGD|ITB|Majalengka|Sanggar Agung|Globalresourcestrader|Sarangan\")].reset_index(drop=True)\n",
    "pm_id.shape"
   ]
  },
  {
   "cell_type": "code",
   "execution_count": 10,
   "metadata": {
    "slideshow": {
     "slide_type": "slide"
    }
   },
   "outputs": [
    {
     "data": {
      "text/html": [
       "<div>\n",
       "<style scoped>\n",
       "    .dataframe tbody tr th:only-of-type {\n",
       "        vertical-align: middle;\n",
       "    }\n",
       "\n",
       "    .dataframe tbody tr th {\n",
       "        vertical-align: top;\n",
       "    }\n",
       "\n",
       "    .dataframe thead th {\n",
       "        text-align: right;\n",
       "    }\n",
       "</style>\n",
       "<table border=\"1\" class=\"dataframe\">\n",
       "  <thead>\n",
       "    <tr style=\"text-align: right;\">\n",
       "      <th></th>\n",
       "      <th>username</th>\n",
       "      <th>date</th>\n",
       "      <th>time</th>\n",
       "      <th>text</th>\n",
       "      <th>tweetID</th>\n",
       "      <th>placeID</th>\n",
       "      <th>daerah</th>\n",
       "      <th>lokasi</th>\n",
       "      <th>longitude</th>\n",
       "      <th>latitude</th>\n",
       "    </tr>\n",
       "  </thead>\n",
       "  <tbody>\n",
       "    <tr>\n",
       "      <th>0</th>\n",
       "      <td>@AbdulIkromMukti</td>\n",
       "      <td>2018-01-01</td>\n",
       "      <td>17:22</td>\n",
       "      <td>Ntah ini gaya apa. Nahan bersin Nahan mules M...</td>\n",
       "      <td>947775136970797056</td>\n",
       "      <td>2eb44917f4d6dddc</td>\n",
       "      <td>Cirebon Barat</td>\n",
       "      <td>Cirebon Barat Indonesia</td>\n",
       "      <td>108.53915156648996</td>\n",
       "      <td>-6.7191105</td>\n",
       "    </tr>\n",
       "    <tr>\n",
       "      <th>1</th>\n",
       "      <td>@nengnurlaela21</td>\n",
       "      <td>2018-01-01</td>\n",
       "      <td>18:36</td>\n",
       "      <td>get well soon Kak Dori   masih di Sukabumi ka...</td>\n",
       "      <td>947793618315522048</td>\n",
       "      <td>8b2c9342507e86d3</td>\n",
       "      <td>Baros</td>\n",
       "      <td>Baros Indonesia</td>\n",
       "      <td>106.92870584765362</td>\n",
       "      <td>-6.946683</td>\n",
       "    </tr>\n",
       "    <tr>\n",
       "      <th>2</th>\n",
       "      <td>@_sulistiyowati_</td>\n",
       "      <td>2018-01-01</td>\n",
       "      <td>19:57</td>\n",
       "      <td>Awalnya pening doang berhari-hari. Terus dema...</td>\n",
       "      <td>947813927059988481</td>\n",
       "      <td>dc83e4ea9c950d75</td>\n",
       "      <td>Labuhan Maringgai</td>\n",
       "      <td>Labuhan Maringgai Indonesia</td>\n",
       "      <td>105.81180643124533</td>\n",
       "      <td>-5.342388</td>\n",
       "    </tr>\n",
       "    <tr>\n",
       "      <th>3</th>\n",
       "      <td>@rundraj</td>\n",
       "      <td>2018-01-01</td>\n",
       "      <td>13:39</td>\n",
       "      <td>Sing seneng akeh  sing mules merga mburi ngom...</td>\n",
       "      <td>947719008975015936</td>\n",
       "      <td>c4397d8c10325af5</td>\n",
       "      <td>Kasihan</td>\n",
       "      <td>Kasihan Indonesia</td>\n",
       "      <td>110.33361932383802</td>\n",
       "      <td>-7.814738999999999</td>\n",
       "    </tr>\n",
       "    <tr>\n",
       "      <th>4</th>\n",
       "      <td>@fitryfee3</td>\n",
       "      <td>2018-01-01</td>\n",
       "      <td>11:55</td>\n",
       "      <td>Maag kumat sejak kemarin  hasilnya diare. Mul...</td>\n",
       "      <td>947692732536971264</td>\n",
       "      <td>420f122b6bea262c</td>\n",
       "      <td>Lemahabang</td>\n",
       "      <td>Lemahabang Indonesia</td>\n",
       "      <td>107.18428703876046</td>\n",
       "      <td>-6.2976855</td>\n",
       "    </tr>\n",
       "  </tbody>\n",
       "</table>\n",
       "</div>"
      ],
      "text/plain": [
       "           username         date    time  \\\n",
       "0  @AbdulIkromMukti   2018-01-01   17:22   \n",
       "1   @nengnurlaela21   2018-01-01   18:36   \n",
       "2  @_sulistiyowati_   2018-01-01   19:57   \n",
       "3          @rundraj   2018-01-01   13:39   \n",
       "4        @fitryfee3   2018-01-01   11:55   \n",
       "\n",
       "                                                text             tweetID  \\\n",
       "0   Ntah ini gaya apa. Nahan bersin Nahan mules M...  947775136970797056   \n",
       "1   get well soon Kak Dori   masih di Sukabumi ka...  947793618315522048   \n",
       "2   Awalnya pening doang berhari-hari. Terus dema...  947813927059988481   \n",
       "3   Sing seneng akeh  sing mules merga mburi ngom...  947719008975015936   \n",
       "4   Maag kumat sejak kemarin  hasilnya diare. Mul...  947692732536971264   \n",
       "\n",
       "             placeID              daerah                        lokasi  \\\n",
       "0   2eb44917f4d6dddc       Cirebon Barat       Cirebon Barat Indonesia   \n",
       "1   8b2c9342507e86d3               Baros               Baros Indonesia   \n",
       "2   dc83e4ea9c950d75   Labuhan Maringgai   Labuhan Maringgai Indonesia   \n",
       "3   c4397d8c10325af5             Kasihan             Kasihan Indonesia   \n",
       "4   420f122b6bea262c          Lemahabang          Lemahabang Indonesia   \n",
       "\n",
       "             longitude             latitude  \n",
       "0   108.53915156648996           -6.7191105  \n",
       "1   106.92870584765362            -6.946683  \n",
       "2   105.81180643124533            -5.342388  \n",
       "3   110.33361932383802   -7.814738999999999  \n",
       "4   107.18428703876046           -6.2976855  "
      ]
     },
     "execution_count": 10,
     "metadata": {},
     "output_type": "execute_result"
    }
   ],
   "source": [
    "pm_id.head()"
   ]
  },
  {
   "cell_type": "code",
   "execution_count": 14,
   "metadata": {},
   "outputs": [],
   "source": [
    "import matplotlib.pyplot as plt; \n",
    "plt.rcdefaults()\n",
    "import numpy as np\n",
    "import matplotlib.pyplot as plt"
   ]
  },
  {
   "cell_type": "code",
   "execution_count": 15,
   "metadata": {
    "slideshow": {
     "slide_type": "slide"
    }
   },
   "outputs": [
    {
     "data": {
      "text/html": [
       "<div>\n",
       "<style scoped>\n",
       "    .dataframe tbody tr th:only-of-type {\n",
       "        vertical-align: middle;\n",
       "    }\n",
       "\n",
       "    .dataframe tbody tr th {\n",
       "        vertical-align: top;\n",
       "    }\n",
       "\n",
       "    .dataframe thead th {\n",
       "        text-align: right;\n",
       "    }\n",
       "</style>\n",
       "<table border=\"1\" class=\"dataframe\">\n",
       "  <thead>\n",
       "    <tr style=\"text-align: right;\">\n",
       "      <th></th>\n",
       "      <th>data</th>\n",
       "      <th>freq</th>\n",
       "    </tr>\n",
       "  </thead>\n",
       "  <tbody>\n",
       "    <tr>\n",
       "      <th>0</th>\n",
       "      <td>Total</td>\n",
       "      <td>361610</td>\n",
       "    </tr>\n",
       "    <tr>\n",
       "      <th>1</th>\n",
       "      <td>Geolocation</td>\n",
       "      <td>14722</td>\n",
       "    </tr>\n",
       "    <tr>\n",
       "      <th>2</th>\n",
       "      <td>Identic</td>\n",
       "      <td>14127</td>\n",
       "    </tr>\n",
       "    <tr>\n",
       "      <th>3</th>\n",
       "      <td>Indonesia</td>\n",
       "      <td>6787</td>\n",
       "    </tr>\n",
       "  </tbody>\n",
       "</table>\n",
       "</div>"
      ],
      "text/plain": [
       "          data    freq\n",
       "0        Total  361610\n",
       "1  Geolocation   14722\n",
       "2      Identic   14127\n",
       "3    Indonesia    6787"
      ]
     },
     "execution_count": 15,
     "metadata": {},
     "output_type": "execute_result"
    }
   ],
   "source": [
    "data = pd.DataFrame({'data': ['Total', 'Geolocation', 'Identic', 'Indonesia'],\n",
    "                    'freq': [pm.shape[0], pm_geo.shape[0], pm_geo_drop.shape[0], pm_id.shape[0]]})\n",
    "data"
   ]
  },
  {
   "cell_type": "code",
   "execution_count": 16,
   "metadata": {
    "slideshow": {
     "slide_type": "slide"
    }
   },
   "outputs": [
    {
     "data": {
      "image/png": "[encoded data removed]",
      "text/plain": [
       "<Figure size 640x480 with 1 Axes>"
      ]
     },
     "metadata": {},
     "output_type": "display_data"
    }
   ],
   "source": [
    "ax = data.plot(x='data', y='freq',kind=\"bar\", rot=0, legend=None)\n",
    "ax.set_alpha(0.5)\n",
    "ax.set_xlabel('Data')\n",
    "ax.set_ylabel('Number of Tweets')\n",
    "ax.set_title('Twitter Data for Infectious Diseases 2018')\n",
    "\n",
    "ax.text(ax.patches[0].get_x()+0.05, ax.patches[0].get_height()+5000, str(ax.patches[0].get_height()), fontsize=10)\n",
    "ax.text(ax.patches[1].get_x()+0.075, ax.patches[1].get_height()+2000, str(ax.patches[1].get_height()), fontsize=10)\n",
    "ax.text(ax.patches[2].get_x()+0.08, ax.patches[2].get_height()+1000, str(ax.patches[2].get_height()), fontsize=10)\n",
    "ax.text(ax.patches[3].get_x()+0.1, ax.patches[3].get_height()+300, str(ax.patches[3].get_height()), fontsize=10)\n",
    "\n",
    "plt.show()"
   ]
  },
  {
   "cell_type": "code",
   "execution_count": 17,
   "metadata": {
    "slideshow": {
     "slide_type": "slide"
    }
   },
   "outputs": [
    {
     "data": {
      "image/png": "[encoded data removed]",
      "text/plain": [
       "<Figure size 640x480 with 1 Axes>"
      ]
     },
     "metadata": {},
     "output_type": "display_data"
    }
   ],
   "source": [
    "ax = data.plot(x='data', y='freq',kind=\"bar\", rot=0, logy=True, legend=None)\n",
    "ax.set_alpha(0.5)\n",
    "ax.set_xlabel('Data')\n",
    "ax.set_ylabel('Number of Tweets')\n",
    "ax.set_title('Twitter Data for Infectious Diseases 2018')\n",
    "\n",
    "ax.text(ax.patches[0].get_x()+0.05, ax.patches[0].get_height()+15000, str(ax.patches[0].get_height()), fontsize=10)\n",
    "ax.text(ax.patches[1].get_x()+0.075, ax.patches[1].get_height()+1000, str(ax.patches[1].get_height()), fontsize=10)\n",
    "ax.text(ax.patches[2].get_x()+0.08, ax.patches[2].get_height()+1000, str(ax.patches[2].get_height()), fontsize=10)\n",
    "ax.text(ax.patches[3].get_x()+0.125, ax.patches[3].get_height()+300, str(ax.patches[3].get_height()), fontsize=10)\n",
    "\n",
    "plt.show()"
   ]
  },
  {
   "cell_type": "markdown",
   "metadata": {
    "slideshow": {
     "slide_type": "slide"
    }
   },
   "source": [
    "# Text Preprocessing"
   ]
  },
  {
   "cell_type": "code",
   "execution_count": 18,
   "metadata": {
    "slideshow": {
     "slide_type": "skip"
    }
   },
   "outputs": [],
   "source": [
    "import re\n",
    "import string\n",
    "import nltk\n",
    "from nltk.tokenize import word_tokenize\n",
    "from nltk.corpus import stopwords\n",
    "from Sastrawi.Stemmer.StemmerFactory import StemmerFactory\n",
    "\n",
    "stop_words = set(stopwords.words('indonesian'))\n",
    "factory = StemmerFactory()\n",
    "stemmer = factory.create_stemmer()"
   ]
  },
  {
   "cell_type": "code",
   "execution_count": 19,
   "metadata": {
    "slideshow": {
     "slide_type": "skip"
    }
   },
   "outputs": [],
   "source": [
    "def tweet_cleaner(text):\n",
    "    lower = text.lower()\n",
    "    no_number = re.sub(r'\\d+', '', lower)\n",
    "    no_url = re.sub(r\"http\\S+\", \"\", no_number)\n",
    "    no_punctuation = no_url.translate(str.maketrans('', '', string.punctuation))\n",
    "    no_white_space = no_punctuation.strip()\n",
    "    tokens = word_tokenize(no_white_space)\n",
    "    no_stopwords = [i for i in tokens if not i in stop_words]\n",
    "    stem = stemmer.stem(' '.join(no_stopwords))\n",
    "    return stem"
   ]
  },
  {
   "cell_type": "code",
   "execution_count": 22,
   "metadata": {
    "slideshow": {
     "slide_type": "slide"
    }
   },
   "outputs": [
    {
     "data": {
      "text/html": [
       "<div>\n",
       "<style scoped>\n",
       "    .dataframe tbody tr th:only-of-type {\n",
       "        vertical-align: middle;\n",
       "    }\n",
       "\n",
       "    .dataframe tbody tr th {\n",
       "        vertical-align: top;\n",
       "    }\n",
       "\n",
       "    .dataframe thead th {\n",
       "        text-align: right;\n",
       "    }\n",
       "</style>\n",
       "<table border=\"1\" class=\"dataframe\">\n",
       "  <thead>\n",
       "    <tr style=\"text-align: right;\">\n",
       "      <th></th>\n",
       "      <th>username</th>\n",
       "      <th>date</th>\n",
       "      <th>time</th>\n",
       "      <th>text</th>\n",
       "      <th>tweetID</th>\n",
       "      <th>placeID</th>\n",
       "      <th>daerah</th>\n",
       "      <th>lokasi</th>\n",
       "      <th>longitude</th>\n",
       "      <th>latitude</th>\n",
       "      <th>result</th>\n",
       "    </tr>\n",
       "  </thead>\n",
       "  <tbody>\n",
       "    <tr>\n",
       "      <th>0</th>\n",
       "      <td>@AbdulIkromMukti</td>\n",
       "      <td>2018-01-01</td>\n",
       "      <td>17:22</td>\n",
       "      <td>Ntah ini gaya apa. Nahan bersin Nahan mules M...</td>\n",
       "      <td>947775136970797056</td>\n",
       "      <td>2eb44917f4d6dddc</td>\n",
       "      <td>Cirebon Barat</td>\n",
       "      <td>Cirebon Barat Indonesia</td>\n",
       "      <td>108.53915156648996</td>\n",
       "      <td>-6.7191105</td>\n",
       "      <td>ntah gaya nahan bersin nahan mules muka kane m...</td>\n",
       "    </tr>\n",
       "    <tr>\n",
       "      <th>1</th>\n",
       "      <td>@nengnurlaela21</td>\n",
       "      <td>2018-01-01</td>\n",
       "      <td>18:36</td>\n",
       "      <td>get well soon Kak Dori   masih di Sukabumi ka...</td>\n",
       "      <td>947793618315522048</td>\n",
       "      <td>8b2c9342507e86d3</td>\n",
       "      <td>Baros</td>\n",
       "      <td>Baros Indonesia</td>\n",
       "      <td>106.92870584765362</td>\n",
       "      <td>-6.946683</td>\n",
       "      <td>get well soon kak dor sukabumi kak niat ken sa...</td>\n",
       "    </tr>\n",
       "    <tr>\n",
       "      <th>2</th>\n",
       "      <td>@_sulistiyowati_</td>\n",
       "      <td>2018-01-01</td>\n",
       "      <td>19:57</td>\n",
       "      <td>Awalnya pening doang berhari-hari. Terus dema...</td>\n",
       "      <td>947813927059988481</td>\n",
       "      <td>dc83e4ea9c950d75</td>\n",
       "      <td>Labuhan Maringgai</td>\n",
       "      <td>Labuhan Maringgai Indonesia</td>\n",
       "      <td>105.81180643124533</td>\n",
       "      <td>-5.342388</td>\n",
       "      <td>pening doang berharihari demam diare lemes kapar</td>\n",
       "    </tr>\n",
       "    <tr>\n",
       "      <th>3</th>\n",
       "      <td>@rundraj</td>\n",
       "      <td>2018-01-01</td>\n",
       "      <td>13:39</td>\n",
       "      <td>Sing seneng akeh  sing mules merga mburi ngom...</td>\n",
       "      <td>947719008975015936</td>\n",
       "      <td>c4397d8c10325af5</td>\n",
       "      <td>Kasihan</td>\n",
       "      <td>Kasihan Indonesia</td>\n",
       "      <td>110.33361932383802</td>\n",
       "      <td>-7.814738999999999</td>\n",
       "      <td>sing neng akeh sing mules merga mburi ngomah k...</td>\n",
       "    </tr>\n",
       "    <tr>\n",
       "      <th>4</th>\n",
       "      <td>@fitryfee3</td>\n",
       "      <td>2018-01-01</td>\n",
       "      <td>11:55</td>\n",
       "      <td>Maag kumat sejak kemarin  hasilnya diare. Mul...</td>\n",
       "      <td>947692732536971264</td>\n",
       "      <td>420f122b6bea262c</td>\n",
       "      <td>Lemahabang</td>\n",
       "      <td>Lemahabang Indonesia</td>\n",
       "      <td>107.18428703876046</td>\n",
       "      <td>-6.2976855</td>\n",
       "      <td>maag kumat kemarin hasil diare mules plus my p...</td>\n",
       "    </tr>\n",
       "  </tbody>\n",
       "</table>\n",
       "</div>"
      ],
      "text/plain": [
       "           username         date    time  \\\n",
       "0  @AbdulIkromMukti   2018-01-01   17:22   \n",
       "1   @nengnurlaela21   2018-01-01   18:36   \n",
       "2  @_sulistiyowati_   2018-01-01   19:57   \n",
       "3          @rundraj   2018-01-01   13:39   \n",
       "4        @fitryfee3   2018-01-01   11:55   \n",
       "\n",
       "                                                text             tweetID  \\\n",
       "0   Ntah ini gaya apa. Nahan bersin Nahan mules M...  947775136970797056   \n",
       "1   get well soon Kak Dori   masih di Sukabumi ka...  947793618315522048   \n",
       "2   Awalnya pening doang berhari-hari. Terus dema...  947813927059988481   \n",
       "3   Sing seneng akeh  sing mules merga mburi ngom...  947719008975015936   \n",
       "4   Maag kumat sejak kemarin  hasilnya diare. Mul...  947692732536971264   \n",
       "\n",
       "             placeID              daerah                        lokasi  \\\n",
       "0   2eb44917f4d6dddc       Cirebon Barat       Cirebon Barat Indonesia   \n",
       "1   8b2c9342507e86d3               Baros               Baros Indonesia   \n",
       "2   dc83e4ea9c950d75   Labuhan Maringgai   Labuhan Maringgai Indonesia   \n",
       "3   c4397d8c10325af5             Kasihan             Kasihan Indonesia   \n",
       "4   420f122b6bea262c          Lemahabang          Lemahabang Indonesia   \n",
       "\n",
       "             longitude             latitude  \\\n",
       "0   108.53915156648996           -6.7191105   \n",
       "1   106.92870584765362            -6.946683   \n",
       "2   105.81180643124533            -5.342388   \n",
       "3   110.33361932383802   -7.814738999999999   \n",
       "4   107.18428703876046           -6.2976855   \n",
       "\n",
       "                                              result  \n",
       "0  ntah gaya nahan bersin nahan mules muka kane m...  \n",
       "1  get well soon kak dor sukabumi kak niat ken sa...  \n",
       "2   pening doang berharihari demam diare lemes kapar  \n",
       "3  sing neng akeh sing mules merga mburi ngomah k...  \n",
       "4  maag kumat kemarin hasil diare mules plus my p...  "
      ]
     },
     "execution_count": 22,
     "metadata": {},
     "output_type": "execute_result"
    }
   ],
   "source": [
    "result = []\n",
    "for text in pm_id['text']:\n",
    "    result.append(tweet_cleaner(text))\n",
    "pm_id['result'] = result\n",
    "pm_id.head()"
   ]
  },
  {
   "cell_type": "markdown",
   "metadata": {
    "slideshow": {
     "slide_type": "slide"
    }
   },
   "source": [
    "# Term Document Matrix"
   ]
  },
  {
   "cell_type": "code",
   "execution_count": 23,
   "metadata": {
    "slideshow": {
     "slide_type": "slide"
    }
   },
   "outputs": [
    {
     "data": {
      "text/plain": [
       "(6787, 84)"
      ]
     },
     "execution_count": 23,
     "metadata": {},
     "output_type": "execute_result"
    }
   ],
   "source": [
    "from sklearn.feature_extraction.text import CountVectorizer\n",
    "\n",
    "# create a dataframe from a word matrix\n",
    "def wm2df(wm, feat_names):\n",
    "    \n",
    "    # create an index for each row\n",
    "    doc_names = ['Doc{:d}'.format(idx) for idx, _ in enumerate(wm)]\n",
    "    df = pd.DataFrame(data=wm.toarray(), index=doc_names,\n",
    "                      columns=feat_names)\n",
    "    return(df)\n",
    "  \n",
    "# set of documents\n",
    "corpora = pm_id.loc[:,'result'].tolist()\n",
    "\n",
    "# instantiate the vectorizer object\n",
    "cvec = CountVectorizer(lowercase=False, min_df=85)\n",
    "\n",
    "# convert the documents into a document-term matrix\n",
    "wm = cvec.fit_transform(corpora)\n",
    "\n",
    "# retrieve the terms found in the corpora\n",
    "tokens = cvec.get_feature_names()\n",
    "\n",
    "# create a dataframe from the matrix\n",
    "tdm = wm2df(wm, tokens)\n",
    "tdm.shape"
   ]
  },
  {
   "cell_type": "code",
   "execution_count": 38,
   "metadata": {
    "slideshow": {
     "slide_type": "slide"
    }
   },
   "outputs": [
    {
     "data": {
      "text/html": [
       "<div>\n",
       "<style scoped>\n",
       "    .dataframe tbody tr th:only-of-type {\n",
       "        vertical-align: middle;\n",
       "    }\n",
       "\n",
       "    .dataframe tbody tr th {\n",
       "        vertical-align: top;\n",
       "    }\n",
       "\n",
       "    .dataframe thead th {\n",
       "        text-align: right;\n",
       "    }\n",
       "</style>\n",
       "<table border=\"1\" class=\"dataframe\">\n",
       "  <thead>\n",
       "    <tr style=\"text-align: right;\">\n",
       "      <th></th>\n",
       "      <th>abis</th>\n",
       "      <th>air</th>\n",
       "      <th>aja</th>\n",
       "      <th>anak</th>\n",
       "      <th>at</th>\n",
       "      <th>bakteri</th>\n",
       "      <th>banget</th>\n",
       "      <th>bangun</th>\n",
       "      <th>bgt</th>\n",
       "      <th>biar</th>\n",
       "      <th>...</th>\n",
       "      <th>tau</th>\n",
       "      <th>tidur</th>\n",
       "      <th>tp</th>\n",
       "      <th>trus</th>\n",
       "      <th>tuh</th>\n",
       "      <th>udah</th>\n",
       "      <th>udh</th>\n",
       "      <th>wkwk</th>\n",
       "      <th>ya</th>\n",
       "      <th>yg</th>\n",
       "    </tr>\n",
       "  </thead>\n",
       "  <tbody>\n",
       "    <tr>\n",
       "      <th>Doc0</th>\n",
       "      <td>0</td>\n",
       "      <td>0</td>\n",
       "      <td>0</td>\n",
       "      <td>0</td>\n",
       "      <td>0</td>\n",
       "      <td>0</td>\n",
       "      <td>0</td>\n",
       "      <td>0</td>\n",
       "      <td>0</td>\n",
       "      <td>0</td>\n",
       "      <td>...</td>\n",
       "      <td>0</td>\n",
       "      <td>0</td>\n",
       "      <td>0</td>\n",
       "      <td>0</td>\n",
       "      <td>0</td>\n",
       "      <td>0</td>\n",
       "      <td>0</td>\n",
       "      <td>0</td>\n",
       "      <td>0</td>\n",
       "      <td>0</td>\n",
       "    </tr>\n",
       "    <tr>\n",
       "      <th>Doc1</th>\n",
       "      <td>0</td>\n",
       "      <td>1</td>\n",
       "      <td>0</td>\n",
       "      <td>0</td>\n",
       "      <td>0</td>\n",
       "      <td>0</td>\n",
       "      <td>0</td>\n",
       "      <td>0</td>\n",
       "      <td>0</td>\n",
       "      <td>0</td>\n",
       "      <td>...</td>\n",
       "      <td>0</td>\n",
       "      <td>0</td>\n",
       "      <td>0</td>\n",
       "      <td>0</td>\n",
       "      <td>0</td>\n",
       "      <td>0</td>\n",
       "      <td>0</td>\n",
       "      <td>0</td>\n",
       "      <td>0</td>\n",
       "      <td>0</td>\n",
       "    </tr>\n",
       "    <tr>\n",
       "      <th>Doc2</th>\n",
       "      <td>0</td>\n",
       "      <td>0</td>\n",
       "      <td>0</td>\n",
       "      <td>0</td>\n",
       "      <td>0</td>\n",
       "      <td>0</td>\n",
       "      <td>0</td>\n",
       "      <td>0</td>\n",
       "      <td>0</td>\n",
       "      <td>0</td>\n",
       "      <td>...</td>\n",
       "      <td>0</td>\n",
       "      <td>0</td>\n",
       "      <td>0</td>\n",
       "      <td>0</td>\n",
       "      <td>0</td>\n",
       "      <td>0</td>\n",
       "      <td>0</td>\n",
       "      <td>0</td>\n",
       "      <td>0</td>\n",
       "      <td>0</td>\n",
       "    </tr>\n",
       "    <tr>\n",
       "      <th>Doc3</th>\n",
       "      <td>0</td>\n",
       "      <td>0</td>\n",
       "      <td>0</td>\n",
       "      <td>0</td>\n",
       "      <td>0</td>\n",
       "      <td>0</td>\n",
       "      <td>0</td>\n",
       "      <td>0</td>\n",
       "      <td>0</td>\n",
       "      <td>0</td>\n",
       "      <td>...</td>\n",
       "      <td>0</td>\n",
       "      <td>0</td>\n",
       "      <td>0</td>\n",
       "      <td>0</td>\n",
       "      <td>0</td>\n",
       "      <td>0</td>\n",
       "      <td>0</td>\n",
       "      <td>0</td>\n",
       "      <td>0</td>\n",
       "      <td>0</td>\n",
       "    </tr>\n",
       "    <tr>\n",
       "      <th>Doc4</th>\n",
       "      <td>0</td>\n",
       "      <td>0</td>\n",
       "      <td>0</td>\n",
       "      <td>0</td>\n",
       "      <td>0</td>\n",
       "      <td>0</td>\n",
       "      <td>0</td>\n",
       "      <td>0</td>\n",
       "      <td>0</td>\n",
       "      <td>0</td>\n",
       "      <td>...</td>\n",
       "      <td>0</td>\n",
       "      <td>0</td>\n",
       "      <td>0</td>\n",
       "      <td>0</td>\n",
       "      <td>0</td>\n",
       "      <td>0</td>\n",
       "      <td>0</td>\n",
       "      <td>0</td>\n",
       "      <td>0</td>\n",
       "      <td>0</td>\n",
       "    </tr>\n",
       "  </tbody>\n",
       "</table>\n",
       "<p>5 rows × 84 columns</p>\n",
       "</div>"
      ],
      "text/plain": [
       "      abis  air  aja  anak  at  bakteri  banget  bangun  bgt  biar ...  tau  \\\n",
       "Doc0     0    0    0     0   0        0       0       0    0     0 ...    0   \n",
       "Doc1     0    1    0     0   0        0       0       0    0     0 ...    0   \n",
       "Doc2     0    0    0     0   0        0       0       0    0     0 ...    0   \n",
       "Doc3     0    0    0     0   0        0       0       0    0     0 ...    0   \n",
       "Doc4     0    0    0     0   0        0       0       0    0     0 ...    0   \n",
       "\n",
       "      tidur  tp  trus  tuh  udah  udh  wkwk  ya  yg  \n",
       "Doc0      0   0     0    0     0    0     0   0   0  \n",
       "Doc1      0   0     0    0     0    0     0   0   0  \n",
       "Doc2      0   0     0    0     0    0     0   0   0  \n",
       "Doc3      0   0     0    0     0    0     0   0   0  \n",
       "Doc4      0   0     0    0     0    0     0   0   0  \n",
       "\n",
       "[5 rows x 84 columns]"
      ]
     },
     "execution_count": 38,
     "metadata": {},
     "output_type": "execute_result"
    }
   ],
   "source": [
    "tdm.head()"
   ]
  },
  {
   "cell_type": "markdown",
   "metadata": {
    "slideshow": {
     "slide_type": "slide"
    }
   },
   "source": [
    "# K-Means Clustering"
   ]
  },
  {
   "cell_type": "code",
   "execution_count": 36,
   "metadata": {
    "slideshow": {
     "slide_type": "slide"
    }
   },
   "outputs": [
    {
     "data": {
      "image/png": "[encoded data removed]",
      "text/plain": [
       "<Figure size 640x480 with 1 Axes>"
      ]
     },
     "metadata": {},
     "output_type": "display_data"
    }
   ],
   "source": [
    "from sklearn.cluster import KMeans\n",
    "wcss = []\n",
    "for i in range(2,8):\n",
    "    kmeans = KMeans(n_clusters=i,init='k-means++',max_iter=300,n_init=10,random_state=0)\n",
    "    kmeans.fit_predict(tdm)\n",
    "    wcss.append(kmeans.inertia_)\n",
    "\n",
    "plt.plot(range(2,8),wcss)\n",
    "plt.title('The Elbow Method')\n",
    "plt.xlabel('Number of clusters')\n",
    "plt.ylabel('WCSS')\n",
    "plt.show()"
   ]
  }
 ],
 "metadata": {
  "celltoolbar": "Slideshow",
  "kernelspec": {
   "display_name": "Python 3",
   "language": "python",
   "name": "python3"
  },
  "language_info": {
   "codemirror_mode": {
    "name": "ipython",
    "version": 3
   },
   "file_extension": ".py",
   "mimetype": "text/x-python",
   "name": "python",
   "nbconvert_exporter": "python",
   "pygments_lexer": "ipython3",
   "version": "3.6.5"
  }
 },
 "nbformat": 4,
 "nbformat_minor": 2
}
