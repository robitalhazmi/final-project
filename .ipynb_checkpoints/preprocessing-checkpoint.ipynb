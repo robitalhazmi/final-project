{
 "cells": [
  {
   "cell_type": "markdown",
   "metadata": {
    "slideshow": {
     "slide_type": "slide"
    }
   },
   "source": [
    "# Data Teks Twitter Penyakit Menular 2018"
   ]
  },
  {
   "cell_type": "code",
   "execution_count": 1,
   "metadata": {
    "slideshow": {
     "slide_type": "skip"
    }
   },
   "outputs": [],
   "source": [
    "import pandas as pd"
   ]
  },
  {
   "cell_type": "code",
   "execution_count": 2,
   "metadata": {
    "slideshow": {
     "slide_type": "slide"
    }
   },
   "outputs": [
    {
     "name": "stdout",
     "output_type": "stream",
     "text": [
      "361580\n"
     ]
    },
    {
     "data": {
      "text/html": [
       "<div>\n",
       "<style scoped>\n",
       "    .dataframe tbody tr th:only-of-type {\n",
       "        vertical-align: middle;\n",
       "    }\n",
       "\n",
       "    .dataframe tbody tr th {\n",
       "        vertical-align: top;\n",
       "    }\n",
       "\n",
       "    .dataframe thead th {\n",
       "        text-align: right;\n",
       "    }\n",
       "</style>\n",
       "<table border=\"1\" class=\"dataframe\">\n",
       "  <thead>\n",
       "    <tr style=\"text-align: right;\">\n",
       "      <th></th>\n",
       "      <th>username</th>\n",
       "      <th>date</th>\n",
       "      <th>time</th>\n",
       "      <th>text</th>\n",
       "      <th>tweetID</th>\n",
       "      <th>placeID</th>\n",
       "      <th>daerah</th>\n",
       "      <th>lokasi</th>\n",
       "      <th>longitude</th>\n",
       "      <th>latitude</th>\n",
       "    </tr>\n",
       "  </thead>\n",
       "  <tbody>\n",
       "    <tr>\n",
       "      <th>10745</th>\n",
       "      <td>@lk_lovegood</td>\n",
       "      <td>2018-01-01</td>\n",
       "      <td>13:11</td>\n",
       "      <td>sakit perut nat</td>\n",
       "      <td>947711820948635649</td>\n",
       "      <td></td>\n",
       "      <td></td>\n",
       "      <td></td>\n",
       "      <td></td>\n",
       "      <td></td>\n",
       "    </tr>\n",
       "    <tr>\n",
       "      <th>10810</th>\n",
       "      <td>@wiki019</td>\n",
       "      <td>2018-01-01</td>\n",
       "      <td>11:31</td>\n",
       "      <td>X bestnya ride sakit perut ni</td>\n",
       "      <td>947686662766596098</td>\n",
       "      <td></td>\n",
       "      <td></td>\n",
       "      <td></td>\n",
       "      <td></td>\n",
       "      <td></td>\n",
       "    </tr>\n",
       "    <tr>\n",
       "      <th>10811</th>\n",
       "      <td>@joungkoo</td>\n",
       "      <td>2018-01-01</td>\n",
       "      <td>11:30</td>\n",
       "      <td>Mencret lu? Diare tuh</td>\n",
       "      <td>947686539198218240</td>\n",
       "      <td></td>\n",
       "      <td></td>\n",
       "      <td></td>\n",
       "      <td></td>\n",
       "      <td></td>\n",
       "    </tr>\n",
       "    <tr>\n",
       "      <th>10812</th>\n",
       "      <td>@hanshohoho</td>\n",
       "      <td>2018-01-01</td>\n",
       "      <td>11:29</td>\n",
       "      <td>Sakit perut damar. Gara2 makan baso. Hehe</td>\n",
       "      <td>947686252228231168</td>\n",
       "      <td></td>\n",
       "      <td></td>\n",
       "      <td></td>\n",
       "      <td></td>\n",
       "      <td></td>\n",
       "    </tr>\n",
       "    <tr>\n",
       "      <th>10813</th>\n",
       "      <td>@doubleofme</td>\n",
       "      <td>2018-01-01</td>\n",
       "      <td>11:28</td>\n",
       "      <td>Sakit perut pulak makan nasi lemak pagi tadi.</td>\n",
       "      <td>947685963790041088</td>\n",
       "      <td></td>\n",
       "      <td></td>\n",
       "      <td></td>\n",
       "      <td></td>\n",
       "      <td></td>\n",
       "    </tr>\n",
       "  </tbody>\n",
       "</table>\n",
       "</div>"
      ],
      "text/plain": [
       "           username         date    time  \\\n",
       "10745  @lk_lovegood   2018-01-01   13:11   \n",
       "10810      @wiki019   2018-01-01   11:31   \n",
       "10811     @joungkoo   2018-01-01   11:30   \n",
       "10812   @hanshohoho   2018-01-01   11:29   \n",
       "10813   @doubleofme   2018-01-01   11:28   \n",
       "\n",
       "                                                  text             tweetID  \\\n",
       "10745                                  sakit perut nat  947711820948635649   \n",
       "10810                    X bestnya ride sakit perut ni  947686662766596098   \n",
       "10811                            Mencret lu? Diare tuh  947686539198218240   \n",
       "10812        Sakit perut damar. Gara2 makan baso. Hehe  947686252228231168   \n",
       "10813   Sakit perut pulak makan nasi lemak pagi tadi.   947685963790041088   \n",
       "\n",
       "      placeID daerah lokasi longitude latitude  \n",
       "10745                                           \n",
       "10810                                           \n",
       "10811                                           \n",
       "10812                                           \n",
       "10813                                           "
      ]
     },
     "execution_count": 2,
     "metadata": {},
     "output_type": "execute_result"
    }
   ],
   "source": [
    "pm = pd.read_csv('./data/pm 2018.csv').sort_values(by=\"date\")\n",
    "print(pm.shape[0])\n",
    "pm.head()"
   ]
  },
  {
   "cell_type": "code",
   "execution_count": 3,
   "metadata": {
    "slideshow": {
     "slide_type": "skip"
    }
   },
   "outputs": [
    {
     "ename": "KeyboardInterrupt",
     "evalue": "",
     "output_type": "error",
     "traceback": [
      "\u001b[1;31m---------------------------------------------------------------------------\u001b[0m",
      "\u001b[1;31mKeyboardInterrupt\u001b[0m                         Traceback (most recent call last)",
      "\u001b[1;32m<ipython-input-3-e7a743ae2c9d>\u001b[0m in \u001b[0;36m<module>\u001b[1;34m()\u001b[0m\n\u001b[0;32m     13\u001b[0m \u001b[0mresult\u001b[0m \u001b[1;33m=\u001b[0m \u001b[1;33m[\u001b[0m\u001b[1;33m]\u001b[0m\u001b[1;33m\u001b[0m\u001b[0m\n\u001b[0;32m     14\u001b[0m \u001b[1;32mfor\u001b[0m \u001b[0mtext\u001b[0m \u001b[1;32min\u001b[0m \u001b[0mpm\u001b[0m\u001b[1;33m[\u001b[0m\u001b[1;34m'text'\u001b[0m\u001b[1;33m]\u001b[0m\u001b[1;33m:\u001b[0m\u001b[1;33m\u001b[0m\u001b[0m\n\u001b[1;32m---> 15\u001b[1;33m     \u001b[0mresult\u001b[0m\u001b[1;33m.\u001b[0m\u001b[0mappend\u001b[0m\u001b[1;33m(\u001b[0m\u001b[0mtweet_lower\u001b[0m\u001b[1;33m(\u001b[0m\u001b[0mtext\u001b[0m\u001b[1;33m)\u001b[0m\u001b[1;33m)\u001b[0m\u001b[1;33m\u001b[0m\u001b[0m\n\u001b[0m\u001b[0;32m     16\u001b[0m \u001b[0mpm\u001b[0m\u001b[1;33m[\u001b[0m\u001b[1;34m'text'\u001b[0m\u001b[1;33m]\u001b[0m \u001b[1;33m=\u001b[0m \u001b[0mresult\u001b[0m\u001b[1;33m\u001b[0m\u001b[0m\n\u001b[0;32m     17\u001b[0m \u001b[0mpm\u001b[0m\u001b[1;33m.\u001b[0m\u001b[0mhead\u001b[0m\u001b[1;33m(\u001b[0m\u001b[1;33m)\u001b[0m\u001b[1;33m\u001b[0m\u001b[0m\n",
      "\u001b[1;32m<ipython-input-3-e7a743ae2c9d>\u001b[0m in \u001b[0;36mtweet_lower\u001b[1;34m(text)\u001b[0m\n\u001b[0;32m      4\u001b[0m \u001b[1;32mdef\u001b[0m \u001b[0mtweet_lower\u001b[0m\u001b[1;33m(\u001b[0m\u001b[0mtext\u001b[0m\u001b[1;33m)\u001b[0m\u001b[1;33m:\u001b[0m\u001b[1;33m\u001b[0m\u001b[0m\n\u001b[0;32m      5\u001b[0m     \u001b[0mlower\u001b[0m \u001b[1;33m=\u001b[0m \u001b[0mtext\u001b[0m\u001b[1;33m.\u001b[0m\u001b[0mlower\u001b[0m\u001b[1;33m(\u001b[0m\u001b[1;33m)\u001b[0m\u001b[1;33m\u001b[0m\u001b[0m\n\u001b[1;32m----> 6\u001b[1;33m     \u001b[0mno_number\u001b[0m \u001b[1;33m=\u001b[0m \u001b[0mre\u001b[0m\u001b[1;33m.\u001b[0m\u001b[0msub\u001b[0m\u001b[1;33m(\u001b[0m\u001b[1;34mr'\\d+'\u001b[0m\u001b[1;33m,\u001b[0m \u001b[1;34m''\u001b[0m\u001b[1;33m,\u001b[0m \u001b[0mlower\u001b[0m\u001b[1;33m)\u001b[0m\u001b[1;33m\u001b[0m\u001b[0m\n\u001b[0m\u001b[0;32m      7\u001b[0m     \u001b[0mno_url\u001b[0m \u001b[1;33m=\u001b[0m \u001b[0mre\u001b[0m\u001b[1;33m.\u001b[0m\u001b[0msub\u001b[0m\u001b[1;33m(\u001b[0m\u001b[1;34mr\"http\\S+\"\u001b[0m\u001b[1;33m,\u001b[0m \u001b[1;34m\"\"\u001b[0m\u001b[1;33m,\u001b[0m \u001b[0mno_number\u001b[0m\u001b[1;33m)\u001b[0m\u001b[1;33m\u001b[0m\u001b[0m\n\u001b[0;32m      8\u001b[0m     \u001b[0mno_dash\u001b[0m \u001b[1;33m=\u001b[0m \u001b[0mno_url\u001b[0m\u001b[1;33m.\u001b[0m\u001b[0mreplace\u001b[0m\u001b[1;33m(\u001b[0m\u001b[1;34m\"-\"\u001b[0m\u001b[1;33m,\u001b[0m \u001b[1;34m\" \"\u001b[0m\u001b[1;33m)\u001b[0m\u001b[1;33m\u001b[0m\u001b[0m\n",
      "\u001b[1;31mKeyboardInterrupt\u001b[0m: "
     ]
    }
   ],
   "source": [
    "import string\n",
    "import re\n",
    "\n",
    "def tweet_lower(text):\n",
    "    lower = text.lower()\n",
    "    no_number = re.sub(r'\\d+', '', lower)\n",
    "    no_url = re.sub(r\"http\\S+\", \"\", no_number)\n",
    "    no_dash = no_url.replace(\"-\", \" \")\n",
    "    no_punctuation = no_dash.translate(str.maketrans('', '', string.punctuation))\n",
    "    no_white_space = re.sub(' +', ' ', no_punctuation)\n",
    "    return no_white_space\n",
    "\n",
    "result = []\n",
    "for text in pm['text']:\n",
    "    result.append(tweet_lower(text))\n",
    "pm['text'] = result\n",
    "pm.head()"
   ]
  },
  {
   "cell_type": "code",
   "execution_count": null,
   "metadata": {
    "slideshow": {
     "slide_type": "skip"
    }
   },
   "outputs": [],
   "source": [
    "tuberkulosis = pm[pm['text'].str.contains('tuberkulosis')]\n",
    "print(\"tuberkulosis: \"+ str(tuberkulosis.shape[0]))\n",
    "non_tuberkulosis = pm[~pm['text'].str.contains('tuberkulosis')]\n",
    "\n",
    "tuberculosis = non_tuberkulosis[non_tuberkulosis['text'].str.contains('tuberculosis')]\n",
    "print(\"tuberculosis: \"+ str(tuberculosis.shape[0]))\n",
    "non_tuberculosis = non_tuberkulosis[~non_tuberkulosis['text'].str.contains('tuberculosis')]\n",
    "\n",
    "tb_paru = non_tuberculosis[non_tuberculosis['text'].str.contains('tb paru|tbparu')]\n",
    "print(\"tb paru: \"+ str(tb_paru.shape[0]))\n",
    "non_tb_paru = non_tuberculosis[~non_tuberculosis['text'].str.contains('tb paru|tbparu')]\n",
    "\n",
    "tbc_paru = non_tb_paru[non_tb_paru['text'].str.contains('tbc paru|tbcparu')]\n",
    "print(\"tbc paru: \"+ str(tbc_paru.shape[0]))\n",
    "non_tbc_paru = non_tb_paru[~non_tb_paru['text'].str.contains('tbc paru|tbcparu')]\n",
    "\n",
    "mycobacterium = non_tbc_paru[non_tbc_paru['text'].str.contains('mycobacterium')]\n",
    "print(\"mycobacterium: \"+ str(mycobacterium.shape[0]))\n",
    "non_mycobacterium = non_tbc_paru[~non_tbc_paru['text'].str.contains('mycobacterium')]\n",
    "\n",
    "tosstbc = non_mycobacterium[non_mycobacterium['text'].str.contains('tosstbc')]\n",
    "print(\"tosstbc: \"+ str(tosstbc.shape[0]))\n",
    "non_tosstbc = non_mycobacterium[~non_mycobacterium['text'].str.contains('tosstbc')]\n",
    "\n",
    "batuk_tbc = non_tosstbc[non_tosstbc['text'].str.contains('batuk tbc')]\n",
    "print(\"batuk tbc: \"+ str(batuk_tbc.shape[0]))\n",
    "non_batuk_tbc = non_tosstbc[~non_tosstbc['text'].str.contains('batuk tbc')]\n",
    "\n",
    "batuk_tb = non_batuk_tbc[non_batuk_tbc['text'].str.contains('batuk tb')]\n",
    "print(\"batuk tb: \"+ str(batuk_tb.shape[0]))\n",
    "non_batuk_tb = non_batuk_tbc[~non_batuk_tbc['text'].str.contains('batuk tb')]\n",
    "\n",
    "isoniazid = non_batuk_tb[non_batuk_tb['text'].str.contains('isoniazid')]\n",
    "print(\"isoniazid: \"+ str(isoniazid.shape[0]))\n",
    "non_isoniazid = non_batuk_tb[~non_batuk_tb['text'].str.contains('isoniazid')]\n",
    "\n",
    "imunisasi_bcg = non_isoniazid[non_isoniazid['text'].str.contains('imunisasi bcg')]\n",
    "print(\"imunisasi bcg: \"+ str(imunisasi_bcg.shape[0]))\n",
    "non_imunisasi_bcg = non_isoniazid[~non_isoniazid['text'].str.contains('imunisasi bcg')]\n",
    "\n",
    "print()\n",
    "\n",
    "diare = non_imunisasi_bcg[non_imunisasi_bcg['text'].str.contains('diare|diaré|ｄｉａｒｅ')]\n",
    "print(\"diare: \"+ str(diare.shape[0]))\n",
    "non_diare = non_imunisasi_bcg[~non_imunisasi_bcg['text'].str.contains('diare|diaré|ｄｉａｒｅ')]\n",
    "\n",
    "imodium = non_diare[non_diare['text'].str.contains('imodium')]\n",
    "print(\"imodium: \"+ str(imodium.shape[0]))\n",
    "non_imodium = non_diare[~non_diare['text'].str.contains('imodium')]\n",
    "\n",
    "diapet = non_imodium[non_imodium['text'].str.contains('diapet')]\n",
    "print(\"diapet: \"+ str(diapet.shape[0]))\n",
    "non_diapet = non_imodium[~non_imodium['text'].str.contains('diapet')]\n",
    "\n",
    "sakit_perut = non_diapet[non_diapet['text'].str.contains('sakit perut|sakitperut|ˢᵃᵏⁱᵗ ᵖᵉʳᵘᵗ|sàkit perut')]\n",
    "print(\"sakit perut: \"+ str(sakit_perut.shape[0]))\n",
    "non_sakit_perut = non_diapet[~non_diapet['text'].str.contains('sakit perut|sakitperut|ˢᵃᵏⁱᵗ ᵖᵉʳᵘᵗ|sàkit perut')]\n",
    "\n",
    "mules = non_sakit_perut[non_sakit_perut['text'].str.contains('mules|ｍｕｌｅｓ|mulês')]\n",
    "print(\"mules: \"+ str(mules.shape[0]))\n",
    "non_mules = non_sakit_perut[~non_sakit_perut['text'].str.contains('mules|ｍｕｌｅｓ|mulês')]\n",
    "\n",
    "mencret = non_mules[non_mules['text'].str.contains('mencret|méncrét|mencrét|mencrèt')]\n",
    "print(\"mencret: \"+ str(mencret.shape[0]))\n",
    "non_mencret = non_mules[~non_mules['text'].str.contains('mencret|méncrét|mencrét|mencrèt')]\n",
    "\n",
    "menceret = non_mencret[non_mencret['text'].str.contains('menceret')]\n",
    "print(\"menceret: \"+ str(menceret.shape[0]))\n",
    "non_menceret = non_mencret[~non_mencret['text'].str.contains('menceret')]\n",
    "\n",
    "salmonella = non_menceret[non_menceret['text'].str.contains('salmonella')]\n",
    "print(\"salmonella: \"+ str(salmonella.shape[0]))\n",
    "non_salmonella = non_menceret[~non_menceret['text'].str.contains('salmonella')]\n",
    "\n",
    "e_coli = non_salmonella[non_salmonella['text'].str.contains('coli')]\n",
    "print(\"e coli: \"+ str(e_coli.shape[0]))\n",
    "non_e_coli = non_salmonella[~non_salmonella['text'].str.contains('coli')]\n",
    "\n",
    "oralit = non_e_coli[non_e_coli['text'].str.contains('oralit')]\n",
    "print(\"oralit: \"+ str(oralit.shape[0]))\n",
    "non_oralit = non_e_coli[~non_e_coli['text'].str.contains('oralit')]"
   ]
  },
  {
   "cell_type": "code",
   "execution_count": null,
   "metadata": {
    "slideshow": {
     "slide_type": "skip"
    }
   },
   "outputs": [],
   "source": [
    "tuberkulosis_geo = tuberkulosis[tuberkulosis['placeID'] != ' '].sort_values(by=\"date\").drop_duplicates()\n",
    "print(\"tuberkulosis: \" + str(tuberkulosis_geo.shape[0]))\n",
    "\n",
    "tuberculosis_geo = tuberculosis[tuberculosis['placeID'] != ' '].sort_values(by=\"date\").drop_duplicates()\n",
    "print(\"tuberculosis: \" + str(tuberculosis_geo.shape[0]))\n",
    "\n",
    "tb_paru_geo = tb_paru[tb_paru['placeID'] != ' '].sort_values(by=\"date\").drop_duplicates()\n",
    "print(\"tb paru: \" + str(tb_paru_geo.shape[0]))\n",
    "\n",
    "tbc_paru_geo = tbc_paru[tbc_paru['placeID'] != ' '].sort_values(by=\"date\").drop_duplicates()\n",
    "print(\"tbc paru: \" + str(tbc_paru_geo.shape[0]))\n",
    "\n",
    "mycobacterium_geo = mycobacterium[mycobacterium['placeID'] != ' '].sort_values(by=\"date\").drop_duplicates()\n",
    "print(\"mycobacterium: \" + str(mycobacterium_geo.shape[0]))\n",
    "\n",
    "tosstbc_geo = tosstbc[tosstbc['placeID'] != ' '].sort_values(by=\"date\").drop_duplicates()\n",
    "print(\"tosstbc: \" + str(tosstbc_geo.shape[0]))\n",
    "\n",
    "batuk_tbc_geo = batuk_tbc[batuk_tbc['placeID'] != ' '].sort_values(by=\"date\").drop_duplicates()\n",
    "print(\"batuk tbc: \" + str(batuk_tbc_geo.shape[0]))\n",
    "\n",
    "batuk_tb_geo = batuk_tb[batuk_tb['placeID'] != ' '].sort_values(by=\"date\").drop_duplicates()\n",
    "print(\"batuk tb: \" + str(batuk_tb_geo.shape[0]))\n",
    "\n",
    "isoniazid_geo = isoniazid[isoniazid['placeID'] != ' '].sort_values(by=\"date\").drop_duplicates()\n",
    "print(\"isoniazid: \" + str(isoniazid_geo.shape[0]))\n",
    "\n",
    "imunisasi_bcg_geo = imunisasi_bcg[imunisasi_bcg['placeID'] != ' '].sort_values(by=\"date\").drop_duplicates()\n",
    "print(\"imunisasi bcg: \" + str(imunisasi_bcg_geo.shape[0]))\n",
    "\n",
    "print()\n",
    "\n",
    "diare_geo = diare[diare['placeID'] != ' '].sort_values(by=\"date\").drop_duplicates()\n",
    "print(\"diare: \" + str(diare_geo.shape[0]))\n",
    "\n",
    "imodium_geo = imodium[imodium['placeID'] != ' '].sort_values(by=\"date\").drop_duplicates()\n",
    "print(\"imodium: \" + str(imodium_geo.shape[0]))\n",
    "\n",
    "diapet_geo = diapet[diapet['placeID'] != ' '].sort_values(by=\"date\").drop_duplicates()\n",
    "print(\"diapet: \" + str(diapet_geo.shape[0]))\n",
    "\n",
    "sakit_perut_geo = sakit_perut[sakit_perut['placeID'] != ' '].sort_values(by=\"date\").drop_duplicates()\n",
    "print(\"sakit perut: \" + str(sakit_perut_geo.shape[0]))\n",
    "\n",
    "mules_geo = mules[mules['placeID'] != ' '].sort_values(by=\"date\").drop_duplicates()\n",
    "print(\"mules: \" + str(mules_geo.shape[0]))\n",
    "\n",
    "mencret_geo = mencret[mencret['placeID'] != ' '].sort_values(by=\"date\").drop_duplicates()\n",
    "print(\"mencret: \" + str(mencret_geo.shape[0]))\n",
    "\n",
    "menceret_geo = menceret[menceret['placeID'] != ' '].sort_values(by=\"date\").drop_duplicates()\n",
    "print(\"menceret: \" + str(menceret_geo.shape[0]))\n",
    "\n",
    "salmonella_geo = salmonella[salmonella['placeID'] != ' '].sort_values(by=\"date\").drop_duplicates()\n",
    "print(\"salmonella: \" + str(salmonella_geo.shape[0]))\n",
    "\n",
    "e_coli_geo = e_coli[e_coli['placeID'] != ' '].sort_values(by=\"date\").drop_duplicates()\n",
    "print(\"e coli: \" + str(e_coli_geo.shape[0]))\n",
    "\n",
    "oralit_geo = oralit[oralit['placeID'] != ' '].sort_values(by=\"date\").drop_duplicates()\n",
    "print(\"oralit: \" + str(oralit_geo.shape[0]))"
   ]
  },
  {
   "cell_type": "code",
   "execution_count": null,
   "metadata": {
    "slideshow": {
     "slide_type": "skip"
    }
   },
   "outputs": [],
   "source": [
    "tuberkulosis_id = tuberkulosis_geo[tuberkulosis_geo[\"lokasi\"].str.contains(\"Indonesia|Jawa|Sulawesi|Yogyakarta|Jambi|Gorontalo|Banten|Jakarta|Riau|Sumatera|Kampung kandang|Menteng|Maumere|D 1537 OO|Manado|Sekolah Kartini|Bumi tamalanrea|Bogor|Gramedia|Gilimanuk|Bendungan hilir|Nusa Tenggara|Toilet|Cianjur|juanda|Fakultas Ekonomi|UNDIP|Cikunir|cibitung|tinjomoyo|Meruya|KFC|Terminal 2|Dinas Pekerjaan|Rumah Makeupuccino|The Danted Mencret|Sekumpul|Cipaganti|Ronggowarsito|Pakem|Tugel|Aceh|RS UIN|Dago|Lampung|Pizza|Oseng|Sudirman|Bintaro|Malioboro|IGD|ITB|Majalengka|Sanggar Agung|Globalresourcestrader|Sarangan\")].reset_index(drop=True)\n",
    "print(\"tuberkulosis: \" + str(tuberkulosis_id.shape[0]))\n",
    "\n",
    "tuberculosis_id = tuberculosis_geo[tuberculosis_geo[\"lokasi\"].str.contains(\"Indonesia|Jawa|Sulawesi|Yogyakarta|Jambi|Gorontalo|Banten|Jakarta|Riau|Sumatera|Kampung kandang|Menteng|Maumere|D 1537 OO|Manado|Sekolah Kartini|Bumi tamalanrea|Bogor|Gramedia|Gilimanuk|Bendungan hilir|Nusa Tenggara|Toilet|Cianjur|juanda|Fakultas Ekonomi|UNDIP|Cikunir|cibitung|tinjomoyo|Meruya|KFC|Terminal 2|Dinas Pekerjaan|Rumah Makeupuccino|The Danted Mencret|Sekumpul|Cipaganti|Ronggowarsito|Pakem|Tugel|Aceh|RS UIN|Dago|Lampung|Pizza|Oseng|Sudirman|Bintaro|Malioboro|IGD|ITB|Majalengka|Sanggar Agung|Globalresourcestrader|Sarangan\")].reset_index(drop=True)\n",
    "print(\"tuberculosis: \" + str(tuberculosis_id.shape[0]))\n",
    "\n",
    "tb_paru_id = tb_paru_geo[tb_paru_geo[\"lokasi\"].str.contains(\"Indonesia|Jawa|Sulawesi|Yogyakarta|Jambi|Gorontalo|Banten|Jakarta|Riau|Sumatera|Kampung kandang|Menteng|Maumere|D 1537 OO|Manado|Sekolah Kartini|Bumi tamalanrea|Bogor|Gramedia|Gilimanuk|Bendungan hilir|Nusa Tenggara|Toilet|Cianjur|juanda|Fakultas Ekonomi|UNDIP|Cikunir|cibitung|tinjomoyo|Meruya|KFC|Terminal 2|Dinas Pekerjaan|Rumah Makeupuccino|The Danted Mencret|Sekumpul|Cipaganti|Ronggowarsito|Pakem|Tugel|Aceh|RS UIN|Dago|Lampung|Pizza|Oseng|Sudirman|Bintaro|Malioboro|IGD|ITB|Majalengka|Sanggar Agung|Globalresourcestrader|Sarangan\")].reset_index(drop=True)\n",
    "print(\"tuberkulosis: \" + str(tb_paru_id.shape[0]))\n",
    "\n",
    "tbc_paru_id = tbc_paru_geo[tbc_paru_geo[\"lokasi\"].str.contains(\"Indonesia|Jawa|Sulawesi|Yogyakarta|Jambi|Gorontalo|Banten|Jakarta|Riau|Sumatera|Kampung kandang|Menteng|Maumere|D 1537 OO|Manado|Sekolah Kartini|Bumi tamalanrea|Bogor|Gramedia|Gilimanuk|Bendungan hilir|Nusa Tenggara|Toilet|Cianjur|juanda|Fakultas Ekonomi|UNDIP|Cikunir|cibitung|tinjomoyo|Meruya|KFC|Terminal 2|Dinas Pekerjaan|Rumah Makeupuccino|The Danted Mencret|Sekumpul|Cipaganti|Ronggowarsito|Pakem|Tugel|Aceh|RS UIN|Dago|Lampung|Pizza|Oseng|Sudirman|Bintaro|Malioboro|IGD|ITB|Majalengka|Sanggar Agung|Globalresourcestrader|Sarangan\")].reset_index(drop=True)\n",
    "print(\"tuberkulosis: \" + str(tbc_paru_id.shape[0]))\n",
    "\n",
    "mycobacterium_id = mycobacterium_geo[mycobacterium_geo[\"lokasi\"].str.contains(\"Indonesia|Jawa|Sulawesi|Yogyakarta|Jambi|Gorontalo|Banten|Jakarta|Riau|Sumatera|Kampung kandang|Menteng|Maumere|D 1537 OO|Manado|Sekolah Kartini|Bumi tamalanrea|Bogor|Gramedia|Gilimanuk|Bendungan hilir|Nusa Tenggara|Toilet|Cianjur|juanda|Fakultas Ekonomi|UNDIP|Cikunir|cibitung|tinjomoyo|Meruya|KFC|Terminal 2|Dinas Pekerjaan|Rumah Makeupuccino|The Danted Mencret|Sekumpul|Cipaganti|Ronggowarsito|Pakem|Tugel|Aceh|RS UIN|Dago|Lampung|Pizza|Oseng|Sudirman|Bintaro|Malioboro|IGD|ITB|Majalengka|Sanggar Agung|Globalresourcestrader|Sarangan\")].reset_index(drop=True)\n",
    "print(\"mycobacterium: \" + str(mycobacterium_id.shape[0]))\n",
    "\n",
    "tosstbc_id = tosstbc_geo[tosstbc_geo[\"lokasi\"].str.contains(\"Indonesia|Jawa|Sulawesi|Yogyakarta|Jambi|Gorontalo|Banten|Jakarta|Riau|Sumatera|Kampung kandang|Menteng|Maumere|D 1537 OO|Manado|Sekolah Kartini|Bumi tamalanrea|Bogor|Gramedia|Gilimanuk|Bendungan hilir|Nusa Tenggara|Toilet|Cianjur|juanda|Fakultas Ekonomi|UNDIP|Cikunir|cibitung|tinjomoyo|Meruya|KFC|Terminal 2|Dinas Pekerjaan|Rumah Makeupuccino|The Danted Mencret|Sekumpul|Cipaganti|Ronggowarsito|Pakem|Tugel|Aceh|RS UIN|Dago|Lampung|Pizza|Oseng|Sudirman|Bintaro|Malioboro|IGD|ITB|Majalengka|Sanggar Agung|Globalresourcestrader|Sarangan\")].reset_index(drop=True)\n",
    "print(\"tosstbc: \" + str(tosstbc_id.shape[0]))\n",
    "\n",
    "batuk_tbc_id = batuk_tbc_geo[batuk_tbc_geo[\"lokasi\"].str.contains(\"Indonesia|Jawa|Sulawesi|Yogyakarta|Jambi|Gorontalo|Banten|Jakarta|Riau|Sumatera|Kampung kandang|Menteng|Maumere|D 1537 OO|Manado|Sekolah Kartini|Bumi tamalanrea|Bogor|Gramedia|Gilimanuk|Bendungan hilir|Nusa Tenggara|Toilet|Cianjur|juanda|Fakultas Ekonomi|UNDIP|Cikunir|cibitung|tinjomoyo|Meruya|KFC|Terminal 2|Dinas Pekerjaan|Rumah Makeupuccino|The Danted Mencret|Sekumpul|Cipaganti|Ronggowarsito|Pakem|Tugel|Aceh|RS UIN|Dago|Lampung|Pizza|Oseng|Sudirman|Bintaro|Malioboro|IGD|ITB|Majalengka|Sanggar Agung|Globalresourcestrader|Sarangan\")].reset_index(drop=True)\n",
    "print(\"batuk tbc: \" + str(batuk_tbc_id.shape[0]))\n",
    "\n",
    "batuk_tb_id = batuk_tb_geo[batuk_tb_geo[\"lokasi\"].str.contains(\"Indonesia|Jawa|Sulawesi|Yogyakarta|Jambi|Gorontalo|Banten|Jakarta|Riau|Sumatera|Kampung kandang|Menteng|Maumere|D 1537 OO|Manado|Sekolah Kartini|Bumi tamalanrea|Bogor|Gramedia|Gilimanuk|Bendungan hilir|Nusa Tenggara|Toilet|Cianjur|juanda|Fakultas Ekonomi|UNDIP|Cikunir|cibitung|tinjomoyo|Meruya|KFC|Terminal 2|Dinas Pekerjaan|Rumah Makeupuccino|The Danted Mencret|Sekumpul|Cipaganti|Ronggowarsito|Pakem|Tugel|Aceh|RS UIN|Dago|Lampung|Pizza|Oseng|Sudirman|Bintaro|Malioboro|IGD|ITB|Majalengka|Sanggar Agung|Globalresourcestrader|Sarangan\")].reset_index(drop=True)\n",
    "print(\"batuk tb: \" + str(batuk_tb_id.shape[0]))\n",
    "\n",
    "isoniazid_id = isoniazid_geo[isoniazid_geo[\"lokasi\"].str.contains(\"Indonesia|Jawa|Sulawesi|Yogyakarta|Jambi|Gorontalo|Banten|Jakarta|Riau|Sumatera|Kampung kandang|Menteng|Maumere|D 1537 OO|Manado|Sekolah Kartini|Bumi tamalanrea|Bogor|Gramedia|Gilimanuk|Bendungan hilir|Nusa Tenggara|Toilet|Cianjur|juanda|Fakultas Ekonomi|UNDIP|Cikunir|cibitung|tinjomoyo|Meruya|KFC|Terminal 2|Dinas Pekerjaan|Rumah Makeupuccino|The Danted Mencret|Sekumpul|Cipaganti|Ronggowarsito|Pakem|Tugel|Aceh|RS UIN|Dago|Lampung|Pizza|Oseng|Sudirman|Bintaro|Malioboro|IGD|ITB|Majalengka|Sanggar Agung|Globalresourcestrader|Sarangan\")].reset_index(drop=True)\n",
    "print(\"isoniazid: \" + str(isoniazid_id.shape[0]))\n",
    "\n",
    "imunisasi_bcg_id = imunisasi_bcg_geo[imunisasi_bcg_geo[\"lokasi\"].str.contains(\"Indonesia|Jawa|Sulawesi|Yogyakarta|Jambi|Gorontalo|Banten|Jakarta|Riau|Sumatera|Kampung kandang|Menteng|Maumere|D 1537 OO|Manado|Sekolah Kartini|Bumi tamalanrea|Bogor|Gramedia|Gilimanuk|Bendungan hilir|Nusa Tenggara|Toilet|Cianjur|juanda|Fakultas Ekonomi|UNDIP|Cikunir|cibitung|tinjomoyo|Meruya|KFC|Terminal 2|Dinas Pekerjaan|Rumah Makeupuccino|The Danted Mencret|Sekumpul|Cipaganti|Ronggowarsito|Pakem|Tugel|Aceh|RS UIN|Dago|Lampung|Pizza|Oseng|Sudirman|Bintaro|Malioboro|IGD|ITB|Majalengka|Sanggar Agung|Globalresourcestrader|Sarangan\")].reset_index(drop=True)\n",
    "print(\"imunisasi bcg: \" + str(imunisasi_bcg_id.shape[0]))\n",
    "\n",
    "print()\n",
    "\n",
    "diare_id = diare_geo[diare_geo[\"lokasi\"].str.contains(\"Indonesia|Jawa|Sulawesi|Yogyakarta|Jambi|Gorontalo|Banten|Jakarta|Riau|Sumatera|Kampung kandang|Menteng|Maumere|D 1537 OO|Manado|Sekolah Kartini|Bumi tamalanrea|Bogor|Gramedia|Gilimanuk|Bendungan hilir|Nusa Tenggara|Toilet|Cianjur|juanda|Fakultas Ekonomi|UNDIP|Cikunir|cibitung|tinjomoyo|Meruya|KFC|Terminal 2|Dinas Pekerjaan|Rumah Makeupuccino|The Danted Mencret|Sekumpul|Cipaganti|Ronggowarsito|Pakem|Tugel|Aceh|RS UIN|Dago|Lampung|Pizza|Oseng|Sudirman|Bintaro|Malioboro|IGD|ITB|Majalengka|Sanggar Agung|Globalresourcestrader|Sarangan\")].reset_index(drop=True)\n",
    "print(\"diare: \" + str(diare_id.shape[0]))\n",
    "\n",
    "imodium_id = imodium_geo[imodium_geo[\"lokasi\"].str.contains(\"Indonesia|Jawa|Sulawesi|Yogyakarta|Jambi|Gorontalo|Banten|Jakarta|Riau|Sumatera|Kampung kandang|Menteng|Maumere|D 1537 OO|Manado|Sekolah Kartini|Bumi tamalanrea|Bogor|Gramedia|Gilimanuk|Bendungan hilir|Nusa Tenggara|Toilet|Cianjur|juanda|Fakultas Ekonomi|UNDIP|Cikunir|cibitung|tinjomoyo|Meruya|KFC|Terminal 2|Dinas Pekerjaan|Rumah Makeupuccino|The Danted Mencret|Sekumpul|Cipaganti|Ronggowarsito|Pakem|Tugel|Aceh|RS UIN|Dago|Lampung|Pizza|Oseng|Sudirman|Bintaro|Malioboro|IGD|ITB|Majalengka|Sanggar Agung|Globalresourcestrader|Sarangan\")].reset_index(drop=True)\n",
    "print(\"imodium: \" + str(imodium_id.shape[0]))\n",
    "\n",
    "diapet_id = diapet_geo[diapet_geo[\"lokasi\"].str.contains(\"Indonesia|Jawa|Sulawesi|Yogyakarta|Jambi|Gorontalo|Banten|Jakarta|Riau|Sumatera|Kampung kandang|Menteng|Maumere|D 1537 OO|Manado|Sekolah Kartini|Bumi tamalanrea|Bogor|Gramedia|Gilimanuk|Bendungan hilir|Nusa Tenggara|Toilet|Cianjur|juanda|Fakultas Ekonomi|UNDIP|Cikunir|cibitung|tinjomoyo|Meruya|KFC|Terminal 2|Dinas Pekerjaan|Rumah Makeupuccino|The Danted Mencret|Sekumpul|Cipaganti|Ronggowarsito|Pakem|Tugel|Aceh|RS UIN|Dago|Lampung|Pizza|Oseng|Sudirman|Bintaro|Malioboro|IGD|ITB|Majalengka|Sanggar Agung|Globalresourcestrader|Sarangan\")].reset_index(drop=True)\n",
    "print(\"diapet: \" + str(diapet_id.shape[0]))\n",
    "\n",
    "sakit_perut_id = sakit_perut_geo[sakit_perut_geo[\"lokasi\"].str.contains(\"Indonesia|Jawa|Sulawesi|Yogyakarta|Jambi|Gorontalo|Banten|Jakarta|Riau|Sumatera|Kampung kandang|Menteng|Maumere|D 1537 OO|Manado|Sekolah Kartini|Bumi tamalanrea|Bogor|Gramedia|Gilimanuk|Bendungan hilir|Nusa Tenggara|Toilet|Cianjur|juanda|Fakultas Ekonomi|UNDIP|Cikunir|cibitung|tinjomoyo|Meruya|KFC|Terminal 2|Dinas Pekerjaan|Rumah Makeupuccino|The Danted Mencret|Sekumpul|Cipaganti|Ronggowarsito|Pakem|Tugel|Aceh|RS UIN|Dago|Lampung|Pizza|Oseng|Sudirman|Bintaro|Malioboro|IGD|ITB|Majalengka|Sanggar Agung|Globalresourcestrader|Sarangan\")].reset_index(drop=True)\n",
    "print(\"sakit perut: \" + str(sakit_perut_id.shape[0]))\n",
    "\n",
    "mules_id = mules_geo[mules_geo[\"lokasi\"].str.contains(\"Indonesia|Jawa|Sulawesi|Yogyakarta|Jambi|Gorontalo|Banten|Jakarta|Riau|Sumatera|Kampung kandang|Menteng|Maumere|D 1537 OO|Manado|Sekolah Kartini|Bumi tamalanrea|Bogor|Gramedia|Gilimanuk|Bendungan hilir|Nusa Tenggara|Toilet|Cianjur|juanda|Fakultas Ekonomi|UNDIP|Cikunir|cibitung|tinjomoyo|Meruya|KFC|Terminal 2|Dinas Pekerjaan|Rumah Makeupuccino|The Danted Mencret|Sekumpul|Cipaganti|Ronggowarsito|Pakem|Tugel|Aceh|RS UIN|Dago|Lampung|Pizza|Oseng|Sudirman|Bintaro|Malioboro|IGD|ITB|Majalengka|Sanggar Agung|Globalresourcestrader|Sarangan\")].reset_index(drop=True)\n",
    "print(\"mules: \" + str(mules_id.shape[0]))\n",
    "\n",
    "mencret_id = mencret_geo[mencret_geo[\"lokasi\"].str.contains(\"Indonesia|Jawa|Sulawesi|Yogyakarta|Jambi|Gorontalo|Banten|Jakarta|Riau|Sumatera|Kampung kandang|Menteng|Maumere|D 1537 OO|Manado|Sekolah Kartini|Bumi tamalanrea|Bogor|Gramedia|Gilimanuk|Bendungan hilir|Nusa Tenggara|Toilet|Cianjur|juanda|Fakultas Ekonomi|UNDIP|Cikunir|cibitung|tinjomoyo|Meruya|KFC|Terminal 2|Dinas Pekerjaan|Rumah Makeupuccino|The Danted Mencret|Sekumpul|Cipaganti|Ronggowarsito|Pakem|Tugel|Aceh|RS UIN|Dago|Lampung|Pizza|Oseng|Sudirman|Bintaro|Malioboro|IGD|ITB|Majalengka|Sanggar Agung|Globalresourcestrader|Sarangan\")].reset_index(drop=True)\n",
    "print(\"mencret: \" + str(mencret_id.shape[0]))\n",
    "\n",
    "menceret_id = menceret_geo[menceret_geo[\"lokasi\"].str.contains(\"Indonesia|Jawa|Sulawesi|Yogyakarta|Jambi|Gorontalo|Banten|Jakarta|Riau|Sumatera|Kampung kandang|Menteng|Maumere|D 1537 OO|Manado|Sekolah Kartini|Bumi tamalanrea|Bogor|Gramedia|Gilimanuk|Bendungan hilir|Nusa Tenggara|Toilet|Cianjur|juanda|Fakultas Ekonomi|UNDIP|Cikunir|cibitung|tinjomoyo|Meruya|KFC|Terminal 2|Dinas Pekerjaan|Rumah Makeupuccino|The Danted Mencret|Sekumpul|Cipaganti|Ronggowarsito|Pakem|Tugel|Aceh|RS UIN|Dago|Lampung|Pizza|Oseng|Sudirman|Bintaro|Malioboro|IGD|ITB|Majalengka|Sanggar Agung|Globalresourcestrader|Sarangan\")].reset_index(drop=True)\n",
    "print(\"menceret: \" + str(menceret_id.shape[0]))\n",
    "\n",
    "salmonella_id = salmonella_geo[salmonella_geo[\"lokasi\"].str.contains(\"Indonesia|Jawa|Sulawesi|Yogyakarta|Jambi|Gorontalo|Banten|Jakarta|Riau|Sumatera|Kampung kandang|Menteng|Maumere|D 1537 OO|Manado|Sekolah Kartini|Bumi tamalanrea|Bogor|Gramedia|Gilimanuk|Bendungan hilir|Nusa Tenggara|Toilet|Cianjur|juanda|Fakultas Ekonomi|UNDIP|Cikunir|cibitung|tinjomoyo|Meruya|KFC|Terminal 2|Dinas Pekerjaan|Rumah Makeupuccino|The Danted Mencret|Sekumpul|Cipaganti|Ronggowarsito|Pakem|Tugel|Aceh|RS UIN|Dago|Lampung|Pizza|Oseng|Sudirman|Bintaro|Malioboro|IGD|ITB|Majalengka|Sanggar Agung|Globalresourcestrader|Sarangan\")].reset_index(drop=True)\n",
    "print(\"menceret: \" + str(salmonella_id.shape[0]))\n",
    "\n",
    "e_coli_id = e_coli_geo[e_coli_geo[\"lokasi\"].str.contains(\"Indonesia|Jawa|Sulawesi|Yogyakarta|Jambi|Gorontalo|Banten|Jakarta|Riau|Sumatera|Kampung kandang|Menteng|Maumere|D 1537 OO|Manado|Sekolah Kartini|Bumi tamalanrea|Bogor|Gramedia|Gilimanuk|Bendungan hilir|Nusa Tenggara|Toilet|Cianjur|juanda|Fakultas Ekonomi|UNDIP|Cikunir|cibitung|tinjomoyo|Meruya|KFC|Terminal 2|Dinas Pekerjaan|Rumah Makeupuccino|The Danted Mencret|Sekumpul|Cipaganti|Ronggowarsito|Pakem|Tugel|Aceh|RS UIN|Dago|Lampung|Pizza|Oseng|Sudirman|Bintaro|Malioboro|IGD|ITB|Majalengka|Sanggar Agung|Globalresourcestrader|Sarangan\")].reset_index(drop=True)\n",
    "print(\"e coli: \" + str(e_coli_id.shape[0]))\n",
    "\n",
    "oralit_id = oralit_geo[oralit_geo[\"lokasi\"].str.contains(\"Indonesia|Jawa|Sulawesi|Yogyakarta|Jambi|Gorontalo|Banten|Jakarta|Riau|Sumatera|Kampung kandang|Menteng|Maumere|D 1537 OO|Manado|Sekolah Kartini|Bumi tamalanrea|Bogor|Gramedia|Gilimanuk|Bendungan hilir|Nusa Tenggara|Toilet|Cianjur|juanda|Fakultas Ekonomi|UNDIP|Cikunir|cibitung|tinjomoyo|Meruya|KFC|Terminal 2|Dinas Pekerjaan|Rumah Makeupuccino|The Danted Mencret|Sekumpul|Cipaganti|Ronggowarsito|Pakem|Tugel|Aceh|RS UIN|Dago|Lampung|Pizza|Oseng|Sudirman|Bintaro|Malioboro|IGD|ITB|Majalengka|Sanggar Agung|Globalresourcestrader|Sarangan\")].reset_index(drop=True)\n",
    "print(\"oralit: \" + str(oralit_id.shape[0]))"
   ]
  },
  {
   "cell_type": "markdown",
   "metadata": {
    "slideshow": {
     "slide_type": "slide"
    }
   },
   "source": [
    "# Data dengan Geolokasi"
   ]
  },
  {
   "cell_type": "code",
   "execution_count": 3,
   "metadata": {
    "slideshow": {
     "slide_type": "slide"
    }
   },
   "outputs": [
    {
     "name": "stdout",
     "output_type": "stream",
     "text": [
      "14722\n"
     ]
    },
    {
     "data": {
      "text/html": [
       "<div>\n",
       "<style scoped>\n",
       "    .dataframe tbody tr th:only-of-type {\n",
       "        vertical-align: middle;\n",
       "    }\n",
       "\n",
       "    .dataframe tbody tr th {\n",
       "        vertical-align: top;\n",
       "    }\n",
       "\n",
       "    .dataframe thead th {\n",
       "        text-align: right;\n",
       "    }\n",
       "</style>\n",
       "<table border=\"1\" class=\"dataframe\">\n",
       "  <thead>\n",
       "    <tr style=\"text-align: right;\">\n",
       "      <th></th>\n",
       "      <th>username</th>\n",
       "      <th>date</th>\n",
       "      <th>time</th>\n",
       "      <th>text</th>\n",
       "      <th>tweetID</th>\n",
       "      <th>placeID</th>\n",
       "      <th>daerah</th>\n",
       "      <th>lokasi</th>\n",
       "      <th>longitude</th>\n",
       "      <th>latitude</th>\n",
       "    </tr>\n",
       "  </thead>\n",
       "  <tbody>\n",
       "    <tr>\n",
       "      <th>10356</th>\n",
       "      <td>@syahmie9000</td>\n",
       "      <td>2018-01-01</td>\n",
       "      <td>22:58</td>\n",
       "      <td>sakit perut ni nk tido dh slow2</td>\n",
       "      <td>947859547963584514</td>\n",
       "      <td>bfd31bd14b32e206</td>\n",
       "      <td>Kuala Nerus</td>\n",
       "      <td>Kuala Nerus Terengganu</td>\n",
       "      <td>103.05502109247088</td>\n",
       "      <td>5.3675648</td>\n",
       "    </tr>\n",
       "    <tr>\n",
       "      <th>10742</th>\n",
       "      <td>@Mizan_Amran</td>\n",
       "      <td>2018-01-01</td>\n",
       "      <td>13:16</td>\n",
       "      <td>Teda juga makan yg nda patut  sakit perut tau</td>\n",
       "      <td>947713107207401472</td>\n",
       "      <td>7b02fbddf4d9f2c6</td>\n",
       "      <td>Bandar Kuala Lumpur</td>\n",
       "      <td>Bandar Kuala Lumpur Wilayah Persekutuan Kuala...</td>\n",
       "      <td>101.70353513023889</td>\n",
       "      <td>3.1485306499999997</td>\n",
       "    </tr>\n",
       "    <tr>\n",
       "      <th>10631</th>\n",
       "      <td>@AbdulIkromMukti</td>\n",
       "      <td>2018-01-01</td>\n",
       "      <td>17:22</td>\n",
       "      <td>Ntah ini gaya apa. Nahan bersin Nahan mules M...</td>\n",
       "      <td>947775136970797056</td>\n",
       "      <td>2eb44917f4d6dddc</td>\n",
       "      <td>Cirebon Barat</td>\n",
       "      <td>Cirebon Barat Indonesia</td>\n",
       "      <td>108.53915156648996</td>\n",
       "      <td>-6.7191105</td>\n",
       "    </tr>\n",
       "    <tr>\n",
       "      <th>10604</th>\n",
       "      <td>@nengnurlaela21</td>\n",
       "      <td>2018-01-01</td>\n",
       "      <td>18:36</td>\n",
       "      <td>get well soon Kak Dori   masih di Sukabumi ka...</td>\n",
       "      <td>947793618315522048</td>\n",
       "      <td>8b2c9342507e86d3</td>\n",
       "      <td>Baros</td>\n",
       "      <td>Baros Indonesia</td>\n",
       "      <td>106.92870584765362</td>\n",
       "      <td>-6.946683</td>\n",
       "    </tr>\n",
       "    <tr>\n",
       "      <th>10540</th>\n",
       "      <td>@_sulistiyowati_</td>\n",
       "      <td>2018-01-01</td>\n",
       "      <td>19:57</td>\n",
       "      <td>Awalnya pening doang berhari-hari. Terus dema...</td>\n",
       "      <td>947813927059988481</td>\n",
       "      <td>dc83e4ea9c950d75</td>\n",
       "      <td>Labuhan Maringgai</td>\n",
       "      <td>Labuhan Maringgai Indonesia</td>\n",
       "      <td>105.81180643124533</td>\n",
       "      <td>-5.342388</td>\n",
       "    </tr>\n",
       "  </tbody>\n",
       "</table>\n",
       "</div>"
      ],
      "text/plain": [
       "               username         date    time  \\\n",
       "10356      @syahmie9000   2018-01-01   22:58   \n",
       "10742      @Mizan_Amran   2018-01-01   13:16   \n",
       "10631  @AbdulIkromMukti   2018-01-01   17:22   \n",
       "10604   @nengnurlaela21   2018-01-01   18:36   \n",
       "10540  @_sulistiyowati_   2018-01-01   19:57   \n",
       "\n",
       "                                                    text             tweetID  \\\n",
       "10356                    sakit perut ni nk tido dh slow2  947859547963584514   \n",
       "10742      Teda juga makan yg nda patut  sakit perut tau  947713107207401472   \n",
       "10631   Ntah ini gaya apa. Nahan bersin Nahan mules M...  947775136970797056   \n",
       "10604   get well soon Kak Dori   masih di Sukabumi ka...  947793618315522048   \n",
       "10540   Awalnya pening doang berhari-hari. Terus dema...  947813927059988481   \n",
       "\n",
       "                 placeID                daerah  \\\n",
       "10356   bfd31bd14b32e206           Kuala Nerus   \n",
       "10742   7b02fbddf4d9f2c6   Bandar Kuala Lumpur   \n",
       "10631   2eb44917f4d6dddc         Cirebon Barat   \n",
       "10604   8b2c9342507e86d3                 Baros   \n",
       "10540   dc83e4ea9c950d75     Labuhan Maringgai   \n",
       "\n",
       "                                                  lokasi            longitude  \\\n",
       "10356                             Kuala Nerus Terengganu   103.05502109247088   \n",
       "10742   Bandar Kuala Lumpur Wilayah Persekutuan Kuala...   101.70353513023889   \n",
       "10631                            Cirebon Barat Indonesia   108.53915156648996   \n",
       "10604                                    Baros Indonesia   106.92870584765362   \n",
       "10540                        Labuhan Maringgai Indonesia   105.81180643124533   \n",
       "\n",
       "                  latitude  \n",
       "10356            5.3675648  \n",
       "10742   3.1485306499999997  \n",
       "10631           -6.7191105  \n",
       "10604            -6.946683  \n",
       "10540            -5.342388  "
      ]
     },
     "execution_count": 3,
     "metadata": {},
     "output_type": "execute_result"
    }
   ],
   "source": [
    "pm_geo = pm[pm['placeID'] != ' '].sort_values(by=\"date\")\n",
    "print(pm_geo.shape[0])\n",
    "pm_geo.head()"
   ]
  },
  {
   "cell_type": "markdown",
   "metadata": {
    "slideshow": {
     "slide_type": "slide"
    }
   },
   "source": [
    "# Data Tanpa Duplikat"
   ]
  },
  {
   "cell_type": "code",
   "execution_count": 4,
   "metadata": {
    "slideshow": {
     "slide_type": "slide"
    }
   },
   "outputs": [
    {
     "name": "stdout",
     "output_type": "stream",
     "text": [
      "14127\n"
     ]
    },
    {
     "data": {
      "text/html": [
       "<div>\n",
       "<style scoped>\n",
       "    .dataframe tbody tr th:only-of-type {\n",
       "        vertical-align: middle;\n",
       "    }\n",
       "\n",
       "    .dataframe tbody tr th {\n",
       "        vertical-align: top;\n",
       "    }\n",
       "\n",
       "    .dataframe thead th {\n",
       "        text-align: right;\n",
       "    }\n",
       "</style>\n",
       "<table border=\"1\" class=\"dataframe\">\n",
       "  <thead>\n",
       "    <tr style=\"text-align: right;\">\n",
       "      <th></th>\n",
       "      <th>username</th>\n",
       "      <th>date</th>\n",
       "      <th>time</th>\n",
       "      <th>text</th>\n",
       "      <th>tweetID</th>\n",
       "      <th>placeID</th>\n",
       "      <th>daerah</th>\n",
       "      <th>lokasi</th>\n",
       "      <th>longitude</th>\n",
       "      <th>latitude</th>\n",
       "    </tr>\n",
       "  </thead>\n",
       "  <tbody>\n",
       "    <tr>\n",
       "      <th>10356</th>\n",
       "      <td>@syahmie9000</td>\n",
       "      <td>2018-01-01</td>\n",
       "      <td>22:58</td>\n",
       "      <td>sakit perut ni nk tido dh slow2</td>\n",
       "      <td>947859547963584514</td>\n",
       "      <td>bfd31bd14b32e206</td>\n",
       "      <td>Kuala Nerus</td>\n",
       "      <td>Kuala Nerus Terengganu</td>\n",
       "      <td>103.05502109247088</td>\n",
       "      <td>5.3675648</td>\n",
       "    </tr>\n",
       "    <tr>\n",
       "      <th>10742</th>\n",
       "      <td>@Mizan_Amran</td>\n",
       "      <td>2018-01-01</td>\n",
       "      <td>13:16</td>\n",
       "      <td>Teda juga makan yg nda patut  sakit perut tau</td>\n",
       "      <td>947713107207401472</td>\n",
       "      <td>7b02fbddf4d9f2c6</td>\n",
       "      <td>Bandar Kuala Lumpur</td>\n",
       "      <td>Bandar Kuala Lumpur Wilayah Persekutuan Kuala...</td>\n",
       "      <td>101.70353513023889</td>\n",
       "      <td>3.1485306499999997</td>\n",
       "    </tr>\n",
       "    <tr>\n",
       "      <th>10631</th>\n",
       "      <td>@AbdulIkromMukti</td>\n",
       "      <td>2018-01-01</td>\n",
       "      <td>17:22</td>\n",
       "      <td>Ntah ini gaya apa. Nahan bersin Nahan mules M...</td>\n",
       "      <td>947775136970797056</td>\n",
       "      <td>2eb44917f4d6dddc</td>\n",
       "      <td>Cirebon Barat</td>\n",
       "      <td>Cirebon Barat Indonesia</td>\n",
       "      <td>108.53915156648996</td>\n",
       "      <td>-6.7191105</td>\n",
       "    </tr>\n",
       "    <tr>\n",
       "      <th>10604</th>\n",
       "      <td>@nengnurlaela21</td>\n",
       "      <td>2018-01-01</td>\n",
       "      <td>18:36</td>\n",
       "      <td>get well soon Kak Dori   masih di Sukabumi ka...</td>\n",
       "      <td>947793618315522048</td>\n",
       "      <td>8b2c9342507e86d3</td>\n",
       "      <td>Baros</td>\n",
       "      <td>Baros Indonesia</td>\n",
       "      <td>106.92870584765362</td>\n",
       "      <td>-6.946683</td>\n",
       "    </tr>\n",
       "    <tr>\n",
       "      <th>10540</th>\n",
       "      <td>@_sulistiyowati_</td>\n",
       "      <td>2018-01-01</td>\n",
       "      <td>19:57</td>\n",
       "      <td>Awalnya pening doang berhari-hari. Terus dema...</td>\n",
       "      <td>947813927059988481</td>\n",
       "      <td>dc83e4ea9c950d75</td>\n",
       "      <td>Labuhan Maringgai</td>\n",
       "      <td>Labuhan Maringgai Indonesia</td>\n",
       "      <td>105.81180643124533</td>\n",
       "      <td>-5.342388</td>\n",
       "    </tr>\n",
       "  </tbody>\n",
       "</table>\n",
       "</div>"
      ],
      "text/plain": [
       "               username         date    time  \\\n",
       "10356      @syahmie9000   2018-01-01   22:58   \n",
       "10742      @Mizan_Amran   2018-01-01   13:16   \n",
       "10631  @AbdulIkromMukti   2018-01-01   17:22   \n",
       "10604   @nengnurlaela21   2018-01-01   18:36   \n",
       "10540  @_sulistiyowati_   2018-01-01   19:57   \n",
       "\n",
       "                                                    text             tweetID  \\\n",
       "10356                    sakit perut ni nk tido dh slow2  947859547963584514   \n",
       "10742      Teda juga makan yg nda patut  sakit perut tau  947713107207401472   \n",
       "10631   Ntah ini gaya apa. Nahan bersin Nahan mules M...  947775136970797056   \n",
       "10604   get well soon Kak Dori   masih di Sukabumi ka...  947793618315522048   \n",
       "10540   Awalnya pening doang berhari-hari. Terus dema...  947813927059988481   \n",
       "\n",
       "                 placeID                daerah  \\\n",
       "10356   bfd31bd14b32e206           Kuala Nerus   \n",
       "10742   7b02fbddf4d9f2c6   Bandar Kuala Lumpur   \n",
       "10631   2eb44917f4d6dddc         Cirebon Barat   \n",
       "10604   8b2c9342507e86d3                 Baros   \n",
       "10540   dc83e4ea9c950d75     Labuhan Maringgai   \n",
       "\n",
       "                                                  lokasi            longitude  \\\n",
       "10356                             Kuala Nerus Terengganu   103.05502109247088   \n",
       "10742   Bandar Kuala Lumpur Wilayah Persekutuan Kuala...   101.70353513023889   \n",
       "10631                            Cirebon Barat Indonesia   108.53915156648996   \n",
       "10604                                    Baros Indonesia   106.92870584765362   \n",
       "10540                        Labuhan Maringgai Indonesia   105.81180643124533   \n",
       "\n",
       "                  latitude  \n",
       "10356            5.3675648  \n",
       "10742   3.1485306499999997  \n",
       "10631           -6.7191105  \n",
       "10604            -6.946683  \n",
       "10540            -5.342388  "
      ]
     },
     "execution_count": 4,
     "metadata": {},
     "output_type": "execute_result"
    }
   ],
   "source": [
    "pm_geo_drop = pm_geo.drop_duplicates()\n",
    "print(pm_geo_drop.shape[0])\n",
    "pm_geo_drop.head()"
   ]
  },
  {
   "cell_type": "markdown",
   "metadata": {
    "slideshow": {
     "slide_type": "slide"
    }
   },
   "source": [
    "# Data Lokasi Indonesia"
   ]
  },
  {
   "cell_type": "code",
   "execution_count": 5,
   "metadata": {
    "slideshow": {
     "slide_type": "slide"
    }
   },
   "outputs": [
    {
     "name": "stdout",
     "output_type": "stream",
     "text": [
      "6787\n"
     ]
    },
    {
     "data": {
      "text/html": [
       "<div>\n",
       "<style scoped>\n",
       "    .dataframe tbody tr th:only-of-type {\n",
       "        vertical-align: middle;\n",
       "    }\n",
       "\n",
       "    .dataframe tbody tr th {\n",
       "        vertical-align: top;\n",
       "    }\n",
       "\n",
       "    .dataframe thead th {\n",
       "        text-align: right;\n",
       "    }\n",
       "</style>\n",
       "<table border=\"1\" class=\"dataframe\">\n",
       "  <thead>\n",
       "    <tr style=\"text-align: right;\">\n",
       "      <th></th>\n",
       "      <th>username</th>\n",
       "      <th>date</th>\n",
       "      <th>time</th>\n",
       "      <th>text</th>\n",
       "      <th>tweetID</th>\n",
       "      <th>placeID</th>\n",
       "      <th>daerah</th>\n",
       "      <th>lokasi</th>\n",
       "      <th>longitude</th>\n",
       "      <th>latitude</th>\n",
       "    </tr>\n",
       "  </thead>\n",
       "  <tbody>\n",
       "    <tr>\n",
       "      <th>0</th>\n",
       "      <td>@AbdulIkromMukti</td>\n",
       "      <td>2018-01-01</td>\n",
       "      <td>17:22</td>\n",
       "      <td>Ntah ini gaya apa. Nahan bersin Nahan mules M...</td>\n",
       "      <td>947775136970797056</td>\n",
       "      <td>2eb44917f4d6dddc</td>\n",
       "      <td>Cirebon Barat</td>\n",
       "      <td>Cirebon Barat Indonesia</td>\n",
       "      <td>108.53915156648996</td>\n",
       "      <td>-6.7191105</td>\n",
       "    </tr>\n",
       "    <tr>\n",
       "      <th>1</th>\n",
       "      <td>@nengnurlaela21</td>\n",
       "      <td>2018-01-01</td>\n",
       "      <td>18:36</td>\n",
       "      <td>get well soon Kak Dori   masih di Sukabumi ka...</td>\n",
       "      <td>947793618315522048</td>\n",
       "      <td>8b2c9342507e86d3</td>\n",
       "      <td>Baros</td>\n",
       "      <td>Baros Indonesia</td>\n",
       "      <td>106.92870584765362</td>\n",
       "      <td>-6.946683</td>\n",
       "    </tr>\n",
       "    <tr>\n",
       "      <th>2</th>\n",
       "      <td>@_sulistiyowati_</td>\n",
       "      <td>2018-01-01</td>\n",
       "      <td>19:57</td>\n",
       "      <td>Awalnya pening doang berhari-hari. Terus dema...</td>\n",
       "      <td>947813927059988481</td>\n",
       "      <td>dc83e4ea9c950d75</td>\n",
       "      <td>Labuhan Maringgai</td>\n",
       "      <td>Labuhan Maringgai Indonesia</td>\n",
       "      <td>105.81180643124533</td>\n",
       "      <td>-5.342388</td>\n",
       "    </tr>\n",
       "    <tr>\n",
       "      <th>3</th>\n",
       "      <td>@rundraj</td>\n",
       "      <td>2018-01-01</td>\n",
       "      <td>13:39</td>\n",
       "      <td>Sing seneng akeh  sing mules merga mburi ngom...</td>\n",
       "      <td>947719008975015936</td>\n",
       "      <td>c4397d8c10325af5</td>\n",
       "      <td>Kasihan</td>\n",
       "      <td>Kasihan Indonesia</td>\n",
       "      <td>110.33361932383802</td>\n",
       "      <td>-7.814738999999999</td>\n",
       "    </tr>\n",
       "    <tr>\n",
       "      <th>4</th>\n",
       "      <td>@fitryfee3</td>\n",
       "      <td>2018-01-01</td>\n",
       "      <td>11:55</td>\n",
       "      <td>Maag kumat sejak kemarin  hasilnya diare. Mul...</td>\n",
       "      <td>947692732536971264</td>\n",
       "      <td>420f122b6bea262c</td>\n",
       "      <td>Lemahabang</td>\n",
       "      <td>Lemahabang Indonesia</td>\n",
       "      <td>107.18428703876046</td>\n",
       "      <td>-6.2976855</td>\n",
       "    </tr>\n",
       "  </tbody>\n",
       "</table>\n",
       "</div>"
      ],
      "text/plain": [
       "           username         date    time  \\\n",
       "0  @AbdulIkromMukti   2018-01-01   17:22   \n",
       "1   @nengnurlaela21   2018-01-01   18:36   \n",
       "2  @_sulistiyowati_   2018-01-01   19:57   \n",
       "3          @rundraj   2018-01-01   13:39   \n",
       "4        @fitryfee3   2018-01-01   11:55   \n",
       "\n",
       "                                                text             tweetID  \\\n",
       "0   Ntah ini gaya apa. Nahan bersin Nahan mules M...  947775136970797056   \n",
       "1   get well soon Kak Dori   masih di Sukabumi ka...  947793618315522048   \n",
       "2   Awalnya pening doang berhari-hari. Terus dema...  947813927059988481   \n",
       "3   Sing seneng akeh  sing mules merga mburi ngom...  947719008975015936   \n",
       "4   Maag kumat sejak kemarin  hasilnya diare. Mul...  947692732536971264   \n",
       "\n",
       "             placeID              daerah                        lokasi  \\\n",
       "0   2eb44917f4d6dddc       Cirebon Barat       Cirebon Barat Indonesia   \n",
       "1   8b2c9342507e86d3               Baros               Baros Indonesia   \n",
       "2   dc83e4ea9c950d75   Labuhan Maringgai   Labuhan Maringgai Indonesia   \n",
       "3   c4397d8c10325af5             Kasihan             Kasihan Indonesia   \n",
       "4   420f122b6bea262c          Lemahabang          Lemahabang Indonesia   \n",
       "\n",
       "             longitude             latitude  \n",
       "0   108.53915156648996           -6.7191105  \n",
       "1   106.92870584765362            -6.946683  \n",
       "2   105.81180643124533            -5.342388  \n",
       "3   110.33361932383802   -7.814738999999999  \n",
       "4   107.18428703876046           -6.2976855  "
      ]
     },
     "execution_count": 5,
     "metadata": {},
     "output_type": "execute_result"
    }
   ],
   "source": [
    "pm_id = pm_geo_drop[pm_geo_drop[\"lokasi\"].str.contains(\"Indonesia|Jawa|Sulawesi|Yogyakarta|Jambi|Gorontalo|Banten|Jakarta|Riau|Sumatera|Kampung kandang|Menteng|Maumere|D 1537 OO|Manado|Sekolah Kartini|Bumi tamalanrea|Bogor|Gramedia|Gilimanuk|Bendungan hilir|Nusa Tenggara|Toilet|Cianjur|juanda|Fakultas Ekonomi|UNDIP|Cikunir|cibitung|tinjomoyo|Meruya|KFC|Terminal 2|Dinas Pekerjaan|Rumah Makeupuccino|The Danted Mencret|Sekumpul|Cipaganti|Ronggowarsito|Pakem|Tugel|Aceh|RS UIN|Dago|Lampung|Pizza|Oseng|Sudirman|Bintaro|Malioboro|IGD|ITB|Majalengka|Sanggar Agung|Globalresourcestrader|Sarangan\")].reset_index(drop=True)\n",
    "print(pm_id.shape[0])\n",
    "pm_id.head()"
   ]
  },
  {
   "cell_type": "code",
   "execution_count": 6,
   "metadata": {
    "slideshow": {
     "slide_type": "skip"
    }
   },
   "outputs": [],
   "source": [
    "import matplotlib.pyplot as plt; \n",
    "plt.rcdefaults()\n",
    "import numpy as np"
   ]
  },
  {
   "cell_type": "code",
   "execution_count": 7,
   "metadata": {
    "slideshow": {
     "slide_type": "slide"
    }
   },
   "outputs": [
    {
     "data": {
      "text/html": [
       "<div>\n",
       "<style scoped>\n",
       "    .dataframe tbody tr th:only-of-type {\n",
       "        vertical-align: middle;\n",
       "    }\n",
       "\n",
       "    .dataframe tbody tr th {\n",
       "        vertical-align: top;\n",
       "    }\n",
       "\n",
       "    .dataframe thead th {\n",
       "        text-align: right;\n",
       "    }\n",
       "</style>\n",
       "<table border=\"1\" class=\"dataframe\">\n",
       "  <thead>\n",
       "    <tr style=\"text-align: right;\">\n",
       "      <th></th>\n",
       "      <th>data</th>\n",
       "      <th>freq</th>\n",
       "    </tr>\n",
       "  </thead>\n",
       "  <tbody>\n",
       "    <tr>\n",
       "      <th>0</th>\n",
       "      <td>Total</td>\n",
       "      <td>361580</td>\n",
       "    </tr>\n",
       "    <tr>\n",
       "      <th>1</th>\n",
       "      <td>Geolocation</td>\n",
       "      <td>14722</td>\n",
       "    </tr>\n",
       "    <tr>\n",
       "      <th>2</th>\n",
       "      <td>Identic</td>\n",
       "      <td>14127</td>\n",
       "    </tr>\n",
       "    <tr>\n",
       "      <th>3</th>\n",
       "      <td>Indonesia</td>\n",
       "      <td>6787</td>\n",
       "    </tr>\n",
       "  </tbody>\n",
       "</table>\n",
       "</div>"
      ],
      "text/plain": [
       "          data    freq\n",
       "0        Total  361580\n",
       "1  Geolocation   14722\n",
       "2      Identic   14127\n",
       "3    Indonesia    6787"
      ]
     },
     "execution_count": 7,
     "metadata": {},
     "output_type": "execute_result"
    }
   ],
   "source": [
    "data = pd.DataFrame({'data': ['Total', 'Geolocation', 'Identic', 'Indonesia'],\n",
    "                    'freq': [pm.shape[0], pm_geo.shape[0], pm_geo_drop.shape[0], pm_id.shape[0]]})\n",
    "data"
   ]
  },
  {
   "cell_type": "code",
   "execution_count": 8,
   "metadata": {
    "slideshow": {
     "slide_type": "slide"
    }
   },
   "outputs": [
    {
     "data": {
      "image/png": "[encoded data removed]",
      "text/plain": [
       "<Figure size 432x288 with 1 Axes>"
      ]
     },
     "metadata": {},
     "output_type": "display_data"
    }
   ],
   "source": [
    "ax = data.plot(x='data', y='freq',kind=\"bar\", rot=0, legend=None)\n",
    "ax.set_alpha(0.5)\n",
    "ax.set_xlabel('Data')\n",
    "ax.set_ylabel('Number of Tweets')\n",
    "ax.set_title('Twitter Data for Infectious Diseases 2018')\n",
    "\n",
    "ax.text(ax.patches[0].get_x()+0.05, ax.patches[0].get_height()+5000, str(ax.patches[0].get_height()), fontsize=10)\n",
    "ax.text(ax.patches[1].get_x()+0.075, ax.patches[1].get_height()+2000, str(ax.patches[1].get_height()), fontsize=10)\n",
    "ax.text(ax.patches[2].get_x()+0.08, ax.patches[2].get_height()+1000, str(ax.patches[2].get_height()), fontsize=10)\n",
    "ax.text(ax.patches[3].get_x()+0.1, ax.patches[3].get_height()+300, str(ax.patches[3].get_height()), fontsize=10)\n",
    "\n",
    "plt.show()"
   ]
  },
  {
   "cell_type": "code",
   "execution_count": 9,
   "metadata": {
    "slideshow": {
     "slide_type": "slide"
    }
   },
   "outputs": [
    {
     "data": {
      "image/png": "[encoded data removed]",
      "text/plain": [
       "<Figure size 432x288 with 1 Axes>"
      ]
     },
     "metadata": {},
     "output_type": "display_data"
    }
   ],
   "source": [
    "ax = data.plot(x='data', y='freq',kind=\"bar\", rot=0, logy=True, legend=None)\n",
    "ax.set_alpha(0.5)\n",
    "ax.set_xlabel('Data')\n",
    "ax.set_ylabel('Number of Tweets')\n",
    "ax.set_title('Twitter Data for Infectious Diseases 2018')\n",
    "\n",
    "ax.text(ax.patches[0].get_x()+0.05, ax.patches[0].get_height()+15000, str(ax.patches[0].get_height()), fontsize=10)\n",
    "ax.text(ax.patches[1].get_x()+0.075, ax.patches[1].get_height()+1000, str(ax.patches[1].get_height()), fontsize=10)\n",
    "ax.text(ax.patches[2].get_x()+0.08, ax.patches[2].get_height()+1000, str(ax.patches[2].get_height()), fontsize=10)\n",
    "ax.text(ax.patches[3].get_x()+0.125, ax.patches[3].get_height()+300, str(ax.patches[3].get_height()), fontsize=10)\n",
    "\n",
    "plt.show()"
   ]
  },
  {
   "cell_type": "markdown",
   "metadata": {
    "slideshow": {
     "slide_type": "slide"
    }
   },
   "source": [
    "# Text Preprocessing"
   ]
  },
  {
   "cell_type": "code",
   "execution_count": 10,
   "metadata": {
    "slideshow": {
     "slide_type": "skip"
    }
   },
   "outputs": [],
   "source": [
    "import re\n",
    "import string\n",
    "import nltk\n",
    "from nltk.tokenize import word_tokenize\n",
    "from nltk.corpus import stopwords\n",
    "from Sastrawi.Stemmer.StemmerFactory import StemmerFactory\n",
    "from sklearn.feature_extraction.text import CountVectorizer\n",
    "\n",
    "stop_words = set(stopwords.words('indonesian'))\n",
    "factory = StemmerFactory()\n",
    "stemmer = factory.create_stemmer()\n",
    "\n",
    "def tweet_cleaner(text):\n",
    "    lower = text.lower()\n",
    "    no_number = re.sub(r'\\d+', '', lower)\n",
    "    no_url = re.sub(r\"http\\S+\", \"\", no_number)\n",
    "    no_dash = no_url.replace(\"-\", \" \")\n",
    "    no_punctuation = no_dash.translate(str.maketrans('', '', string.punctuation))\n",
    "    no_white_space = re.sub(' +', ' ', no_punctuation)\n",
    "    tokens = word_tokenize(no_white_space)\n",
    "    no_stopwords = [i for i in tokens if not i in stop_words]\n",
    "    stem = stemmer.stem(' '.join(no_stopwords))\n",
    "    return stem\n",
    "\n",
    "result = []\n",
    "for text in pm_id['text']:\n",
    "    result.append(tweet_cleaner(text))\n",
    "pm_id['result'] = result\n",
    "\n",
    "# create a dataframe from a word matrix\n",
    "def wm2df(wm, feat_names):\n",
    "    \n",
    "    # create an index for each row\n",
    "    doc_names = ['Doc{:d}'.format(idx) for idx, _ in enumerate(wm)]\n",
    "    df = pd.DataFrame(data=wm.toarray(), index=doc_names,\n",
    "                      columns=feat_names)\n",
    "    return(df)\n",
    "  \n",
    "# set of documents\n",
    "corpora = pm_id.loc[:,'result'].tolist()\n",
    "\n",
    "# instantiate the vectorizer object\n",
    "cvec = CountVectorizer(lowercase=False, min_df=85)\n",
    "\n",
    "# convert the documents into a document-term matrix\n",
    "wm = cvec.fit_transform(corpora)\n",
    "\n",
    "# retrieve the terms found in the corpora\n",
    "tokens = cvec.get_feature_names()\n",
    "\n",
    "# create a dataframe from the matrix\n",
    "tdm = wm2df(wm, tokens)"
   ]
  },
  {
   "cell_type": "code",
   "execution_count": 13,
   "metadata": {
    "slideshow": {
     "slide_type": "slide"
    }
   },
   "outputs": [
    {
     "name": "stdout",
     "output_type": "stream",
     "text": [
      "6787\n"
     ]
    },
    {
     "data": {
      "text/html": [
       "<div>\n",
       "<style scoped>\n",
       "    .dataframe tbody tr th:only-of-type {\n",
       "        vertical-align: middle;\n",
       "    }\n",
       "\n",
       "    .dataframe tbody tr th {\n",
       "        vertical-align: top;\n",
       "    }\n",
       "\n",
       "    .dataframe thead th {\n",
       "        text-align: right;\n",
       "    }\n",
       "</style>\n",
       "<table border=\"1\" class=\"dataframe\">\n",
       "  <thead>\n",
       "    <tr style=\"text-align: right;\">\n",
       "      <th></th>\n",
       "      <th>abis</th>\n",
       "      <th>air</th>\n",
       "      <th>aja</th>\n",
       "      <th>anak</th>\n",
       "      <th>at</th>\n",
       "      <th>bakteri</th>\n",
       "      <th>banget</th>\n",
       "      <th>bangun</th>\n",
       "      <th>bgt</th>\n",
       "      <th>biar</th>\n",
       "      <th>...</th>\n",
       "      <th>tau</th>\n",
       "      <th>tidur</th>\n",
       "      <th>tp</th>\n",
       "      <th>trus</th>\n",
       "      <th>tuh</th>\n",
       "      <th>udah</th>\n",
       "      <th>udh</th>\n",
       "      <th>wkwk</th>\n",
       "      <th>ya</th>\n",
       "      <th>yg</th>\n",
       "    </tr>\n",
       "  </thead>\n",
       "  <tbody>\n",
       "    <tr>\n",
       "      <th>Doc0</th>\n",
       "      <td>0</td>\n",
       "      <td>0</td>\n",
       "      <td>0</td>\n",
       "      <td>0</td>\n",
       "      <td>0</td>\n",
       "      <td>0</td>\n",
       "      <td>0</td>\n",
       "      <td>0</td>\n",
       "      <td>0</td>\n",
       "      <td>0</td>\n",
       "      <td>...</td>\n",
       "      <td>0</td>\n",
       "      <td>0</td>\n",
       "      <td>0</td>\n",
       "      <td>0</td>\n",
       "      <td>0</td>\n",
       "      <td>0</td>\n",
       "      <td>0</td>\n",
       "      <td>0</td>\n",
       "      <td>0</td>\n",
       "      <td>0</td>\n",
       "    </tr>\n",
       "    <tr>\n",
       "      <th>Doc1</th>\n",
       "      <td>0</td>\n",
       "      <td>1</td>\n",
       "      <td>0</td>\n",
       "      <td>0</td>\n",
       "      <td>0</td>\n",
       "      <td>0</td>\n",
       "      <td>0</td>\n",
       "      <td>0</td>\n",
       "      <td>0</td>\n",
       "      <td>0</td>\n",
       "      <td>...</td>\n",
       "      <td>0</td>\n",
       "      <td>0</td>\n",
       "      <td>0</td>\n",
       "      <td>0</td>\n",
       "      <td>0</td>\n",
       "      <td>0</td>\n",
       "      <td>0</td>\n",
       "      <td>0</td>\n",
       "      <td>0</td>\n",
       "      <td>0</td>\n",
       "    </tr>\n",
       "    <tr>\n",
       "      <th>Doc2</th>\n",
       "      <td>0</td>\n",
       "      <td>0</td>\n",
       "      <td>0</td>\n",
       "      <td>0</td>\n",
       "      <td>0</td>\n",
       "      <td>0</td>\n",
       "      <td>0</td>\n",
       "      <td>0</td>\n",
       "      <td>0</td>\n",
       "      <td>0</td>\n",
       "      <td>...</td>\n",
       "      <td>0</td>\n",
       "      <td>0</td>\n",
       "      <td>0</td>\n",
       "      <td>0</td>\n",
       "      <td>0</td>\n",
       "      <td>0</td>\n",
       "      <td>0</td>\n",
       "      <td>0</td>\n",
       "      <td>0</td>\n",
       "      <td>0</td>\n",
       "    </tr>\n",
       "    <tr>\n",
       "      <th>Doc3</th>\n",
       "      <td>0</td>\n",
       "      <td>0</td>\n",
       "      <td>0</td>\n",
       "      <td>0</td>\n",
       "      <td>0</td>\n",
       "      <td>0</td>\n",
       "      <td>0</td>\n",
       "      <td>0</td>\n",
       "      <td>0</td>\n",
       "      <td>0</td>\n",
       "      <td>...</td>\n",
       "      <td>0</td>\n",
       "      <td>0</td>\n",
       "      <td>0</td>\n",
       "      <td>0</td>\n",
       "      <td>0</td>\n",
       "      <td>0</td>\n",
       "      <td>0</td>\n",
       "      <td>0</td>\n",
       "      <td>0</td>\n",
       "      <td>0</td>\n",
       "    </tr>\n",
       "    <tr>\n",
       "      <th>Doc4</th>\n",
       "      <td>0</td>\n",
       "      <td>0</td>\n",
       "      <td>0</td>\n",
       "      <td>0</td>\n",
       "      <td>0</td>\n",
       "      <td>0</td>\n",
       "      <td>0</td>\n",
       "      <td>0</td>\n",
       "      <td>0</td>\n",
       "      <td>0</td>\n",
       "      <td>...</td>\n",
       "      <td>0</td>\n",
       "      <td>0</td>\n",
       "      <td>0</td>\n",
       "      <td>0</td>\n",
       "      <td>0</td>\n",
       "      <td>0</td>\n",
       "      <td>0</td>\n",
       "      <td>0</td>\n",
       "      <td>0</td>\n",
       "      <td>0</td>\n",
       "    </tr>\n",
       "  </tbody>\n",
       "</table>\n",
       "<p>5 rows × 84 columns</p>\n",
       "</div>"
      ],
      "text/plain": [
       "      abis  air  aja  anak  at  bakteri  banget  bangun  bgt  biar ...  tau  \\\n",
       "Doc0     0    0    0     0   0        0       0       0    0     0 ...    0   \n",
       "Doc1     0    1    0     0   0        0       0       0    0     0 ...    0   \n",
       "Doc2     0    0    0     0   0        0       0       0    0     0 ...    0   \n",
       "Doc3     0    0    0     0   0        0       0       0    0     0 ...    0   \n",
       "Doc4     0    0    0     0   0        0       0       0    0     0 ...    0   \n",
       "\n",
       "      tidur  tp  trus  tuh  udah  udh  wkwk  ya  yg  \n",
       "Doc0      0   0     0    0     0    0     0   0   0  \n",
       "Doc1      0   0     0    0     0    0     0   0   0  \n",
       "Doc2      0   0     0    0     0    0     0   0   0  \n",
       "Doc3      0   0     0    0     0    0     0   0   0  \n",
       "Doc4      0   0     0    0     0    0     0   0   0  \n",
       "\n",
       "[5 rows x 84 columns]"
      ]
     },
     "execution_count": 13,
     "metadata": {},
     "output_type": "execute_result"
    }
   ],
   "source": [
    "print(tdm.shape[0])\n",
    "tdm.head()"
   ]
  },
  {
   "cell_type": "markdown",
   "metadata": {
    "slideshow": {
     "slide_type": "slide"
    }
   },
   "source": [
    "# K-Means Clustering"
   ]
  },
  {
   "cell_type": "code",
   "execution_count": 14,
   "metadata": {
    "slideshow": {
     "slide_type": "slide"
    }
   },
   "outputs": [
    {
     "data": {
      "image/png": "[encoded data removed]",
      "text/plain": [
       "<Figure size 640x480 with 1 Axes>"
      ]
     },
     "metadata": {},
     "output_type": "display_data"
    }
   ],
   "source": [
    "from sklearn.cluster import KMeans\n",
    "from sklearn.metrics import silhouette_samples, silhouette_score\n",
    "\n",
    "wcss = []\n",
    "for i in range(2,26):\n",
    "    kmeans = KMeans(n_clusters=i, init='k-means++', max_iter=300, n_init=10, random_state=0)\n",
    "    kmeans.fit_predict(tdm)\n",
    "    wcss.append(kmeans.inertia_)\n",
    "\n",
    "plt.plot(range(2,26),wcss)\n",
    "plt.title('The Elbow Method')\n",
    "plt.xlabel('Number of clusters')\n",
    "plt.ylabel('WCSS')\n",
    "plt.show()"
   ]
  },
  {
   "cell_type": "code",
   "execution_count": 31,
   "metadata": {},
   "outputs": [
    {
     "name": "stdout",
     "output_type": "stream",
     "text": [
      "For n_clusters = 2 The average silhouette_score is : 0.17191465615358992\n",
      "For n_clusters = 3 The average silhouette_score is : 0.15088756329819863\n",
      "For n_clusters = 4 The average silhouette_score is : 0.14065209007575488\n",
      "For n_clusters = 5 The average silhouette_score is : 0.164597897431606\n",
      "For n_clusters = 6 The average silhouette_score is : 0.14637433827165863\n",
      "For n_clusters = 7 The average silhouette_score is : 0.1448995186807047\n",
      "For n_clusters = 8 The average silhouette_score is : 0.15161479194560784\n",
      "For n_clusters = 9 The average silhouette_score is : 0.1402133409086693\n",
      "For n_clusters = 10 The average silhouette_score is : 0.1491818664172761\n",
      "For n_clusters = 11 The average silhouette_score is : 0.1650445014531394\n",
      "For n_clusters = 12 The average silhouette_score is : 0.16399446886141628\n",
      "For n_clusters = 13 The average silhouette_score is : 0.06765703801772222\n",
      "For n_clusters = 14 The average silhouette_score is : 0.11781951696456414\n",
      "For n_clusters = 15 The average silhouette_score is : 0.1446386270782725\n",
      "For n_clusters = 16 The average silhouette_score is : 0.13054076471392273\n",
      "For n_clusters = 17 The average silhouette_score is : 0.15047336440950915\n",
      "For n_clusters = 18 The average silhouette_score is : 0.13864814896153524\n",
      "For n_clusters = 19 The average silhouette_score is : 0.15901241718886447\n",
      "For n_clusters = 20 The average silhouette_score is : 0.08881995723067024\n",
      "For n_clusters = 21 The average silhouette_score is : 0.1470061643120257\n",
      "For n_clusters = 22 The average silhouette_score is : 0.08623362537922097\n",
      "For n_clusters = 23 The average silhouette_score is : 0.14893714628666183\n",
      "For n_clusters = 24 The average silhouette_score is : 0.09389376951938273\n",
      "For n_clusters = 25 The average silhouette_score is : 0.1388409845721498\n"
     ]
    }
   ],
   "source": [
    "for n_clusters in range(2, 26):\n",
    "    kmeans = KMeans(n_clusters=n_clusters, init='k-means++', max_iter=300, n_init=10, random_state=0)\n",
    "    preds = kmeans.fit_predict(tdm)\n",
    "    score = silhouette_score(tdm, preds, metric='euclidean')\n",
    "    print(\"For n_clusters =\", n_clusters, \"The average silhouette_score is :\", score)"
   ]
  },
  {
   "cell_type": "code",
   "execution_count": 26,
   "metadata": {},
   "outputs": [
    {
     "name": "stdout",
     "output_type": "stream",
     "text": [
      "range(2, 11)\n"
     ]
    }
   ],
   "source": [
    "a = range(2,11)\n",
    "print(a)"
   ]
  },
  {
   "cell_type": "code",
   "execution_count": 16,
   "metadata": {
    "slideshow": {
     "slide_type": "slide"
    }
   },
   "outputs": [
    {
     "name": "stdout",
     "output_type": "stream",
     "text": [
      "SSE Cluster 2: 25478.401008962832\n",
      "SSE Cluster 3: 23679.30830540505\n",
      "SSE Cluster 4: 22901.54313734211\n",
      "SSE Cluster 5: 22289.904114861878\n",
      "SSE Cluster 6: 21909.429277222804\n",
      "SSE Cluster 7: 21597.5433613054\n",
      "SSE Cluster 8: 21250.34025196039\n",
      "SSE Cluster 9: 20835.110163074783\n",
      "SSE Cluster 10: 20718.798045925647\n",
      "SSE Cluster 11: 20403.81910409859\n",
      "SSE Cluster 12: 20134.26600849595\n",
      "SSE Cluster 13: 20088.93793643486\n",
      "SSE Cluster 14: 19774.77528889136\n",
      "SSE Cluster 15: 19570.3434420674\n",
      "SSE Cluster 16: 19310.430140416436\n",
      "SSE Cluster 17: 19252.874061281895\n",
      "SSE Cluster 18: 19083.81341266488\n",
      "SSE Cluster 19: 18904.240081444343\n",
      "SSE Cluster 20: 18803.40874368944\n",
      "SSE Cluster 21: 18540.85563271596\n",
      "SSE Cluster 22: 18351.371693272977\n",
      "SSE Cluster 23: 18531.31672013221\n",
      "SSE Cluster 24: 18271.017160278232\n",
      "SSE Cluster 25: 18140.80949841999\n"
     ]
    }
   ],
   "source": [
    "for i in range(24):\n",
    "    print('SSE Cluster ' + str(i+2) + ': ' + str(wcss[i]))"
   ]
  },
  {
   "cell_type": "code",
   "execution_count": 27,
   "metadata": {},
   "outputs": [],
   "source": [
    "all_text =  \"\"\"\n",
    "Google and Facebook are strangling the free press to death. Democracy is the loserGoogle an \n",
    "Your 60-second guide to security stuff Google touted today at Next '18\n",
    "A Guide to Using Android Without Selling Your Soul to Google\n",
    "Review: Lenovo’s Google Smart Display is pretty and intelligent\n",
    "Google Maps user spots mysterious object submerged off the coast of Greece - and no-one knows what it is\n",
    "Android is better than IOS\n",
    "In information retrieval, tf–idf or TFIDF, short for term frequency–inverse document frequency\n",
    "is a numerical statistic that is intended to reflect\n",
    "how important a word is to a document in a collection or corpus.\n",
    "It is often used as a weighting factor in searches of information retrieval\n",
    "text mining, and user modeling. The tf-idf value increases proportionally\n",
    "to the number of times a word appears in the document\n",
    "and is offset by the frequency of the word in the corpus\n",
    "\"\"\".split(\"\\n\")[1:-1]"
   ]
  },
  {
   "cell_type": "code",
   "execution_count": 32,
   "metadata": {},
   "outputs": [],
   "source": [
    "from sklearn.feature_extraction.text import TfidfVectorizer\n",
    "from sklearn.cluster import KMeans\n",
    "from sklearn.metrics import silhouette_samples, silhouette_score\n",
    "\n",
    "def preprocessing(line):\n",
    "    line = line.lower()\n",
    "    line = re.sub(r\"[{}]\".format(string.punctuation), \" \", line)\n",
    "    return line\n",
    "\n",
    "\n",
    "tfidf_vectorizer = TfidfVectorizer(preprocessor=preprocessing)\n",
    "tfidf = tfidf_vectorizer.fit_transform(all_text)"
   ]
  },
  {
   "cell_type": "code",
   "execution_count": 34,
   "metadata": {},
   "outputs": [],
   "source": [
    "\n",
    "wcss = []\n",
    "for i in range(2,26):\n",
    "    kmeans = KMeans(n_clusters=i, init='k-means++', max_iter=300, n_init=10, random_state=0)\n",
    "    kmeans.fit_predict(tdm)\n",
    "    wcss.append(kmeans.inertia_)\n",
    "\n",
    "plt.plot(range(2,26),wcss)\n",
    "plt.title('The Elbow Method')\n",
    "plt.xlabel('Number of clusters')\n",
    "plt.ylabel('WCSS')\n",
    "plt.show()"
   ]
  },
  {
   "cell_type": "code",
   "execution_count": null,
   "metadata": {},
   "outputs": [],
   "source": []
  }
 ],
 "metadata": {
  "celltoolbar": "Slideshow",
  "kernelspec": {
   "display_name": "Python 3",
   "language": "python",
   "name": "python3"
  },
  "language_info": {
   "codemirror_mode": {
    "name": "ipython",
    "version": 3
   },
   "file_extension": ".py",
   "mimetype": "text/x-python",
   "name": "python",
   "nbconvert_exporter": "python",
   "pygments_lexer": "ipython3",
   "version": "3.6.5"
  }
 },
 "nbformat": 4,
 "nbformat_minor": 2
}
