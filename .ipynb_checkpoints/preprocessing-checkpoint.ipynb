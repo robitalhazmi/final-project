{
 "cells": [
  {
   "cell_type": "markdown",
   "metadata": {
    "slideshow": {
     "slide_type": "slide"
    }
   },
   "source": [
    "# Data Teks Twitter Penyakit Menular 2018"
   ]
  },
  {
   "cell_type": "code",
   "execution_count": 1,
   "metadata": {
    "slideshow": {
     "slide_type": "skip"
    }
   },
   "outputs": [],
   "source": [
    "import pandas as pd"
   ]
  },
  {
   "cell_type": "code",
   "execution_count": 81,
   "metadata": {
    "slideshow": {
     "slide_type": "skip"
    }
   },
   "outputs": [
    {
     "name": "stdout",
     "output_type": "stream",
     "text": [
      "361580\n"
     ]
    }
   ],
   "source": [
    "pm = pd.read_csv('./data/pm 2018.csv').sort_values(by=\"date\")\n",
    "print(pm.shape[0])"
   ]
  },
  {
   "cell_type": "code",
   "execution_count": 82,
   "metadata": {
    "slideshow": {
     "slide_type": "slide"
    }
   },
   "outputs": [
    {
     "data": {
      "text/html": [
       "<div>\n",
       "<style scoped>\n",
       "    .dataframe tbody tr th:only-of-type {\n",
       "        vertical-align: middle;\n",
       "    }\n",
       "\n",
       "    .dataframe tbody tr th {\n",
       "        vertical-align: top;\n",
       "    }\n",
       "\n",
       "    .dataframe thead th {\n",
       "        text-align: right;\n",
       "    }\n",
       "</style>\n",
       "<table border=\"1\" class=\"dataframe\">\n",
       "  <thead>\n",
       "    <tr style=\"text-align: right;\">\n",
       "      <th></th>\n",
       "      <th>username</th>\n",
       "      <th>date</th>\n",
       "      <th>time</th>\n",
       "      <th>text</th>\n",
       "      <th>tweetID</th>\n",
       "      <th>placeID</th>\n",
       "      <th>daerah</th>\n",
       "      <th>lokasi</th>\n",
       "      <th>longitude</th>\n",
       "      <th>latitude</th>\n",
       "    </tr>\n",
       "  </thead>\n",
       "  <tbody>\n",
       "    <tr>\n",
       "      <th>10745</th>\n",
       "      <td>@lk_lovegood</td>\n",
       "      <td>2018-01-01</td>\n",
       "      <td>13:11</td>\n",
       "      <td>sakit perut nat</td>\n",
       "      <td>947711820948635649</td>\n",
       "      <td></td>\n",
       "      <td></td>\n",
       "      <td></td>\n",
       "      <td></td>\n",
       "      <td></td>\n",
       "    </tr>\n",
       "    <tr>\n",
       "      <th>10810</th>\n",
       "      <td>@wiki019</td>\n",
       "      <td>2018-01-01</td>\n",
       "      <td>11:31</td>\n",
       "      <td>X bestnya ride sakit perut ni</td>\n",
       "      <td>947686662766596098</td>\n",
       "      <td></td>\n",
       "      <td></td>\n",
       "      <td></td>\n",
       "      <td></td>\n",
       "      <td></td>\n",
       "    </tr>\n",
       "    <tr>\n",
       "      <th>10811</th>\n",
       "      <td>@joungkoo</td>\n",
       "      <td>2018-01-01</td>\n",
       "      <td>11:30</td>\n",
       "      <td>Mencret lu? Diare tuh</td>\n",
       "      <td>947686539198218240</td>\n",
       "      <td></td>\n",
       "      <td></td>\n",
       "      <td></td>\n",
       "      <td></td>\n",
       "      <td></td>\n",
       "    </tr>\n",
       "    <tr>\n",
       "      <th>10812</th>\n",
       "      <td>@hanshohoho</td>\n",
       "      <td>2018-01-01</td>\n",
       "      <td>11:29</td>\n",
       "      <td>Sakit perut damar. Gara2 makan baso. Hehe</td>\n",
       "      <td>947686252228231168</td>\n",
       "      <td></td>\n",
       "      <td></td>\n",
       "      <td></td>\n",
       "      <td></td>\n",
       "      <td></td>\n",
       "    </tr>\n",
       "    <tr>\n",
       "      <th>10813</th>\n",
       "      <td>@doubleofme</td>\n",
       "      <td>2018-01-01</td>\n",
       "      <td>11:28</td>\n",
       "      <td>Sakit perut pulak makan nasi lemak pagi tadi.</td>\n",
       "      <td>947685963790041088</td>\n",
       "      <td></td>\n",
       "      <td></td>\n",
       "      <td></td>\n",
       "      <td></td>\n",
       "      <td></td>\n",
       "    </tr>\n",
       "  </tbody>\n",
       "</table>\n",
       "</div>"
      ],
      "text/plain": [
       "           username         date    time  \\\n",
       "10745  @lk_lovegood   2018-01-01   13:11   \n",
       "10810      @wiki019   2018-01-01   11:31   \n",
       "10811     @joungkoo   2018-01-01   11:30   \n",
       "10812   @hanshohoho   2018-01-01   11:29   \n",
       "10813   @doubleofme   2018-01-01   11:28   \n",
       "\n",
       "                                                  text             tweetID  \\\n",
       "10745                                  sakit perut nat  947711820948635649   \n",
       "10810                    X bestnya ride sakit perut ni  947686662766596098   \n",
       "10811                            Mencret lu? Diare tuh  947686539198218240   \n",
       "10812        Sakit perut damar. Gara2 makan baso. Hehe  947686252228231168   \n",
       "10813   Sakit perut pulak makan nasi lemak pagi tadi.   947685963790041088   \n",
       "\n",
       "      placeID daerah lokasi longitude latitude  \n",
       "10745                                           \n",
       "10810                                           \n",
       "10811                                           \n",
       "10812                                           \n",
       "10813                                           "
      ]
     },
     "execution_count": 82,
     "metadata": {},
     "output_type": "execute_result"
    }
   ],
   "source": [
    "pm.head()"
   ]
  },
  {
   "cell_type": "code",
   "execution_count": 83,
   "metadata": {},
   "outputs": [],
   "source": [
    "import string\n",
    "import re\n",
    "\n",
    "def tweet_lower(text):\n",
    "    lower = text.lower()\n",
    "    no_number = re.sub(r'\\d+', '', lower)\n",
    "    no_url = re.sub(r\"http\\S+\", \"\", no_number)\n",
    "    no_dash = no_url.replace(\"-\", \" \")\n",
    "    no_punctuation = no_dash.translate(str.maketrans('', '', string.punctuation))\n",
    "    no_white_space = re.sub(' +', ' ', no_punctuation)\n",
    "    return no_white_space"
   ]
  },
  {
   "cell_type": "code",
   "execution_count": 84,
   "metadata": {},
   "outputs": [
    {
     "data": {
      "text/html": [
       "<div>\n",
       "<style scoped>\n",
       "    .dataframe tbody tr th:only-of-type {\n",
       "        vertical-align: middle;\n",
       "    }\n",
       "\n",
       "    .dataframe tbody tr th {\n",
       "        vertical-align: top;\n",
       "    }\n",
       "\n",
       "    .dataframe thead th {\n",
       "        text-align: right;\n",
       "    }\n",
       "</style>\n",
       "<table border=\"1\" class=\"dataframe\">\n",
       "  <thead>\n",
       "    <tr style=\"text-align: right;\">\n",
       "      <th></th>\n",
       "      <th>username</th>\n",
       "      <th>date</th>\n",
       "      <th>time</th>\n",
       "      <th>text</th>\n",
       "      <th>tweetID</th>\n",
       "      <th>placeID</th>\n",
       "      <th>daerah</th>\n",
       "      <th>lokasi</th>\n",
       "      <th>longitude</th>\n",
       "      <th>latitude</th>\n",
       "    </tr>\n",
       "  </thead>\n",
       "  <tbody>\n",
       "    <tr>\n",
       "      <th>10745</th>\n",
       "      <td>@lk_lovegood</td>\n",
       "      <td>2018-01-01</td>\n",
       "      <td>13:11</td>\n",
       "      <td>sakit perut nat</td>\n",
       "      <td>947711820948635649</td>\n",
       "      <td></td>\n",
       "      <td></td>\n",
       "      <td></td>\n",
       "      <td></td>\n",
       "      <td></td>\n",
       "    </tr>\n",
       "    <tr>\n",
       "      <th>10810</th>\n",
       "      <td>@wiki019</td>\n",
       "      <td>2018-01-01</td>\n",
       "      <td>11:31</td>\n",
       "      <td>x bestnya ride sakit perut ni</td>\n",
       "      <td>947686662766596098</td>\n",
       "      <td></td>\n",
       "      <td></td>\n",
       "      <td></td>\n",
       "      <td></td>\n",
       "      <td></td>\n",
       "    </tr>\n",
       "    <tr>\n",
       "      <th>10811</th>\n",
       "      <td>@joungkoo</td>\n",
       "      <td>2018-01-01</td>\n",
       "      <td>11:30</td>\n",
       "      <td>mencret lu diare tuh</td>\n",
       "      <td>947686539198218240</td>\n",
       "      <td></td>\n",
       "      <td></td>\n",
       "      <td></td>\n",
       "      <td></td>\n",
       "      <td></td>\n",
       "    </tr>\n",
       "    <tr>\n",
       "      <th>10812</th>\n",
       "      <td>@hanshohoho</td>\n",
       "      <td>2018-01-01</td>\n",
       "      <td>11:29</td>\n",
       "      <td>sakit perut damar gara makan baso hehe</td>\n",
       "      <td>947686252228231168</td>\n",
       "      <td></td>\n",
       "      <td></td>\n",
       "      <td></td>\n",
       "      <td></td>\n",
       "      <td></td>\n",
       "    </tr>\n",
       "    <tr>\n",
       "      <th>10813</th>\n",
       "      <td>@doubleofme</td>\n",
       "      <td>2018-01-01</td>\n",
       "      <td>11:28</td>\n",
       "      <td>sakit perut pulak makan nasi lemak pagi tadi</td>\n",
       "      <td>947685963790041088</td>\n",
       "      <td></td>\n",
       "      <td></td>\n",
       "      <td></td>\n",
       "      <td></td>\n",
       "      <td></td>\n",
       "    </tr>\n",
       "  </tbody>\n",
       "</table>\n",
       "</div>"
      ],
      "text/plain": [
       "           username         date    time  \\\n",
       "10745  @lk_lovegood   2018-01-01   13:11   \n",
       "10810      @wiki019   2018-01-01   11:31   \n",
       "10811     @joungkoo   2018-01-01   11:30   \n",
       "10812   @hanshohoho   2018-01-01   11:29   \n",
       "10813   @doubleofme   2018-01-01   11:28   \n",
       "\n",
       "                                                 text             tweetID  \\\n",
       "10745                                 sakit perut nat  947711820948635649   \n",
       "10810                   x bestnya ride sakit perut ni  947686662766596098   \n",
       "10811                            mencret lu diare tuh  947686539198218240   \n",
       "10812          sakit perut damar gara makan baso hehe  947686252228231168   \n",
       "10813   sakit perut pulak makan nasi lemak pagi tadi   947685963790041088   \n",
       "\n",
       "      placeID daerah lokasi longitude latitude  \n",
       "10745                                           \n",
       "10810                                           \n",
       "10811                                           \n",
       "10812                                           \n",
       "10813                                           "
      ]
     },
     "execution_count": 84,
     "metadata": {},
     "output_type": "execute_result"
    }
   ],
   "source": [
    "result = []\n",
    "for text in pm['text']:\n",
    "    result.append(tweet_lower(text))\n",
    "pm['text'] = result\n",
    "pm.head()"
   ]
  },
  {
   "cell_type": "code",
   "execution_count": 85,
   "metadata": {},
   "outputs": [
    {
     "data": {
      "text/plain": [
       "(361580, 10)"
      ]
     },
     "execution_count": 85,
     "metadata": {},
     "output_type": "execute_result"
    }
   ],
   "source": [
    "pm.shape"
   ]
  },
  {
   "cell_type": "code",
   "execution_count": 93,
   "metadata": {},
   "outputs": [
    {
     "name": "stdout",
     "output_type": "stream",
     "text": [
      "tuberkulosis: 2484\n",
      "tuberculosis: 1178\n",
      "tb paru: 496\n",
      "tbc paru: 323\n",
      "mycobacterium: 188\n",
      "tosstbc: 32\n",
      "batuk tbc: 156\n",
      "batuk tb: 26\n",
      "isoniazid: 45\n",
      "imunisasi bcg: 42\n",
      "\n",
      "diare: 39442\n",
      "imodium: 271\n",
      "diapet: 2082\n",
      "sakit perut: 166783\n",
      "mules: 109414\n",
      "mencret: 31944\n",
      "menceret: 123\n",
      "salmonella: 2123\n",
      "e coli: 2302\n",
      "oralit: 2126\n"
     ]
    }
   ],
   "source": [
    "tuberkulosis = pm[pm['text'].str.contains('tuberkulosis')]\n",
    "print(\"tuberkulosis: \"+ str(tuberkulosis.shape[0]))\n",
    "non_tuberkulosis = pm[~pm['text'].str.contains('tuberkulosis')]\n",
    "\n",
    "tuberculosis = non_tuberkulosis[non_tuberkulosis['text'].str.contains('tuberculosis')]\n",
    "print(\"tuberculosis: \"+ str(tuberculosis.shape[0]))\n",
    "non_tuberculosis = non_tuberkulosis[~non_tuberkulosis['text'].str.contains('tuberculosis')]\n",
    "\n",
    "tb_paru = non_tuberculosis[non_tuberculosis['text'].str.contains('tb paru|tbparu')]\n",
    "print(\"tb paru: \"+ str(tb_paru.shape[0]))\n",
    "non_tb_paru = non_tuberculosis[~non_tuberculosis['text'].str.contains('tb paru|tbparu')]\n",
    "\n",
    "tbc_paru = non_tb_paru[non_tb_paru['text'].str.contains('tbc paru|tbcparu')]\n",
    "print(\"tbc paru: \"+ str(tbc_paru.shape[0]))\n",
    "non_tbc_paru = non_tb_paru[~non_tb_paru['text'].str.contains('tbc paru|tbcparu')]\n",
    "\n",
    "mycobacterium = non_tbc_paru[non_tbc_paru['text'].str.contains('mycobacterium')]\n",
    "print(\"mycobacterium: \"+ str(mycobacterium.shape[0]))\n",
    "non_mycobacterium = non_tbc_paru[~non_tbc_paru['text'].str.contains('mycobacterium')]\n",
    "\n",
    "tosstbc = non_mycobacterium[non_mycobacterium['text'].str.contains('tosstbc')]\n",
    "print(\"tosstbc: \"+ str(tosstbc.shape[0]))\n",
    "non_tosstbc = non_mycobacterium[~non_mycobacterium['text'].str.contains('tosstbc')]\n",
    "\n",
    "batuk_tbc = non_tosstbc[non_tosstbc['text'].str.contains('batuk tbc')]\n",
    "print(\"batuk tbc: \"+ str(batuk_tbc.shape[0]))\n",
    "non_batuk_tbc = non_tosstbc[~non_tosstbc['text'].str.contains('batuk tbc')]\n",
    "\n",
    "batuk_tb = non_batuk_tbc[non_batuk_tbc['text'].str.contains('batuk tb')]\n",
    "print(\"batuk tb: \"+ str(batuk_tb.shape[0]))\n",
    "non_batuk_tb = non_batuk_tbc[~non_batuk_tbc['text'].str.contains('batuk tb')]\n",
    "\n",
    "isoniazid = non_batuk_tb[non_batuk_tb['text'].str.contains('isoniazid')]\n",
    "print(\"isoniazid: \"+ str(isoniazid.shape[0]))\n",
    "non_isoniazid = non_batuk_tb[~non_batuk_tb['text'].str.contains('isoniazid')]\n",
    "\n",
    "imunisasi_bcg = non_isoniazid[non_isoniazid['text'].str.contains('imunisasi bcg')]\n",
    "print(\"imunisasi bcg: \"+ str(imunisasi_bcg.shape[0]))\n",
    "non_imunisasi_bcg = non_isoniazid[~non_isoniazid['text'].str.contains('imunisasi bcg')]\n",
    "\n",
    "print()\n",
    "\n",
    "diare = non_imunisasi_bcg[non_imunisasi_bcg['text'].str.contains('diare|diaré|ｄｉａｒｅ')]\n",
    "print(\"diare: \"+ str(diare.shape[0]))\n",
    "non_diare = non_imunisasi_bcg[~non_imunisasi_bcg['text'].str.contains('diare|diaré|ｄｉａｒｅ')]\n",
    "\n",
    "imodium = non_diare[non_diare['text'].str.contains('imodium')]\n",
    "print(\"imodium: \"+ str(imodium.shape[0]))\n",
    "non_imodium = non_diare[~non_diare['text'].str.contains('imodium')]\n",
    "\n",
    "diapet = non_imodium[non_imodium['text'].str.contains('diapet')]\n",
    "print(\"diapet: \"+ str(diapet.shape[0]))\n",
    "non_diapet = non_imodium[~non_imodium['text'].str.contains('diapet')]\n",
    "\n",
    "sakit_perut = non_diapet[non_diapet['text'].str.contains('sakit perut|sakitperut|ˢᵃᵏⁱᵗ ᵖᵉʳᵘᵗ|sàkit perut')]\n",
    "print(\"sakit perut: \"+ str(sakit_perut.shape[0]))\n",
    "non_sakit_perut = non_diapet[~non_diapet['text'].str.contains('sakit perut|sakitperut|ˢᵃᵏⁱᵗ ᵖᵉʳᵘᵗ|sàkit perut')]\n",
    "\n",
    "mules = non_sakit_perut[non_sakit_perut['text'].str.contains('mules|ｍｕｌｅｓ|mulês')]\n",
    "print(\"mules: \"+ str(mules.shape[0]))\n",
    "non_mules = non_sakit_perut[~non_sakit_perut['text'].str.contains('mules|ｍｕｌｅｓ|mulês')]\n",
    "\n",
    "mencret = non_mules[non_mules['text'].str.contains('mencret|méncrét|mencrét|mencrèt')]\n",
    "print(\"mencret: \"+ str(mencret.shape[0]))\n",
    "non_mencret = non_mules[~non_mules['text'].str.contains('mencret|méncrét|mencrét|mencrèt')]\n",
    "\n",
    "menceret = non_mencret[non_mencret['text'].str.contains('menceret')]\n",
    "print(\"menceret: \"+ str(menceret.shape[0]))\n",
    "non_menceret = non_mencret[~non_mencret['text'].str.contains('menceret')]\n",
    "\n",
    "salmonella = non_menceret[non_menceret['text'].str.contains('salmonella')]\n",
    "print(\"salmonella: \"+ str(salmonella.shape[0]))\n",
    "non_salmonella = non_menceret[~non_menceret['text'].str.contains('salmonella')]\n",
    "\n",
    "e_coli = non_salmonella[non_salmonella['text'].str.contains('coli')]\n",
    "print(\"e coli: \"+ str(e_coli.shape[0]))\n",
    "non_e_coli = non_salmonella[~non_salmonella['text'].str.contains('coli')]\n",
    "\n",
    "oralit = non_e_coli[non_e_coli['text'].str.contains('oralit')]\n",
    "print(\"oralit: \"+ str(oralit.shape[0]))\n",
    "non_oralit = non_e_coli[~non_e_coli['text'].str.contains('oralit')]"
   ]
  },
  {
   "cell_type": "code",
   "execution_count": 107,
   "metadata": {},
   "outputs": [
    {
     "name": "stdout",
     "output_type": "stream",
     "text": [
      "tuberkulosis: 72\n",
      "tuberculosis: 34\n",
      "tb paru: 25\n",
      "tbc paru: 2\n",
      "mycobacterium: 5\n",
      "tosstbc: 0\n",
      "batuk tbc: 1\n",
      "batuk tb: 1\n",
      "isoniazid: 1\n",
      "imunisasi bcg: 1\n",
      "\n",
      "diare: 1046\n",
      "imodium: 11\n",
      "diapet: 41\n",
      "sakit perut: 8925\n",
      "mules: 3154\n",
      "mencret: 650\n",
      "menceret: 4\n",
      "salmonella: 53\n",
      "e coli: 63\n",
      "oralit: 38\n"
     ]
    }
   ],
   "source": [
    "tuberkulosis_geo = tuberkulosis[tuberkulosis['placeID'] != ' '].sort_values(by=\"date\").drop_duplicates()\n",
    "print(\"tuberkulosis: \" + str(tuberkulosis_geo.shape[0]))\n",
    "\n",
    "tuberculosis_geo = tuberculosis[tuberculosis['placeID'] != ' '].sort_values(by=\"date\").drop_duplicates()\n",
    "print(\"tuberculosis: \" + str(tuberculosis_geo.shape[0]))\n",
    "\n",
    "tb_paru_geo = tb_paru[tb_paru['placeID'] != ' '].sort_values(by=\"date\").drop_duplicates()\n",
    "print(\"tb paru: \" + str(tb_paru_geo.shape[0]))\n",
    "\n",
    "tbc_paru_geo = tbc_paru[tbc_paru['placeID'] != ' '].sort_values(by=\"date\").drop_duplicates()\n",
    "print(\"tbc paru: \" + str(tbc_paru_geo.shape[0]))\n",
    "\n",
    "mycobacterium_geo = mycobacterium[mycobacterium['placeID'] != ' '].sort_values(by=\"date\").drop_duplicates()\n",
    "print(\"mycobacterium: \" + str(mycobacterium_geo.shape[0]))\n",
    "\n",
    "tosstbc_geo = tosstbc[tosstbc['placeID'] != ' '].sort_values(by=\"date\").drop_duplicates()\n",
    "print(\"tosstbc: \" + str(tosstbc_geo.shape[0]))\n",
    "\n",
    "batuk_tbc_geo = batuk_tbc[batuk_tbc['placeID'] != ' '].sort_values(by=\"date\").drop_duplicates()\n",
    "print(\"batuk tbc: \" + str(batuk_tbc_geo.shape[0]))\n",
    "\n",
    "batuk_tb_geo = batuk_tb[batuk_tb['placeID'] != ' '].sort_values(by=\"date\").drop_duplicates()\n",
    "print(\"batuk tb: \" + str(batuk_tb_geo.shape[0]))\n",
    "\n",
    "isoniazid_geo = isoniazid[isoniazid['placeID'] != ' '].sort_values(by=\"date\").drop_duplicates()\n",
    "print(\"isoniazid: \" + str(isoniazid_geo.shape[0]))\n",
    "\n",
    "imunisasi_bcg_geo = imunisasi_bcg[imunisasi_bcg['placeID'] != ' '].sort_values(by=\"date\").drop_duplicates()\n",
    "print(\"imunisasi bcg: \" + str(imunisasi_bcg_geo.shape[0]))\n",
    "\n",
    "print()\n",
    "\n",
    "diare_geo = diare[diare['placeID'] != ' '].sort_values(by=\"date\").drop_duplicates()\n",
    "print(\"diare: \" + str(diare_geo.shape[0]))\n",
    "\n",
    "imodium_geo = imodium[imodium['placeID'] != ' '].sort_values(by=\"date\").drop_duplicates()\n",
    "print(\"imodium: \" + str(imodium_geo.shape[0]))\n",
    "\n",
    "diapet_geo = diapet[diapet['placeID'] != ' '].sort_values(by=\"date\").drop_duplicates()\n",
    "print(\"diapet: \" + str(diapet_geo.shape[0]))\n",
    "\n",
    "sakit_perut_geo = sakit_perut[sakit_perut['placeID'] != ' '].sort_values(by=\"date\").drop_duplicates()\n",
    "print(\"sakit perut: \" + str(sakit_perut_geo.shape[0]))\n",
    "\n",
    "mules_geo = mules[mules['placeID'] != ' '].sort_values(by=\"date\").drop_duplicates()\n",
    "print(\"mules: \" + str(mules_geo.shape[0]))\n",
    "\n",
    "mencret_geo = mencret[mencret['placeID'] != ' '].sort_values(by=\"date\").drop_duplicates()\n",
    "print(\"mencret: \" + str(mencret_geo.shape[0]))\n",
    "\n",
    "menceret_geo = menceret[menceret['placeID'] != ' '].sort_values(by=\"date\").drop_duplicates()\n",
    "print(\"menceret: \" + str(menceret_geo.shape[0]))\n",
    "\n",
    "salmonella_geo = salmonella[salmonella['placeID'] != ' '].sort_values(by=\"date\").drop_duplicates()\n",
    "print(\"salmonella: \" + str(salmonella_geo.shape[0]))\n",
    "\n",
    "e_coli_geo = e_coli[e_coli['placeID'] != ' '].sort_values(by=\"date\").drop_duplicates()\n",
    "print(\"e coli: \" + str(e_coli_geo.shape[0]))\n",
    "\n",
    "oralit_geo = oralit[oralit['placeID'] != ' '].sort_values(by=\"date\").drop_duplicates()\n",
    "print(\"oralit: \" + str(oralit_geo.shape[0]))"
   ]
  },
  {
   "cell_type": "code",
   "execution_count": 116,
   "metadata": {},
   "outputs": [
    {
     "name": "stdout",
     "output_type": "stream",
     "text": [
      "tuberkulosis: 65\n",
      "tuberculosis: 18\n",
      "tuberkulosis: 25\n",
      "tuberkulosis: 2\n",
      "mycobacterium: 4\n",
      "tosstbc: 0\n",
      "batuk tbc: 1\n",
      "batuk tb: 0\n",
      "isoniazid: 0\n",
      "imunisasi bcg: 1\n",
      "\n",
      "diare: 1013\n",
      "imodium: 7\n",
      "diapet: 39\n",
      "sakit perut: 1862\n",
      "mules: 3022\n",
      "mencret: 605\n",
      "menceret: 3\n",
      "menceret: 28\n",
      "e coli: 58\n",
      "oralit: 34\n"
     ]
    }
   ],
   "source": [
    "tuberkulosis_id = tuberkulosis_geo[tuberkulosis_geo[\"lokasi\"].str.contains(\"Indonesia|Jawa|Sulawesi|Yogyakarta|Jambi|Gorontalo|Banten|Jakarta|Riau|Sumatera|Kampung kandang|Menteng|Maumere|D 1537 OO|Manado|Sekolah Kartini|Bumi tamalanrea|Bogor|Gramedia|Gilimanuk|Bendungan hilir|Nusa Tenggara|Toilet|Cianjur|juanda|Fakultas Ekonomi|UNDIP|Cikunir|cibitung|tinjomoyo|Meruya|KFC|Terminal 2|Dinas Pekerjaan|Rumah Makeupuccino|The Danted Mencret|Sekumpul|Cipaganti|Ronggowarsito|Pakem|Tugel|Aceh|RS UIN|Dago|Lampung|Pizza|Oseng|Sudirman|Bintaro|Malioboro|IGD|ITB|Majalengka|Sanggar Agung|Globalresourcestrader|Sarangan\")].reset_index(drop=True)\n",
    "print(\"tuberkulosis: \" + str(tuberkulosis_id.shape[0]))\n",
    "\n",
    "tuberculosis_id = tuberculosis_geo[tuberculosis_geo[\"lokasi\"].str.contains(\"Indonesia|Jawa|Sulawesi|Yogyakarta|Jambi|Gorontalo|Banten|Jakarta|Riau|Sumatera|Kampung kandang|Menteng|Maumere|D 1537 OO|Manado|Sekolah Kartini|Bumi tamalanrea|Bogor|Gramedia|Gilimanuk|Bendungan hilir|Nusa Tenggara|Toilet|Cianjur|juanda|Fakultas Ekonomi|UNDIP|Cikunir|cibitung|tinjomoyo|Meruya|KFC|Terminal 2|Dinas Pekerjaan|Rumah Makeupuccino|The Danted Mencret|Sekumpul|Cipaganti|Ronggowarsito|Pakem|Tugel|Aceh|RS UIN|Dago|Lampung|Pizza|Oseng|Sudirman|Bintaro|Malioboro|IGD|ITB|Majalengka|Sanggar Agung|Globalresourcestrader|Sarangan\")].reset_index(drop=True)\n",
    "print(\"tuberculosis: \" + str(tuberculosis_id.shape[0]))\n",
    "\n",
    "tb_paru_id = tb_paru_geo[tb_paru_geo[\"lokasi\"].str.contains(\"Indonesia|Jawa|Sulawesi|Yogyakarta|Jambi|Gorontalo|Banten|Jakarta|Riau|Sumatera|Kampung kandang|Menteng|Maumere|D 1537 OO|Manado|Sekolah Kartini|Bumi tamalanrea|Bogor|Gramedia|Gilimanuk|Bendungan hilir|Nusa Tenggara|Toilet|Cianjur|juanda|Fakultas Ekonomi|UNDIP|Cikunir|cibitung|tinjomoyo|Meruya|KFC|Terminal 2|Dinas Pekerjaan|Rumah Makeupuccino|The Danted Mencret|Sekumpul|Cipaganti|Ronggowarsito|Pakem|Tugel|Aceh|RS UIN|Dago|Lampung|Pizza|Oseng|Sudirman|Bintaro|Malioboro|IGD|ITB|Majalengka|Sanggar Agung|Globalresourcestrader|Sarangan\")].reset_index(drop=True)\n",
    "print(\"tuberkulosis: \" + str(tb_paru_id.shape[0]))\n",
    "\n",
    "tbc_paru_id = tbc_paru_geo[tbc_paru_geo[\"lokasi\"].str.contains(\"Indonesia|Jawa|Sulawesi|Yogyakarta|Jambi|Gorontalo|Banten|Jakarta|Riau|Sumatera|Kampung kandang|Menteng|Maumere|D 1537 OO|Manado|Sekolah Kartini|Bumi tamalanrea|Bogor|Gramedia|Gilimanuk|Bendungan hilir|Nusa Tenggara|Toilet|Cianjur|juanda|Fakultas Ekonomi|UNDIP|Cikunir|cibitung|tinjomoyo|Meruya|KFC|Terminal 2|Dinas Pekerjaan|Rumah Makeupuccino|The Danted Mencret|Sekumpul|Cipaganti|Ronggowarsito|Pakem|Tugel|Aceh|RS UIN|Dago|Lampung|Pizza|Oseng|Sudirman|Bintaro|Malioboro|IGD|ITB|Majalengka|Sanggar Agung|Globalresourcestrader|Sarangan\")].reset_index(drop=True)\n",
    "print(\"tuberkulosis: \" + str(tbc_paru_id.shape[0]))\n",
    "\n",
    "mycobacterium_id = mycobacterium_geo[mycobacterium_geo[\"lokasi\"].str.contains(\"Indonesia|Jawa|Sulawesi|Yogyakarta|Jambi|Gorontalo|Banten|Jakarta|Riau|Sumatera|Kampung kandang|Menteng|Maumere|D 1537 OO|Manado|Sekolah Kartini|Bumi tamalanrea|Bogor|Gramedia|Gilimanuk|Bendungan hilir|Nusa Tenggara|Toilet|Cianjur|juanda|Fakultas Ekonomi|UNDIP|Cikunir|cibitung|tinjomoyo|Meruya|KFC|Terminal 2|Dinas Pekerjaan|Rumah Makeupuccino|The Danted Mencret|Sekumpul|Cipaganti|Ronggowarsito|Pakem|Tugel|Aceh|RS UIN|Dago|Lampung|Pizza|Oseng|Sudirman|Bintaro|Malioboro|IGD|ITB|Majalengka|Sanggar Agung|Globalresourcestrader|Sarangan\")].reset_index(drop=True)\n",
    "print(\"mycobacterium: \" + str(mycobacterium_id.shape[0]))\n",
    "\n",
    "tosstbc_id = tosstbc_geo[tosstbc_geo[\"lokasi\"].str.contains(\"Indonesia|Jawa|Sulawesi|Yogyakarta|Jambi|Gorontalo|Banten|Jakarta|Riau|Sumatera|Kampung kandang|Menteng|Maumere|D 1537 OO|Manado|Sekolah Kartini|Bumi tamalanrea|Bogor|Gramedia|Gilimanuk|Bendungan hilir|Nusa Tenggara|Toilet|Cianjur|juanda|Fakultas Ekonomi|UNDIP|Cikunir|cibitung|tinjomoyo|Meruya|KFC|Terminal 2|Dinas Pekerjaan|Rumah Makeupuccino|The Danted Mencret|Sekumpul|Cipaganti|Ronggowarsito|Pakem|Tugel|Aceh|RS UIN|Dago|Lampung|Pizza|Oseng|Sudirman|Bintaro|Malioboro|IGD|ITB|Majalengka|Sanggar Agung|Globalresourcestrader|Sarangan\")].reset_index(drop=True)\n",
    "print(\"tosstbc: \" + str(tosstbc_id.shape[0]))\n",
    "\n",
    "batuk_tbc_id = batuk_tbc_geo[batuk_tbc_geo[\"lokasi\"].str.contains(\"Indonesia|Jawa|Sulawesi|Yogyakarta|Jambi|Gorontalo|Banten|Jakarta|Riau|Sumatera|Kampung kandang|Menteng|Maumere|D 1537 OO|Manado|Sekolah Kartini|Bumi tamalanrea|Bogor|Gramedia|Gilimanuk|Bendungan hilir|Nusa Tenggara|Toilet|Cianjur|juanda|Fakultas Ekonomi|UNDIP|Cikunir|cibitung|tinjomoyo|Meruya|KFC|Terminal 2|Dinas Pekerjaan|Rumah Makeupuccino|The Danted Mencret|Sekumpul|Cipaganti|Ronggowarsito|Pakem|Tugel|Aceh|RS UIN|Dago|Lampung|Pizza|Oseng|Sudirman|Bintaro|Malioboro|IGD|ITB|Majalengka|Sanggar Agung|Globalresourcestrader|Sarangan\")].reset_index(drop=True)\n",
    "print(\"batuk tbc: \" + str(batuk_tbc_id.shape[0]))\n",
    "\n",
    "batuk_tb_id = batuk_tb_geo[batuk_tb_geo[\"lokasi\"].str.contains(\"Indonesia|Jawa|Sulawesi|Yogyakarta|Jambi|Gorontalo|Banten|Jakarta|Riau|Sumatera|Kampung kandang|Menteng|Maumere|D 1537 OO|Manado|Sekolah Kartini|Bumi tamalanrea|Bogor|Gramedia|Gilimanuk|Bendungan hilir|Nusa Tenggara|Toilet|Cianjur|juanda|Fakultas Ekonomi|UNDIP|Cikunir|cibitung|tinjomoyo|Meruya|KFC|Terminal 2|Dinas Pekerjaan|Rumah Makeupuccino|The Danted Mencret|Sekumpul|Cipaganti|Ronggowarsito|Pakem|Tugel|Aceh|RS UIN|Dago|Lampung|Pizza|Oseng|Sudirman|Bintaro|Malioboro|IGD|ITB|Majalengka|Sanggar Agung|Globalresourcestrader|Sarangan\")].reset_index(drop=True)\n",
    "print(\"batuk tb: \" + str(batuk_tb_id.shape[0]))\n",
    "\n",
    "isoniazid_id = isoniazid_geo[isoniazid_geo[\"lokasi\"].str.contains(\"Indonesia|Jawa|Sulawesi|Yogyakarta|Jambi|Gorontalo|Banten|Jakarta|Riau|Sumatera|Kampung kandang|Menteng|Maumere|D 1537 OO|Manado|Sekolah Kartini|Bumi tamalanrea|Bogor|Gramedia|Gilimanuk|Bendungan hilir|Nusa Tenggara|Toilet|Cianjur|juanda|Fakultas Ekonomi|UNDIP|Cikunir|cibitung|tinjomoyo|Meruya|KFC|Terminal 2|Dinas Pekerjaan|Rumah Makeupuccino|The Danted Mencret|Sekumpul|Cipaganti|Ronggowarsito|Pakem|Tugel|Aceh|RS UIN|Dago|Lampung|Pizza|Oseng|Sudirman|Bintaro|Malioboro|IGD|ITB|Majalengka|Sanggar Agung|Globalresourcestrader|Sarangan\")].reset_index(drop=True)\n",
    "print(\"isoniazid: \" + str(isoniazid_id.shape[0]))\n",
    "\n",
    "imunisasi_bcg_id = imunisasi_bcg_geo[imunisasi_bcg_geo[\"lokasi\"].str.contains(\"Indonesia|Jawa|Sulawesi|Yogyakarta|Jambi|Gorontalo|Banten|Jakarta|Riau|Sumatera|Kampung kandang|Menteng|Maumere|D 1537 OO|Manado|Sekolah Kartini|Bumi tamalanrea|Bogor|Gramedia|Gilimanuk|Bendungan hilir|Nusa Tenggara|Toilet|Cianjur|juanda|Fakultas Ekonomi|UNDIP|Cikunir|cibitung|tinjomoyo|Meruya|KFC|Terminal 2|Dinas Pekerjaan|Rumah Makeupuccino|The Danted Mencret|Sekumpul|Cipaganti|Ronggowarsito|Pakem|Tugel|Aceh|RS UIN|Dago|Lampung|Pizza|Oseng|Sudirman|Bintaro|Malioboro|IGD|ITB|Majalengka|Sanggar Agung|Globalresourcestrader|Sarangan\")].reset_index(drop=True)\n",
    "print(\"imunisasi bcg: \" + str(imunisasi_bcg_id.shape[0]))\n",
    "\n",
    "print()\n",
    "\n",
    "diare_id = diare_geo[diare_geo[\"lokasi\"].str.contains(\"Indonesia|Jawa|Sulawesi|Yogyakarta|Jambi|Gorontalo|Banten|Jakarta|Riau|Sumatera|Kampung kandang|Menteng|Maumere|D 1537 OO|Manado|Sekolah Kartini|Bumi tamalanrea|Bogor|Gramedia|Gilimanuk|Bendungan hilir|Nusa Tenggara|Toilet|Cianjur|juanda|Fakultas Ekonomi|UNDIP|Cikunir|cibitung|tinjomoyo|Meruya|KFC|Terminal 2|Dinas Pekerjaan|Rumah Makeupuccino|The Danted Mencret|Sekumpul|Cipaganti|Ronggowarsito|Pakem|Tugel|Aceh|RS UIN|Dago|Lampung|Pizza|Oseng|Sudirman|Bintaro|Malioboro|IGD|ITB|Majalengka|Sanggar Agung|Globalresourcestrader|Sarangan\")].reset_index(drop=True)\n",
    "print(\"diare: \" + str(diare_id.shape[0]))\n",
    "\n",
    "imodium_id = imodium_geo[imodium_geo[\"lokasi\"].str.contains(\"Indonesia|Jawa|Sulawesi|Yogyakarta|Jambi|Gorontalo|Banten|Jakarta|Riau|Sumatera|Kampung kandang|Menteng|Maumere|D 1537 OO|Manado|Sekolah Kartini|Bumi tamalanrea|Bogor|Gramedia|Gilimanuk|Bendungan hilir|Nusa Tenggara|Toilet|Cianjur|juanda|Fakultas Ekonomi|UNDIP|Cikunir|cibitung|tinjomoyo|Meruya|KFC|Terminal 2|Dinas Pekerjaan|Rumah Makeupuccino|The Danted Mencret|Sekumpul|Cipaganti|Ronggowarsito|Pakem|Tugel|Aceh|RS UIN|Dago|Lampung|Pizza|Oseng|Sudirman|Bintaro|Malioboro|IGD|ITB|Majalengka|Sanggar Agung|Globalresourcestrader|Sarangan\")].reset_index(drop=True)\n",
    "print(\"imodium: \" + str(imodium_id.shape[0]))\n",
    "\n",
    "diapet_id = diapet_geo[diapet_geo[\"lokasi\"].str.contains(\"Indonesia|Jawa|Sulawesi|Yogyakarta|Jambi|Gorontalo|Banten|Jakarta|Riau|Sumatera|Kampung kandang|Menteng|Maumere|D 1537 OO|Manado|Sekolah Kartini|Bumi tamalanrea|Bogor|Gramedia|Gilimanuk|Bendungan hilir|Nusa Tenggara|Toilet|Cianjur|juanda|Fakultas Ekonomi|UNDIP|Cikunir|cibitung|tinjomoyo|Meruya|KFC|Terminal 2|Dinas Pekerjaan|Rumah Makeupuccino|The Danted Mencret|Sekumpul|Cipaganti|Ronggowarsito|Pakem|Tugel|Aceh|RS UIN|Dago|Lampung|Pizza|Oseng|Sudirman|Bintaro|Malioboro|IGD|ITB|Majalengka|Sanggar Agung|Globalresourcestrader|Sarangan\")].reset_index(drop=True)\n",
    "print(\"diapet: \" + str(diapet_id.shape[0]))\n",
    "\n",
    "sakit_perut_id = sakit_perut_geo[sakit_perut_geo[\"lokasi\"].str.contains(\"Indonesia|Jawa|Sulawesi|Yogyakarta|Jambi|Gorontalo|Banten|Jakarta|Riau|Sumatera|Kampung kandang|Menteng|Maumere|D 1537 OO|Manado|Sekolah Kartini|Bumi tamalanrea|Bogor|Gramedia|Gilimanuk|Bendungan hilir|Nusa Tenggara|Toilet|Cianjur|juanda|Fakultas Ekonomi|UNDIP|Cikunir|cibitung|tinjomoyo|Meruya|KFC|Terminal 2|Dinas Pekerjaan|Rumah Makeupuccino|The Danted Mencret|Sekumpul|Cipaganti|Ronggowarsito|Pakem|Tugel|Aceh|RS UIN|Dago|Lampung|Pizza|Oseng|Sudirman|Bintaro|Malioboro|IGD|ITB|Majalengka|Sanggar Agung|Globalresourcestrader|Sarangan\")].reset_index(drop=True)\n",
    "print(\"sakit perut: \" + str(sakit_perut_id.shape[0]))\n",
    "\n",
    "mules_id = mules_geo[mules_geo[\"lokasi\"].str.contains(\"Indonesia|Jawa|Sulawesi|Yogyakarta|Jambi|Gorontalo|Banten|Jakarta|Riau|Sumatera|Kampung kandang|Menteng|Maumere|D 1537 OO|Manado|Sekolah Kartini|Bumi tamalanrea|Bogor|Gramedia|Gilimanuk|Bendungan hilir|Nusa Tenggara|Toilet|Cianjur|juanda|Fakultas Ekonomi|UNDIP|Cikunir|cibitung|tinjomoyo|Meruya|KFC|Terminal 2|Dinas Pekerjaan|Rumah Makeupuccino|The Danted Mencret|Sekumpul|Cipaganti|Ronggowarsito|Pakem|Tugel|Aceh|RS UIN|Dago|Lampung|Pizza|Oseng|Sudirman|Bintaro|Malioboro|IGD|ITB|Majalengka|Sanggar Agung|Globalresourcestrader|Sarangan\")].reset_index(drop=True)\n",
    "print(\"mules: \" + str(mules_id.shape[0]))\n",
    "\n",
    "mencret_id = mencret_geo[mencret_geo[\"lokasi\"].str.contains(\"Indonesia|Jawa|Sulawesi|Yogyakarta|Jambi|Gorontalo|Banten|Jakarta|Riau|Sumatera|Kampung kandang|Menteng|Maumere|D 1537 OO|Manado|Sekolah Kartini|Bumi tamalanrea|Bogor|Gramedia|Gilimanuk|Bendungan hilir|Nusa Tenggara|Toilet|Cianjur|juanda|Fakultas Ekonomi|UNDIP|Cikunir|cibitung|tinjomoyo|Meruya|KFC|Terminal 2|Dinas Pekerjaan|Rumah Makeupuccino|The Danted Mencret|Sekumpul|Cipaganti|Ronggowarsito|Pakem|Tugel|Aceh|RS UIN|Dago|Lampung|Pizza|Oseng|Sudirman|Bintaro|Malioboro|IGD|ITB|Majalengka|Sanggar Agung|Globalresourcestrader|Sarangan\")].reset_index(drop=True)\n",
    "print(\"mencret: \" + str(mencret_id.shape[0]))\n",
    "\n",
    "menceret_id = menceret_geo[menceret_geo[\"lokasi\"].str.contains(\"Indonesia|Jawa|Sulawesi|Yogyakarta|Jambi|Gorontalo|Banten|Jakarta|Riau|Sumatera|Kampung kandang|Menteng|Maumere|D 1537 OO|Manado|Sekolah Kartini|Bumi tamalanrea|Bogor|Gramedia|Gilimanuk|Bendungan hilir|Nusa Tenggara|Toilet|Cianjur|juanda|Fakultas Ekonomi|UNDIP|Cikunir|cibitung|tinjomoyo|Meruya|KFC|Terminal 2|Dinas Pekerjaan|Rumah Makeupuccino|The Danted Mencret|Sekumpul|Cipaganti|Ronggowarsito|Pakem|Tugel|Aceh|RS UIN|Dago|Lampung|Pizza|Oseng|Sudirman|Bintaro|Malioboro|IGD|ITB|Majalengka|Sanggar Agung|Globalresourcestrader|Sarangan\")].reset_index(drop=True)\n",
    "print(\"menceret: \" + str(menceret_id.shape[0]))\n",
    "\n",
    "salmonella_id = salmonella_geo[salmonella_geo[\"lokasi\"].str.contains(\"Indonesia|Jawa|Sulawesi|Yogyakarta|Jambi|Gorontalo|Banten|Jakarta|Riau|Sumatera|Kampung kandang|Menteng|Maumere|D 1537 OO|Manado|Sekolah Kartini|Bumi tamalanrea|Bogor|Gramedia|Gilimanuk|Bendungan hilir|Nusa Tenggara|Toilet|Cianjur|juanda|Fakultas Ekonomi|UNDIP|Cikunir|cibitung|tinjomoyo|Meruya|KFC|Terminal 2|Dinas Pekerjaan|Rumah Makeupuccino|The Danted Mencret|Sekumpul|Cipaganti|Ronggowarsito|Pakem|Tugel|Aceh|RS UIN|Dago|Lampung|Pizza|Oseng|Sudirman|Bintaro|Malioboro|IGD|ITB|Majalengka|Sanggar Agung|Globalresourcestrader|Sarangan\")].reset_index(drop=True)\n",
    "print(\"menceret: \" + str(salmonella_id.shape[0]))\n",
    "\n",
    "e_coli_id = e_coli_geo[e_coli_geo[\"lokasi\"].str.contains(\"Indonesia|Jawa|Sulawesi|Yogyakarta|Jambi|Gorontalo|Banten|Jakarta|Riau|Sumatera|Kampung kandang|Menteng|Maumere|D 1537 OO|Manado|Sekolah Kartini|Bumi tamalanrea|Bogor|Gramedia|Gilimanuk|Bendungan hilir|Nusa Tenggara|Toilet|Cianjur|juanda|Fakultas Ekonomi|UNDIP|Cikunir|cibitung|tinjomoyo|Meruya|KFC|Terminal 2|Dinas Pekerjaan|Rumah Makeupuccino|The Danted Mencret|Sekumpul|Cipaganti|Ronggowarsito|Pakem|Tugel|Aceh|RS UIN|Dago|Lampung|Pizza|Oseng|Sudirman|Bintaro|Malioboro|IGD|ITB|Majalengka|Sanggar Agung|Globalresourcestrader|Sarangan\")].reset_index(drop=True)\n",
    "print(\"e coli: \" + str(e_coli_id.shape[0]))\n",
    "\n",
    "oralit_id = oralit_geo[oralit_geo[\"lokasi\"].str.contains(\"Indonesia|Jawa|Sulawesi|Yogyakarta|Jambi|Gorontalo|Banten|Jakarta|Riau|Sumatera|Kampung kandang|Menteng|Maumere|D 1537 OO|Manado|Sekolah Kartini|Bumi tamalanrea|Bogor|Gramedia|Gilimanuk|Bendungan hilir|Nusa Tenggara|Toilet|Cianjur|juanda|Fakultas Ekonomi|UNDIP|Cikunir|cibitung|tinjomoyo|Meruya|KFC|Terminal 2|Dinas Pekerjaan|Rumah Makeupuccino|The Danted Mencret|Sekumpul|Cipaganti|Ronggowarsito|Pakem|Tugel|Aceh|RS UIN|Dago|Lampung|Pizza|Oseng|Sudirman|Bintaro|Malioboro|IGD|ITB|Majalengka|Sanggar Agung|Globalresourcestrader|Sarangan\")].reset_index(drop=True)\n",
    "print(\"oralit: \" + str(oralit_id.shape[0]))"
   ]
  },
  {
   "cell_type": "markdown",
   "metadata": {
    "slideshow": {
     "slide_type": "slide"
    }
   },
   "source": [
    "# Data dengan Geolokasi"
   ]
  },
  {
   "cell_type": "code",
   "execution_count": 87,
   "metadata": {
    "slideshow": {
     "slide_type": "slide"
    }
   },
   "outputs": [
    {
     "name": "stdout",
     "output_type": "stream",
     "text": [
      "14722\n"
     ]
    }
   ],
   "source": [
    "pm_geo = pm[pm['placeID'] != ' '].sort_values(by=\"date\")\n",
    "print(pm_geo.shape[0])"
   ]
  },
  {
   "cell_type": "code",
   "execution_count": 88,
   "metadata": {
    "slideshow": {
     "slide_type": "slide"
    }
   },
   "outputs": [
    {
     "data": {
      "text/html": [
       "<div>\n",
       "<style scoped>\n",
       "    .dataframe tbody tr th:only-of-type {\n",
       "        vertical-align: middle;\n",
       "    }\n",
       "\n",
       "    .dataframe tbody tr th {\n",
       "        vertical-align: top;\n",
       "    }\n",
       "\n",
       "    .dataframe thead th {\n",
       "        text-align: right;\n",
       "    }\n",
       "</style>\n",
       "<table border=\"1\" class=\"dataframe\">\n",
       "  <thead>\n",
       "    <tr style=\"text-align: right;\">\n",
       "      <th></th>\n",
       "      <th>username</th>\n",
       "      <th>date</th>\n",
       "      <th>time</th>\n",
       "      <th>text</th>\n",
       "      <th>tweetID</th>\n",
       "      <th>placeID</th>\n",
       "      <th>daerah</th>\n",
       "      <th>lokasi</th>\n",
       "      <th>longitude</th>\n",
       "      <th>latitude</th>\n",
       "    </tr>\n",
       "  </thead>\n",
       "  <tbody>\n",
       "    <tr>\n",
       "      <th>10356</th>\n",
       "      <td>@syahmie9000</td>\n",
       "      <td>2018-01-01</td>\n",
       "      <td>22:58</td>\n",
       "      <td>sakit perut ni nk tido dh slow</td>\n",
       "      <td>947859547963584514</td>\n",
       "      <td>bfd31bd14b32e206</td>\n",
       "      <td>Kuala Nerus</td>\n",
       "      <td>Kuala Nerus Terengganu</td>\n",
       "      <td>103.05502109247088</td>\n",
       "      <td>5.3675648</td>\n",
       "    </tr>\n",
       "    <tr>\n",
       "      <th>10742</th>\n",
       "      <td>@Mizan_Amran</td>\n",
       "      <td>2018-01-01</td>\n",
       "      <td>13:16</td>\n",
       "      <td>teda juga makan yg nda patut sakit perut tau</td>\n",
       "      <td>947713107207401472</td>\n",
       "      <td>7b02fbddf4d9f2c6</td>\n",
       "      <td>Bandar Kuala Lumpur</td>\n",
       "      <td>Bandar Kuala Lumpur Wilayah Persekutuan Kuala...</td>\n",
       "      <td>101.70353513023889</td>\n",
       "      <td>3.1485306499999997</td>\n",
       "    </tr>\n",
       "    <tr>\n",
       "      <th>10631</th>\n",
       "      <td>@AbdulIkromMukti</td>\n",
       "      <td>2018-01-01</td>\n",
       "      <td>17:22</td>\n",
       "      <td>ntah ini gaya apa nahan bersin nahan mules mu...</td>\n",
       "      <td>947775136970797056</td>\n",
       "      <td>2eb44917f4d6dddc</td>\n",
       "      <td>Cirebon Barat</td>\n",
       "      <td>Cirebon Barat Indonesia</td>\n",
       "      <td>108.53915156648996</td>\n",
       "      <td>-6.7191105</td>\n",
       "    </tr>\n",
       "    <tr>\n",
       "      <th>10604</th>\n",
       "      <td>@nengnurlaela21</td>\n",
       "      <td>2018-01-01</td>\n",
       "      <td>18:36</td>\n",
       "      <td>get well soon kak dori masih di sukabumi kak ...</td>\n",
       "      <td>947793618315522048</td>\n",
       "      <td>8b2c9342507e86d3</td>\n",
       "      <td>Baros</td>\n",
       "      <td>Baros Indonesia</td>\n",
       "      <td>106.92870584765362</td>\n",
       "      <td>-6.946683</td>\n",
       "    </tr>\n",
       "    <tr>\n",
       "      <th>10540</th>\n",
       "      <td>@_sulistiyowati_</td>\n",
       "      <td>2018-01-01</td>\n",
       "      <td>19:57</td>\n",
       "      <td>awalnya pening doang berhari hari terus demam...</td>\n",
       "      <td>947813927059988481</td>\n",
       "      <td>dc83e4ea9c950d75</td>\n",
       "      <td>Labuhan Maringgai</td>\n",
       "      <td>Labuhan Maringgai Indonesia</td>\n",
       "      <td>105.81180643124533</td>\n",
       "      <td>-5.342388</td>\n",
       "    </tr>\n",
       "  </tbody>\n",
       "</table>\n",
       "</div>"
      ],
      "text/plain": [
       "               username         date    time  \\\n",
       "10356      @syahmie9000   2018-01-01   22:58   \n",
       "10742      @Mizan_Amran   2018-01-01   13:16   \n",
       "10631  @AbdulIkromMukti   2018-01-01   17:22   \n",
       "10604   @nengnurlaela21   2018-01-01   18:36   \n",
       "10540  @_sulistiyowati_   2018-01-01   19:57   \n",
       "\n",
       "                                                    text             tweetID  \\\n",
       "10356                     sakit perut ni nk tido dh slow  947859547963584514   \n",
       "10742       teda juga makan yg nda patut sakit perut tau  947713107207401472   \n",
       "10631   ntah ini gaya apa nahan bersin nahan mules mu...  947775136970797056   \n",
       "10604   get well soon kak dori masih di sukabumi kak ...  947793618315522048   \n",
       "10540   awalnya pening doang berhari hari terus demam...  947813927059988481   \n",
       "\n",
       "                 placeID                daerah  \\\n",
       "10356   bfd31bd14b32e206           Kuala Nerus   \n",
       "10742   7b02fbddf4d9f2c6   Bandar Kuala Lumpur   \n",
       "10631   2eb44917f4d6dddc         Cirebon Barat   \n",
       "10604   8b2c9342507e86d3                 Baros   \n",
       "10540   dc83e4ea9c950d75     Labuhan Maringgai   \n",
       "\n",
       "                                                  lokasi            longitude  \\\n",
       "10356                             Kuala Nerus Terengganu   103.05502109247088   \n",
       "10742   Bandar Kuala Lumpur Wilayah Persekutuan Kuala...   101.70353513023889   \n",
       "10631                            Cirebon Barat Indonesia   108.53915156648996   \n",
       "10604                                    Baros Indonesia   106.92870584765362   \n",
       "10540                        Labuhan Maringgai Indonesia   105.81180643124533   \n",
       "\n",
       "                  latitude  \n",
       "10356            5.3675648  \n",
       "10742   3.1485306499999997  \n",
       "10631           -6.7191105  \n",
       "10604            -6.946683  \n",
       "10540            -5.342388  "
      ]
     },
     "execution_count": 88,
     "metadata": {},
     "output_type": "execute_result"
    }
   ],
   "source": [
    "pm_geo.head()"
   ]
  },
  {
   "cell_type": "markdown",
   "metadata": {
    "slideshow": {
     "slide_type": "slide"
    }
   },
   "source": [
    "# Data Tanpa Duplikat"
   ]
  },
  {
   "cell_type": "code",
   "execution_count": 89,
   "metadata": {
    "slideshow": {
     "slide_type": "slide"
    }
   },
   "outputs": [
    {
     "name": "stdout",
     "output_type": "stream",
     "text": [
      "14127\n"
     ]
    }
   ],
   "source": [
    "pm_geo_drop = pm_geo.drop_duplicates()\n",
    "print(pm_geo_drop.shape[0])"
   ]
  },
  {
   "cell_type": "code",
   "execution_count": 90,
   "metadata": {
    "slideshow": {
     "slide_type": "slide"
    }
   },
   "outputs": [
    {
     "data": {
      "text/html": [
       "<div>\n",
       "<style scoped>\n",
       "    .dataframe tbody tr th:only-of-type {\n",
       "        vertical-align: middle;\n",
       "    }\n",
       "\n",
       "    .dataframe tbody tr th {\n",
       "        vertical-align: top;\n",
       "    }\n",
       "\n",
       "    .dataframe thead th {\n",
       "        text-align: right;\n",
       "    }\n",
       "</style>\n",
       "<table border=\"1\" class=\"dataframe\">\n",
       "  <thead>\n",
       "    <tr style=\"text-align: right;\">\n",
       "      <th></th>\n",
       "      <th>username</th>\n",
       "      <th>date</th>\n",
       "      <th>time</th>\n",
       "      <th>text</th>\n",
       "      <th>tweetID</th>\n",
       "      <th>placeID</th>\n",
       "      <th>daerah</th>\n",
       "      <th>lokasi</th>\n",
       "      <th>longitude</th>\n",
       "      <th>latitude</th>\n",
       "    </tr>\n",
       "  </thead>\n",
       "  <tbody>\n",
       "    <tr>\n",
       "      <th>10356</th>\n",
       "      <td>@syahmie9000</td>\n",
       "      <td>2018-01-01</td>\n",
       "      <td>22:58</td>\n",
       "      <td>sakit perut ni nk tido dh slow</td>\n",
       "      <td>947859547963584514</td>\n",
       "      <td>bfd31bd14b32e206</td>\n",
       "      <td>Kuala Nerus</td>\n",
       "      <td>Kuala Nerus Terengganu</td>\n",
       "      <td>103.05502109247088</td>\n",
       "      <td>5.3675648</td>\n",
       "    </tr>\n",
       "    <tr>\n",
       "      <th>10742</th>\n",
       "      <td>@Mizan_Amran</td>\n",
       "      <td>2018-01-01</td>\n",
       "      <td>13:16</td>\n",
       "      <td>teda juga makan yg nda patut sakit perut tau</td>\n",
       "      <td>947713107207401472</td>\n",
       "      <td>7b02fbddf4d9f2c6</td>\n",
       "      <td>Bandar Kuala Lumpur</td>\n",
       "      <td>Bandar Kuala Lumpur Wilayah Persekutuan Kuala...</td>\n",
       "      <td>101.70353513023889</td>\n",
       "      <td>3.1485306499999997</td>\n",
       "    </tr>\n",
       "    <tr>\n",
       "      <th>10631</th>\n",
       "      <td>@AbdulIkromMukti</td>\n",
       "      <td>2018-01-01</td>\n",
       "      <td>17:22</td>\n",
       "      <td>ntah ini gaya apa nahan bersin nahan mules mu...</td>\n",
       "      <td>947775136970797056</td>\n",
       "      <td>2eb44917f4d6dddc</td>\n",
       "      <td>Cirebon Barat</td>\n",
       "      <td>Cirebon Barat Indonesia</td>\n",
       "      <td>108.53915156648996</td>\n",
       "      <td>-6.7191105</td>\n",
       "    </tr>\n",
       "    <tr>\n",
       "      <th>10604</th>\n",
       "      <td>@nengnurlaela21</td>\n",
       "      <td>2018-01-01</td>\n",
       "      <td>18:36</td>\n",
       "      <td>get well soon kak dori masih di sukabumi kak ...</td>\n",
       "      <td>947793618315522048</td>\n",
       "      <td>8b2c9342507e86d3</td>\n",
       "      <td>Baros</td>\n",
       "      <td>Baros Indonesia</td>\n",
       "      <td>106.92870584765362</td>\n",
       "      <td>-6.946683</td>\n",
       "    </tr>\n",
       "    <tr>\n",
       "      <th>10540</th>\n",
       "      <td>@_sulistiyowati_</td>\n",
       "      <td>2018-01-01</td>\n",
       "      <td>19:57</td>\n",
       "      <td>awalnya pening doang berhari hari terus demam...</td>\n",
       "      <td>947813927059988481</td>\n",
       "      <td>dc83e4ea9c950d75</td>\n",
       "      <td>Labuhan Maringgai</td>\n",
       "      <td>Labuhan Maringgai Indonesia</td>\n",
       "      <td>105.81180643124533</td>\n",
       "      <td>-5.342388</td>\n",
       "    </tr>\n",
       "  </tbody>\n",
       "</table>\n",
       "</div>"
      ],
      "text/plain": [
       "               username         date    time  \\\n",
       "10356      @syahmie9000   2018-01-01   22:58   \n",
       "10742      @Mizan_Amran   2018-01-01   13:16   \n",
       "10631  @AbdulIkromMukti   2018-01-01   17:22   \n",
       "10604   @nengnurlaela21   2018-01-01   18:36   \n",
       "10540  @_sulistiyowati_   2018-01-01   19:57   \n",
       "\n",
       "                                                    text             tweetID  \\\n",
       "10356                     sakit perut ni nk tido dh slow  947859547963584514   \n",
       "10742       teda juga makan yg nda patut sakit perut tau  947713107207401472   \n",
       "10631   ntah ini gaya apa nahan bersin nahan mules mu...  947775136970797056   \n",
       "10604   get well soon kak dori masih di sukabumi kak ...  947793618315522048   \n",
       "10540   awalnya pening doang berhari hari terus demam...  947813927059988481   \n",
       "\n",
       "                 placeID                daerah  \\\n",
       "10356   bfd31bd14b32e206           Kuala Nerus   \n",
       "10742   7b02fbddf4d9f2c6   Bandar Kuala Lumpur   \n",
       "10631   2eb44917f4d6dddc         Cirebon Barat   \n",
       "10604   8b2c9342507e86d3                 Baros   \n",
       "10540   dc83e4ea9c950d75     Labuhan Maringgai   \n",
       "\n",
       "                                                  lokasi            longitude  \\\n",
       "10356                             Kuala Nerus Terengganu   103.05502109247088   \n",
       "10742   Bandar Kuala Lumpur Wilayah Persekutuan Kuala...   101.70353513023889   \n",
       "10631                            Cirebon Barat Indonesia   108.53915156648996   \n",
       "10604                                    Baros Indonesia   106.92870584765362   \n",
       "10540                        Labuhan Maringgai Indonesia   105.81180643124533   \n",
       "\n",
       "                  latitude  \n",
       "10356            5.3675648  \n",
       "10742   3.1485306499999997  \n",
       "10631           -6.7191105  \n",
       "10604            -6.946683  \n",
       "10540            -5.342388  "
      ]
     },
     "execution_count": 90,
     "metadata": {},
     "output_type": "execute_result"
    }
   ],
   "source": [
    "pm_geo_drop.head()"
   ]
  },
  {
   "cell_type": "markdown",
   "metadata": {
    "slideshow": {
     "slide_type": "slide"
    }
   },
   "source": [
    "# Data Lokasi Indonesia"
   ]
  },
  {
   "cell_type": "code",
   "execution_count": 108,
   "metadata": {
    "slideshow": {
     "slide_type": "slide"
    }
   },
   "outputs": [
    {
     "data": {
      "text/plain": [
       "(6787, 10)"
      ]
     },
     "execution_count": 108,
     "metadata": {},
     "output_type": "execute_result"
    }
   ],
   "source": [
    "pm_id = pm_geo_drop[pm_geo_drop[\"lokasi\"].str.contains(\"Indonesia|Jawa|Sulawesi|Yogyakarta|Jambi|Gorontalo|Banten|Jakarta|Riau|Sumatera|Kampung kandang|Menteng|Maumere|D 1537 OO|Manado|Sekolah Kartini|Bumi tamalanrea|Bogor|Gramedia|Gilimanuk|Bendungan hilir|Nusa Tenggara|Toilet|Cianjur|juanda|Fakultas Ekonomi|UNDIP|Cikunir|cibitung|tinjomoyo|Meruya|KFC|Terminal 2|Dinas Pekerjaan|Rumah Makeupuccino|The Danted Mencret|Sekumpul|Cipaganti|Ronggowarsito|Pakem|Tugel|Aceh|RS UIN|Dago|Lampung|Pizza|Oseng|Sudirman|Bintaro|Malioboro|IGD|ITB|Majalengka|Sanggar Agung|Globalresourcestrader|Sarangan\")].reset_index(drop=True)\n",
    "pm_id.shape"
   ]
  },
  {
   "cell_type": "code",
   "execution_count": 9,
   "metadata": {
    "slideshow": {
     "slide_type": "slide"
    }
   },
   "outputs": [
    {
     "data": {
      "text/html": [
       "<div>\n",
       "<style scoped>\n",
       "    .dataframe tbody tr th:only-of-type {\n",
       "        vertical-align: middle;\n",
       "    }\n",
       "\n",
       "    .dataframe tbody tr th {\n",
       "        vertical-align: top;\n",
       "    }\n",
       "\n",
       "    .dataframe thead th {\n",
       "        text-align: right;\n",
       "    }\n",
       "</style>\n",
       "<table border=\"1\" class=\"dataframe\">\n",
       "  <thead>\n",
       "    <tr style=\"text-align: right;\">\n",
       "      <th></th>\n",
       "      <th>username</th>\n",
       "      <th>date</th>\n",
       "      <th>time</th>\n",
       "      <th>text</th>\n",
       "      <th>tweetID</th>\n",
       "      <th>placeID</th>\n",
       "      <th>daerah</th>\n",
       "      <th>lokasi</th>\n",
       "      <th>longitude</th>\n",
       "      <th>latitude</th>\n",
       "    </tr>\n",
       "  </thead>\n",
       "  <tbody>\n",
       "    <tr>\n",
       "      <th>0</th>\n",
       "      <td>@AbdulIkromMukti</td>\n",
       "      <td>2018-01-01</td>\n",
       "      <td>17:22</td>\n",
       "      <td>Ntah ini gaya apa. Nahan bersin Nahan mules M...</td>\n",
       "      <td>947775136970797056</td>\n",
       "      <td>2eb44917f4d6dddc</td>\n",
       "      <td>Cirebon Barat</td>\n",
       "      <td>Cirebon Barat Indonesia</td>\n",
       "      <td>108.53915156648996</td>\n",
       "      <td>-6.7191105</td>\n",
       "    </tr>\n",
       "    <tr>\n",
       "      <th>1</th>\n",
       "      <td>@nengnurlaela21</td>\n",
       "      <td>2018-01-01</td>\n",
       "      <td>18:36</td>\n",
       "      <td>get well soon Kak Dori   masih di Sukabumi ka...</td>\n",
       "      <td>947793618315522048</td>\n",
       "      <td>8b2c9342507e86d3</td>\n",
       "      <td>Baros</td>\n",
       "      <td>Baros Indonesia</td>\n",
       "      <td>106.92870584765362</td>\n",
       "      <td>-6.946683</td>\n",
       "    </tr>\n",
       "    <tr>\n",
       "      <th>2</th>\n",
       "      <td>@_sulistiyowati_</td>\n",
       "      <td>2018-01-01</td>\n",
       "      <td>19:57</td>\n",
       "      <td>Awalnya pening doang berhari-hari. Terus dema...</td>\n",
       "      <td>947813927059988481</td>\n",
       "      <td>dc83e4ea9c950d75</td>\n",
       "      <td>Labuhan Maringgai</td>\n",
       "      <td>Labuhan Maringgai Indonesia</td>\n",
       "      <td>105.81180643124533</td>\n",
       "      <td>-5.342388</td>\n",
       "    </tr>\n",
       "    <tr>\n",
       "      <th>3</th>\n",
       "      <td>@rundraj</td>\n",
       "      <td>2018-01-01</td>\n",
       "      <td>13:39</td>\n",
       "      <td>Sing seneng akeh  sing mules merga mburi ngom...</td>\n",
       "      <td>947719008975015936</td>\n",
       "      <td>c4397d8c10325af5</td>\n",
       "      <td>Kasihan</td>\n",
       "      <td>Kasihan Indonesia</td>\n",
       "      <td>110.33361932383802</td>\n",
       "      <td>-7.814738999999999</td>\n",
       "    </tr>\n",
       "    <tr>\n",
       "      <th>4</th>\n",
       "      <td>@fitryfee3</td>\n",
       "      <td>2018-01-01</td>\n",
       "      <td>11:55</td>\n",
       "      <td>Maag kumat sejak kemarin  hasilnya diare. Mul...</td>\n",
       "      <td>947692732536971264</td>\n",
       "      <td>420f122b6bea262c</td>\n",
       "      <td>Lemahabang</td>\n",
       "      <td>Lemahabang Indonesia</td>\n",
       "      <td>107.18428703876046</td>\n",
       "      <td>-6.2976855</td>\n",
       "    </tr>\n",
       "  </tbody>\n",
       "</table>\n",
       "</div>"
      ],
      "text/plain": [
       "           username         date    time  \\\n",
       "0  @AbdulIkromMukti   2018-01-01   17:22   \n",
       "1   @nengnurlaela21   2018-01-01   18:36   \n",
       "2  @_sulistiyowati_   2018-01-01   19:57   \n",
       "3          @rundraj   2018-01-01   13:39   \n",
       "4        @fitryfee3   2018-01-01   11:55   \n",
       "\n",
       "                                                text             tweetID  \\\n",
       "0   Ntah ini gaya apa. Nahan bersin Nahan mules M...  947775136970797056   \n",
       "1   get well soon Kak Dori   masih di Sukabumi ka...  947793618315522048   \n",
       "2   Awalnya pening doang berhari-hari. Terus dema...  947813927059988481   \n",
       "3   Sing seneng akeh  sing mules merga mburi ngom...  947719008975015936   \n",
       "4   Maag kumat sejak kemarin  hasilnya diare. Mul...  947692732536971264   \n",
       "\n",
       "             placeID              daerah                        lokasi  \\\n",
       "0   2eb44917f4d6dddc       Cirebon Barat       Cirebon Barat Indonesia   \n",
       "1   8b2c9342507e86d3               Baros               Baros Indonesia   \n",
       "2   dc83e4ea9c950d75   Labuhan Maringgai   Labuhan Maringgai Indonesia   \n",
       "3   c4397d8c10325af5             Kasihan             Kasihan Indonesia   \n",
       "4   420f122b6bea262c          Lemahabang          Lemahabang Indonesia   \n",
       "\n",
       "             longitude             latitude  \n",
       "0   108.53915156648996           -6.7191105  \n",
       "1   106.92870584765362            -6.946683  \n",
       "2   105.81180643124533            -5.342388  \n",
       "3   110.33361932383802   -7.814738999999999  \n",
       "4   107.18428703876046           -6.2976855  "
      ]
     },
     "execution_count": 9,
     "metadata": {},
     "output_type": "execute_result"
    }
   ],
   "source": [
    "pm_id.head()"
   ]
  },
  {
   "cell_type": "code",
   "execution_count": 10,
   "metadata": {},
   "outputs": [],
   "source": [
    "import matplotlib.pyplot as plt; \n",
    "plt.rcdefaults()\n",
    "import numpy as np"
   ]
  },
  {
   "cell_type": "code",
   "execution_count": 11,
   "metadata": {
    "slideshow": {
     "slide_type": "slide"
    }
   },
   "outputs": [
    {
     "data": {
      "text/html": [
       "<div>\n",
       "<style scoped>\n",
       "    .dataframe tbody tr th:only-of-type {\n",
       "        vertical-align: middle;\n",
       "    }\n",
       "\n",
       "    .dataframe tbody tr th {\n",
       "        vertical-align: top;\n",
       "    }\n",
       "\n",
       "    .dataframe thead th {\n",
       "        text-align: right;\n",
       "    }\n",
       "</style>\n",
       "<table border=\"1\" class=\"dataframe\">\n",
       "  <thead>\n",
       "    <tr style=\"text-align: right;\">\n",
       "      <th></th>\n",
       "      <th>data</th>\n",
       "      <th>freq</th>\n",
       "    </tr>\n",
       "  </thead>\n",
       "  <tbody>\n",
       "    <tr>\n",
       "      <th>0</th>\n",
       "      <td>Total</td>\n",
       "      <td>361610</td>\n",
       "    </tr>\n",
       "    <tr>\n",
       "      <th>1</th>\n",
       "      <td>Geolocation</td>\n",
       "      <td>14722</td>\n",
       "    </tr>\n",
       "    <tr>\n",
       "      <th>2</th>\n",
       "      <td>Identic</td>\n",
       "      <td>14127</td>\n",
       "    </tr>\n",
       "    <tr>\n",
       "      <th>3</th>\n",
       "      <td>Indonesia</td>\n",
       "      <td>6787</td>\n",
       "    </tr>\n",
       "  </tbody>\n",
       "</table>\n",
       "</div>"
      ],
      "text/plain": [
       "          data    freq\n",
       "0        Total  361610\n",
       "1  Geolocation   14722\n",
       "2      Identic   14127\n",
       "3    Indonesia    6787"
      ]
     },
     "execution_count": 11,
     "metadata": {},
     "output_type": "execute_result"
    }
   ],
   "source": [
    "data = pd.DataFrame({'data': ['Total', 'Geolocation', 'Identic', 'Indonesia'],\n",
    "                    'freq': [pm.shape[0], pm_geo.shape[0], pm_geo_drop.shape[0], pm_id.shape[0]]})\n",
    "data"
   ]
  },
  {
   "cell_type": "code",
   "execution_count": 14,
   "metadata": {
    "slideshow": {
     "slide_type": "slide"
    }
   },
   "outputs": [
    {
     "data": {
      "image/png": "[encoded data removed]",
      "text/plain": [
       "<Figure size 432x288 with 1 Axes>"
      ]
     },
     "metadata": {},
     "output_type": "display_data"
    }
   ],
   "source": [
    "ax = data.plot(x='data', y='freq',kind=\"bar\", rot=0, legend=None)\n",
    "ax.set_alpha(0.5)\n",
    "ax.set_xlabel('Data')\n",
    "ax.set_ylabel('Number of Tweets')\n",
    "ax.set_title('Twitter Data for Infectious Diseases 2018')\n",
    "\n",
    "ax.text(ax.patches[0].get_x()+0.05, ax.patches[0].get_height()+5000, str(ax.patches[0].get_height()), fontsize=10)\n",
    "ax.text(ax.patches[1].get_x()+0.075, ax.patches[1].get_height()+2000, str(ax.patches[1].get_height()), fontsize=10)\n",
    "ax.text(ax.patches[2].get_x()+0.08, ax.patches[2].get_height()+1000, str(ax.patches[2].get_height()), fontsize=10)\n",
    "ax.text(ax.patches[3].get_x()+0.1, ax.patches[3].get_height()+300, str(ax.patches[3].get_height()), fontsize=10)\n",
    "\n",
    "plt.show()"
   ]
  },
  {
   "cell_type": "code",
   "execution_count": 21,
   "metadata": {
    "slideshow": {
     "slide_type": "slide"
    }
   },
   "outputs": [
    {
     "data": {
      "image/png": "[encoded data removed]",
      "text/plain": [
       "<Figure size 432x288 with 1 Axes>"
      ]
     },
     "metadata": {},
     "output_type": "display_data"
    }
   ],
   "source": [
    "ax = data.plot(x='data', y='freq',kind=\"bar\", rot=0, logy=True, legend=None)\n",
    "ax.set_alpha(0.5)\n",
    "ax.set_xlabel('Data')\n",
    "ax.set_ylabel('Number of Tweets')\n",
    "ax.set_title('Twitter Data for Infectious Diseases 2018')\n",
    "\n",
    "ax.text(ax.patches[0].get_x()+0.05, ax.patches[0].get_height()+15000, str(ax.patches[0].get_height()), fontsize=10)\n",
    "ax.text(ax.patches[1].get_x()+0.075, ax.patches[1].get_height()+1000, str(ax.patches[1].get_height()), fontsize=10)\n",
    "ax.text(ax.patches[2].get_x()+0.08, ax.patches[2].get_height()+1000, str(ax.patches[2].get_height()), fontsize=10)\n",
    "ax.text(ax.patches[3].get_x()+0.125, ax.patches[3].get_height()+300, str(ax.patches[3].get_height()), fontsize=10)\n",
    "\n",
    "plt.show()"
   ]
  },
  {
   "cell_type": "markdown",
   "metadata": {
    "slideshow": {
     "slide_type": "slide"
    }
   },
   "source": [
    "# Text Preprocessing"
   ]
  },
  {
   "cell_type": "code",
   "execution_count": 39,
   "metadata": {
    "slideshow": {
     "slide_type": "skip"
    }
   },
   "outputs": [
    {
     "ename": "KeyboardInterrupt",
     "evalue": "",
     "output_type": "error",
     "traceback": [
      "\u001b[1;31m---------------------------------------------------------------------------\u001b[0m",
      "\u001b[1;31mFileNotFoundError\u001b[0m                         Traceback (most recent call last)",
      "\u001b[1;32m~\\Anaconda3\\lib\\importlib\\_bootstrap_external.py\u001b[0m in \u001b[0;36m_path_is_mode_type\u001b[1;34m(path, mode)\u001b[0m\n",
      "\u001b[1;32m~\\Anaconda3\\lib\\importlib\\_bootstrap_external.py\u001b[0m in \u001b[0;36m_path_stat\u001b[1;34m(path)\u001b[0m\n",
      "\u001b[1;31mFileNotFoundError\u001b[0m: [WinError 2] The system cannot find the file specified: 'C:\\\\Users\\\\hp\\\\AppData\\\\Roaming\\\\Python\\\\Python36\\\\site-packages\\\\scipy\\\\spatial\\\\__init__.cp36-win_amd64.pyd'",
      "\nDuring handling of the above exception, another exception occurred:\n",
      "\u001b[1;31mKeyboardInterrupt\u001b[0m                         Traceback (most recent call last)",
      "\u001b[1;32m<ipython-input-39-81575fef0c9f>\u001b[0m in \u001b[0;36m<module>\u001b[1;34m()\u001b[0m\n\u001b[0;32m      1\u001b[0m \u001b[1;32mimport\u001b[0m \u001b[0mre\u001b[0m\u001b[1;33m\u001b[0m\u001b[0m\n\u001b[0;32m      2\u001b[0m \u001b[1;32mimport\u001b[0m \u001b[0mstring\u001b[0m\u001b[1;33m\u001b[0m\u001b[0m\n\u001b[1;32m----> 3\u001b[1;33m \u001b[1;32mimport\u001b[0m \u001b[0mnltk\u001b[0m\u001b[1;33m\u001b[0m\u001b[0m\n\u001b[0m\u001b[0;32m      4\u001b[0m \u001b[1;32mfrom\u001b[0m \u001b[0mnltk\u001b[0m\u001b[1;33m.\u001b[0m\u001b[0mtokenize\u001b[0m \u001b[1;32mimport\u001b[0m \u001b[0mword_tokenize\u001b[0m\u001b[1;33m\u001b[0m\u001b[0m\n\u001b[0;32m      5\u001b[0m \u001b[1;32mfrom\u001b[0m \u001b[0mnltk\u001b[0m\u001b[1;33m.\u001b[0m\u001b[0mcorpus\u001b[0m \u001b[1;32mimport\u001b[0m \u001b[0mstopwords\u001b[0m\u001b[1;33m\u001b[0m\u001b[0m\n",
      "\u001b[1;32m~\\Anaconda3\\lib\\site-packages\\nltk\\__init__.py\u001b[0m in \u001b[0;36m<module>\u001b[1;34m()\u001b[0m\n\u001b[0;32m    112\u001b[0m \u001b[1;31m# Import top-level functionality into top-level namespace\u001b[0m\u001b[1;33m\u001b[0m\u001b[1;33m\u001b[0m\u001b[0m\n\u001b[0;32m    113\u001b[0m \u001b[1;33m\u001b[0m\u001b[0m\n\u001b[1;32m--> 114\u001b[1;33m \u001b[1;32mfrom\u001b[0m \u001b[0mnltk\u001b[0m\u001b[1;33m.\u001b[0m\u001b[0mcollocations\u001b[0m \u001b[1;32mimport\u001b[0m \u001b[1;33m*\u001b[0m\u001b[1;33m\u001b[0m\u001b[0m\n\u001b[0m\u001b[0;32m    115\u001b[0m \u001b[1;32mfrom\u001b[0m \u001b[0mnltk\u001b[0m\u001b[1;33m.\u001b[0m\u001b[0mdecorators\u001b[0m \u001b[1;32mimport\u001b[0m \u001b[0mdecorator\u001b[0m\u001b[1;33m,\u001b[0m \u001b[0mmemoize\u001b[0m\u001b[1;33m\u001b[0m\u001b[0m\n\u001b[0;32m    116\u001b[0m \u001b[1;32mfrom\u001b[0m \u001b[0mnltk\u001b[0m\u001b[1;33m.\u001b[0m\u001b[0mfeatstruct\u001b[0m \u001b[1;32mimport\u001b[0m \u001b[1;33m*\u001b[0m\u001b[1;33m\u001b[0m\u001b[0m\n",
      "\u001b[1;32m~\\Anaconda3\\lib\\site-packages\\nltk\\collocations.py\u001b[0m in \u001b[0;36m<module>\u001b[1;34m()\u001b[0m\n\u001b[0;32m     37\u001b[0m \u001b[1;32mfrom\u001b[0m \u001b[0mnltk\u001b[0m\u001b[1;33m.\u001b[0m\u001b[0mprobability\u001b[0m \u001b[1;32mimport\u001b[0m \u001b[0mFreqDist\u001b[0m\u001b[1;33m\u001b[0m\u001b[0m\n\u001b[0;32m     38\u001b[0m \u001b[1;32mfrom\u001b[0m \u001b[0mnltk\u001b[0m\u001b[1;33m.\u001b[0m\u001b[0mutil\u001b[0m \u001b[1;32mimport\u001b[0m \u001b[0mngrams\u001b[0m\u001b[1;33m\u001b[0m\u001b[0m\n\u001b[1;32m---> 39\u001b[1;33m \u001b[1;32mfrom\u001b[0m \u001b[0mnltk\u001b[0m\u001b[1;33m.\u001b[0m\u001b[0mmetrics\u001b[0m \u001b[1;32mimport\u001b[0m \u001b[0mContingencyMeasures\u001b[0m\u001b[1;33m,\u001b[0m \u001b[0mBigramAssocMeasures\u001b[0m\u001b[1;33m,\u001b[0m \u001b[0mTrigramAssocMeasures\u001b[0m\u001b[1;33m\u001b[0m\u001b[0m\n\u001b[0m\u001b[0;32m     40\u001b[0m \u001b[1;32mfrom\u001b[0m \u001b[0mnltk\u001b[0m\u001b[1;33m.\u001b[0m\u001b[0mmetrics\u001b[0m\u001b[1;33m.\u001b[0m\u001b[0mspearman\u001b[0m \u001b[1;32mimport\u001b[0m \u001b[0mranks_from_scores\u001b[0m\u001b[1;33m,\u001b[0m \u001b[0mspearman_correlation\u001b[0m\u001b[1;33m\u001b[0m\u001b[0m\n\u001b[0;32m     41\u001b[0m \u001b[1;33m\u001b[0m\u001b[0m\n",
      "\u001b[1;32m~\\Anaconda3\\lib\\site-packages\\nltk\\metrics\\__init__.py\u001b[0m in \u001b[0;36m<module>\u001b[1;34m()\u001b[0m\n\u001b[0;32m     14\u001b[0m \"\"\"\n\u001b[0;32m     15\u001b[0m \u001b[1;33m\u001b[0m\u001b[0m\n\u001b[1;32m---> 16\u001b[1;33m from nltk.metrics.scores import          (accuracy, precision, recall, f_measure,\n\u001b[0m\u001b[0;32m     17\u001b[0m                                           log_likelihood, approxrand)\n\u001b[0;32m     18\u001b[0m \u001b[1;32mfrom\u001b[0m \u001b[0mnltk\u001b[0m\u001b[1;33m.\u001b[0m\u001b[0mmetrics\u001b[0m\u001b[1;33m.\u001b[0m\u001b[0mconfusionmatrix\u001b[0m \u001b[1;32mimport\u001b[0m \u001b[0mConfusionMatrix\u001b[0m\u001b[1;33m\u001b[0m\u001b[0m\n",
      "\u001b[1;32m~\\Anaconda3\\lib\\site-packages\\nltk\\metrics\\scores.py\u001b[0m in \u001b[0;36m<module>\u001b[1;34m()\u001b[0m\n\u001b[0;32m     16\u001b[0m \u001b[1;33m\u001b[0m\u001b[0m\n\u001b[0;32m     17\u001b[0m \u001b[1;32mtry\u001b[0m\u001b[1;33m:\u001b[0m\u001b[1;33m\u001b[0m\u001b[0m\n\u001b[1;32m---> 18\u001b[1;33m     \u001b[1;32mfrom\u001b[0m \u001b[0mscipy\u001b[0m\u001b[1;33m.\u001b[0m\u001b[0mstats\u001b[0m\u001b[1;33m.\u001b[0m\u001b[0mstats\u001b[0m \u001b[1;32mimport\u001b[0m \u001b[0mbetai\u001b[0m\u001b[1;33m\u001b[0m\u001b[0m\n\u001b[0m\u001b[0;32m     19\u001b[0m \u001b[1;32mexcept\u001b[0m \u001b[0mImportError\u001b[0m\u001b[1;33m:\u001b[0m\u001b[1;33m\u001b[0m\u001b[0m\n\u001b[0;32m     20\u001b[0m     \u001b[0mbetai\u001b[0m \u001b[1;33m=\u001b[0m \u001b[1;32mNone\u001b[0m\u001b[1;33m\u001b[0m\u001b[0m\n",
      "\u001b[1;32m~\\AppData\\Roaming\\Python\\Python36\\site-packages\\scipy\\stats\\__init__.py\u001b[0m in \u001b[0;36m<module>\u001b[1;34m()\u001b[0m\n\u001b[0;32m    343\u001b[0m \u001b[1;32mfrom\u001b[0m \u001b[0m__future__\u001b[0m \u001b[1;32mimport\u001b[0m \u001b[0mdivision\u001b[0m\u001b[1;33m,\u001b[0m \u001b[0mprint_function\u001b[0m\u001b[1;33m,\u001b[0m \u001b[0mabsolute_import\u001b[0m\u001b[1;33m\u001b[0m\u001b[0m\n\u001b[0;32m    344\u001b[0m \u001b[1;33m\u001b[0m\u001b[0m\n\u001b[1;32m--> 345\u001b[1;33m \u001b[1;32mfrom\u001b[0m \u001b[1;33m.\u001b[0m\u001b[0mstats\u001b[0m \u001b[1;32mimport\u001b[0m \u001b[1;33m*\u001b[0m\u001b[1;33m\u001b[0m\u001b[0m\n\u001b[0m\u001b[0;32m    346\u001b[0m \u001b[1;32mfrom\u001b[0m \u001b[1;33m.\u001b[0m\u001b[0mdistributions\u001b[0m \u001b[1;32mimport\u001b[0m \u001b[1;33m*\u001b[0m\u001b[1;33m\u001b[0m\u001b[0m\n\u001b[0;32m    347\u001b[0m \u001b[1;32mfrom\u001b[0m \u001b[1;33m.\u001b[0m\u001b[0mmorestats\u001b[0m \u001b[1;32mimport\u001b[0m \u001b[1;33m*\u001b[0m\u001b[1;33m\u001b[0m\u001b[0m\n",
      "\u001b[1;32m~\\AppData\\Roaming\\Python\\Python36\\site-packages\\scipy\\stats\\stats.py\u001b[0m in \u001b[0;36m<module>\u001b[1;34m()\u001b[0m\n\u001b[0;32m    169\u001b[0m \u001b[1;32mimport\u001b[0m \u001b[0mscipy\u001b[0m\u001b[1;33m.\u001b[0m\u001b[0mspecial\u001b[0m \u001b[1;32mas\u001b[0m \u001b[0mspecial\u001b[0m\u001b[1;33m\u001b[0m\u001b[0m\n\u001b[0;32m    170\u001b[0m \u001b[1;32mimport\u001b[0m \u001b[0mscipy\u001b[0m\u001b[1;33m.\u001b[0m\u001b[0mlinalg\u001b[0m \u001b[1;32mas\u001b[0m \u001b[0mlinalg\u001b[0m\u001b[1;33m\u001b[0m\u001b[0m\n\u001b[1;32m--> 171\u001b[1;33m \u001b[1;32mfrom\u001b[0m \u001b[1;33m.\u001b[0m \u001b[1;32mimport\u001b[0m \u001b[0mdistributions\u001b[0m\u001b[1;33m\u001b[0m\u001b[0m\n\u001b[0m\u001b[0;32m    172\u001b[0m \u001b[1;32mfrom\u001b[0m \u001b[1;33m.\u001b[0m \u001b[1;32mimport\u001b[0m \u001b[0mmstats_basic\u001b[0m\u001b[1;33m\u001b[0m\u001b[0m\n\u001b[0;32m    173\u001b[0m \u001b[1;32mfrom\u001b[0m \u001b[1;33m.\u001b[0m\u001b[0m_distn_infrastructure\u001b[0m \u001b[1;32mimport\u001b[0m \u001b[0m_lazywhere\u001b[0m\u001b[1;33m\u001b[0m\u001b[0m\n",
      "\u001b[1;32m~\\AppData\\Roaming\\Python\\Python36\\site-packages\\scipy\\stats\\distributions.py\u001b[0m in \u001b[0;36m<module>\u001b[1;34m()\u001b[0m\n\u001b[0;32m      8\u001b[0m \u001b[1;32mfrom\u001b[0m \u001b[0m__future__\u001b[0m \u001b[1;32mimport\u001b[0m \u001b[0mdivision\u001b[0m\u001b[1;33m,\u001b[0m \u001b[0mprint_function\u001b[0m\u001b[1;33m,\u001b[0m \u001b[0mabsolute_import\u001b[0m\u001b[1;33m\u001b[0m\u001b[0m\n\u001b[0;32m      9\u001b[0m \u001b[1;33m\u001b[0m\u001b[0m\n\u001b[1;32m---> 10\u001b[1;33m from ._distn_infrastructure import (entropy, rv_discrete, rv_continuous,\n\u001b[0m\u001b[0;32m     11\u001b[0m                                     rv_frozen)\n\u001b[0;32m     12\u001b[0m \u001b[1;33m\u001b[0m\u001b[0m\n",
      "\u001b[1;32m~\\AppData\\Roaming\\Python\\Python36\\site-packages\\scipy\\stats\\_distn_infrastructure.py\u001b[0m in \u001b[0;36m<module>\u001b[1;34m()\u001b[0m\n\u001b[0;32m     14\u001b[0m \u001b[1;32mimport\u001b[0m \u001b[0mwarnings\u001b[0m\u001b[1;33m\u001b[0m\u001b[0m\n\u001b[0;32m     15\u001b[0m \u001b[1;33m\u001b[0m\u001b[0m\n\u001b[1;32m---> 16\u001b[1;33m \u001b[1;32mfrom\u001b[0m \u001b[0mscipy\u001b[0m\u001b[1;33m.\u001b[0m\u001b[0mmisc\u001b[0m \u001b[1;32mimport\u001b[0m \u001b[0mdoccer\u001b[0m\u001b[1;33m\u001b[0m\u001b[0m\n\u001b[0m\u001b[0;32m     17\u001b[0m \u001b[1;32mfrom\u001b[0m \u001b[1;33m.\u001b[0m\u001b[0m_distr_params\u001b[0m \u001b[1;32mimport\u001b[0m \u001b[0mdistcont\u001b[0m\u001b[1;33m,\u001b[0m \u001b[0mdistdiscrete\u001b[0m\u001b[1;33m\u001b[0m\u001b[0m\n\u001b[0;32m     18\u001b[0m \u001b[1;32mfrom\u001b[0m \u001b[0mscipy\u001b[0m\u001b[1;33m.\u001b[0m\u001b[0m_lib\u001b[0m\u001b[1;33m.\u001b[0m\u001b[0m_util\u001b[0m \u001b[1;32mimport\u001b[0m \u001b[0mcheck_random_state\u001b[0m\u001b[1;33m,\u001b[0m \u001b[0m_lazywhere\u001b[0m\u001b[1;33m,\u001b[0m \u001b[0m_lazyselect\u001b[0m\u001b[1;33m\u001b[0m\u001b[0m\n",
      "\u001b[1;32m~\\AppData\\Roaming\\Python\\Python36\\site-packages\\scipy\\misc\\__init__.py\u001b[0m in \u001b[0;36m<module>\u001b[1;34m()\u001b[0m\n\u001b[0;32m     66\u001b[0m \u001b[1;32mfrom\u001b[0m \u001b[0mnumpy\u001b[0m \u001b[1;32mimport\u001b[0m \u001b[0mwho\u001b[0m \u001b[1;32mas\u001b[0m \u001b[0m_who\u001b[0m\u001b[1;33m,\u001b[0m \u001b[0msource\u001b[0m \u001b[1;32mas\u001b[0m \u001b[0m_source\u001b[0m\u001b[1;33m,\u001b[0m \u001b[0minfo\u001b[0m \u001b[1;32mas\u001b[0m \u001b[0m_info\u001b[0m\u001b[1;33m\u001b[0m\u001b[0m\n\u001b[0;32m     67\u001b[0m \u001b[1;32mimport\u001b[0m \u001b[0mnumpy\u001b[0m \u001b[1;32mas\u001b[0m \u001b[0mnp\u001b[0m\u001b[1;33m\u001b[0m\u001b[0m\n\u001b[1;32m---> 68\u001b[1;33m \u001b[1;32mfrom\u001b[0m \u001b[0mscipy\u001b[0m\u001b[1;33m.\u001b[0m\u001b[0minterpolate\u001b[0m\u001b[1;33m.\u001b[0m\u001b[0m_pade\u001b[0m \u001b[1;32mimport\u001b[0m \u001b[0mpade\u001b[0m \u001b[1;32mas\u001b[0m \u001b[0m_pade\u001b[0m\u001b[1;33m\u001b[0m\u001b[0m\n\u001b[0m\u001b[0;32m     69\u001b[0m from scipy.special import (comb as _comb, logsumexp as _lsm,\n\u001b[0;32m     70\u001b[0m         factorial as _fact, factorial2 as _fact2, factorialk as _factk)\n",
      "\u001b[1;32m~\\AppData\\Roaming\\Python\\Python36\\site-packages\\scipy\\interpolate\\__init__.py\u001b[0m in \u001b[0;36m<module>\u001b[1;34m()\u001b[0m\n\u001b[0;32m    173\u001b[0m \u001b[1;32mfrom\u001b[0m \u001b[0m__future__\u001b[0m \u001b[1;32mimport\u001b[0m \u001b[0mdivision\u001b[0m\u001b[1;33m,\u001b[0m \u001b[0mprint_function\u001b[0m\u001b[1;33m,\u001b[0m \u001b[0mabsolute_import\u001b[0m\u001b[1;33m\u001b[0m\u001b[0m\n\u001b[0;32m    174\u001b[0m \u001b[1;33m\u001b[0m\u001b[0m\n\u001b[1;32m--> 175\u001b[1;33m \u001b[1;32mfrom\u001b[0m \u001b[1;33m.\u001b[0m\u001b[0minterpolate\u001b[0m \u001b[1;32mimport\u001b[0m \u001b[1;33m*\u001b[0m\u001b[1;33m\u001b[0m\u001b[0m\n\u001b[0m\u001b[0;32m    176\u001b[0m \u001b[1;32mfrom\u001b[0m \u001b[1;33m.\u001b[0m\u001b[0mfitpack\u001b[0m \u001b[1;32mimport\u001b[0m \u001b[1;33m*\u001b[0m\u001b[1;33m\u001b[0m\u001b[0m\n\u001b[0;32m    177\u001b[0m \u001b[1;33m\u001b[0m\u001b[0m\n",
      "\u001b[1;32m~\\AppData\\Roaming\\Python\\Python36\\site-packages\\scipy\\interpolate\\interpolate.py\u001b[0m in \u001b[0;36m<module>\u001b[1;34m()\u001b[0m\n\u001b[0;32m     30\u001b[0m \u001b[1;32mfrom\u001b[0m \u001b[1;33m.\u001b[0m \u001b[1;32mimport\u001b[0m \u001b[0m_ppoly\u001b[0m\u001b[1;33m\u001b[0m\u001b[0m\n\u001b[0;32m     31\u001b[0m \u001b[1;32mfrom\u001b[0m \u001b[1;33m.\u001b[0m\u001b[0mfitpack2\u001b[0m \u001b[1;32mimport\u001b[0m \u001b[0mRectBivariateSpline\u001b[0m\u001b[1;33m\u001b[0m\u001b[0m\n\u001b[1;32m---> 32\u001b[1;33m \u001b[1;32mfrom\u001b[0m \u001b[1;33m.\u001b[0m\u001b[0minterpnd\u001b[0m \u001b[1;32mimport\u001b[0m \u001b[0m_ndim_coords_from_arrays\u001b[0m\u001b[1;33m\u001b[0m\u001b[0m\n\u001b[0m\u001b[0;32m     33\u001b[0m \u001b[1;32mfrom\u001b[0m \u001b[1;33m.\u001b[0m\u001b[0m_bsplines\u001b[0m \u001b[1;32mimport\u001b[0m \u001b[0mmake_interp_spline\u001b[0m\u001b[1;33m,\u001b[0m \u001b[0mBSpline\u001b[0m\u001b[1;33m\u001b[0m\u001b[0m\n\u001b[0;32m     34\u001b[0m \u001b[1;33m\u001b[0m\u001b[0m\n",
      "\u001b[1;32minterpnd.pyx\u001b[0m in \u001b[0;36minit scipy.interpolate.interpnd\u001b[1;34m()\u001b[0m\n",
      "\u001b[1;32m~\\Anaconda3\\lib\\importlib\\_bootstrap.py\u001b[0m in \u001b[0;36m_find_and_load\u001b[1;34m(name, import_)\u001b[0m\n",
      "\u001b[1;32m~\\Anaconda3\\lib\\importlib\\_bootstrap.py\u001b[0m in \u001b[0;36m_find_and_load_unlocked\u001b[1;34m(name, import_)\u001b[0m\n",
      "\u001b[1;32m~\\Anaconda3\\lib\\importlib\\_bootstrap.py\u001b[0m in \u001b[0;36m_find_spec\u001b[1;34m(name, path, target)\u001b[0m\n",
      "\u001b[1;32m~\\Anaconda3\\lib\\importlib\\_bootstrap_external.py\u001b[0m in \u001b[0;36mfind_spec\u001b[1;34m(cls, fullname, path, target)\u001b[0m\n",
      "\u001b[1;32m~\\Anaconda3\\lib\\importlib\\_bootstrap_external.py\u001b[0m in \u001b[0;36m_get_spec\u001b[1;34m(cls, fullname, path, target)\u001b[0m\n",
      "\u001b[1;32m~\\Anaconda3\\lib\\importlib\\_bootstrap_external.py\u001b[0m in \u001b[0;36mfind_spec\u001b[1;34m(self, fullname, target)\u001b[0m\n",
      "\u001b[1;32m~\\Anaconda3\\lib\\importlib\\_bootstrap_external.py\u001b[0m in \u001b[0;36m_path_isfile\u001b[1;34m(path)\u001b[0m\n",
      "\u001b[1;32m~\\Anaconda3\\lib\\importlib\\_bootstrap_external.py\u001b[0m in \u001b[0;36m_path_is_mode_type\u001b[1;34m(path, mode)\u001b[0m\n",
      "\u001b[1;31mKeyboardInterrupt\u001b[0m: "
     ]
    }
   ],
   "source": [
    "import re\n",
    "import string\n",
    "import nltk\n",
    "from nltk.tokenize import word_tokenize\n",
    "from nltk.corpus import stopwords\n",
    "from Sastrawi.Stemmer.StemmerFactory import StemmerFactory\n",
    "\n",
    "stop_words = set(stopwords.words('indonesian'))\n",
    "factory = StemmerFactory()\n",
    "stemmer = factory.create_stemmer()"
   ]
  },
  {
   "cell_type": "code",
   "execution_count": 53,
   "metadata": {
    "slideshow": {
     "slide_type": "skip"
    }
   },
   "outputs": [],
   "source": [
    "def tweet_cleaner(text):\n",
    "    lower = text.lower()\n",
    "    no_number = re.sub(r'\\d+', '', lower)\n",
    "    no_url = re.sub(r\"http\\S+\", \"\", no_number)\n",
    "    no_dash = no_url.replace(\"-\", \" \")\n",
    "    no_punctuation = no_dash.translate(str.maketrans('', '', string.punctuation))\n",
    "    no_white_space = re.sub(' +', ' ', no_punctuation)\n",
    "    tokens = word_tokenize(no_white_space)\n",
    "    no_stopwords = [i for i in tokens if not i in stop_words]\n",
    "    stem = stemmer.stem(' '.join(no_stopwords))\n",
    "    return stem"
   ]
  },
  {
   "cell_type": "code",
   "execution_count": 54,
   "metadata": {
    "slideshow": {
     "slide_type": "slide"
    }
   },
   "outputs": [
    {
     "data": {
      "text/html": [
       "<div>\n",
       "<style scoped>\n",
       "    .dataframe tbody tr th:only-of-type {\n",
       "        vertical-align: middle;\n",
       "    }\n",
       "\n",
       "    .dataframe tbody tr th {\n",
       "        vertical-align: top;\n",
       "    }\n",
       "\n",
       "    .dataframe thead th {\n",
       "        text-align: right;\n",
       "    }\n",
       "</style>\n",
       "<table border=\"1\" class=\"dataframe\">\n",
       "  <thead>\n",
       "    <tr style=\"text-align: right;\">\n",
       "      <th></th>\n",
       "      <th>username</th>\n",
       "      <th>date</th>\n",
       "      <th>time</th>\n",
       "      <th>text</th>\n",
       "      <th>tweetID</th>\n",
       "      <th>placeID</th>\n",
       "      <th>daerah</th>\n",
       "      <th>lokasi</th>\n",
       "      <th>longitude</th>\n",
       "      <th>latitude</th>\n",
       "      <th>result</th>\n",
       "    </tr>\n",
       "  </thead>\n",
       "  <tbody>\n",
       "    <tr>\n",
       "      <th>0</th>\n",
       "      <td>@AbdulIkromMukti</td>\n",
       "      <td>2018-01-01</td>\n",
       "      <td>17:22</td>\n",
       "      <td>Ntah ini gaya apa. Nahan bersin Nahan mules M...</td>\n",
       "      <td>947775136970797056</td>\n",
       "      <td>2eb44917f4d6dddc</td>\n",
       "      <td>Cirebon Barat</td>\n",
       "      <td>Cirebon Barat Indonesia</td>\n",
       "      <td>108.53915156648996</td>\n",
       "      <td>-6.7191105</td>\n",
       "      <td>ntah gaya nahan bersin nahan mules muka kane m...</td>\n",
       "    </tr>\n",
       "    <tr>\n",
       "      <th>1</th>\n",
       "      <td>@nengnurlaela21</td>\n",
       "      <td>2018-01-01</td>\n",
       "      <td>18:36</td>\n",
       "      <td>get well soon Kak Dori   masih di Sukabumi ka...</td>\n",
       "      <td>947793618315522048</td>\n",
       "      <td>8b2c9342507e86d3</td>\n",
       "      <td>Baros</td>\n",
       "      <td>Baros Indonesia</td>\n",
       "      <td>106.92870584765362</td>\n",
       "      <td>-6.946683</td>\n",
       "      <td>get well soon kak dor sukabumi kak niat ken sa...</td>\n",
       "    </tr>\n",
       "    <tr>\n",
       "      <th>2</th>\n",
       "      <td>@_sulistiyowati_</td>\n",
       "      <td>2018-01-01</td>\n",
       "      <td>19:57</td>\n",
       "      <td>Awalnya pening doang berhari-hari. Terus dema...</td>\n",
       "      <td>947813927059988481</td>\n",
       "      <td>dc83e4ea9c950d75</td>\n",
       "      <td>Labuhan Maringgai</td>\n",
       "      <td>Labuhan Maringgai Indonesia</td>\n",
       "      <td>105.81180643124533</td>\n",
       "      <td>-5.342388</td>\n",
       "      <td>pening doang hari demam diare lemes kapar</td>\n",
       "    </tr>\n",
       "    <tr>\n",
       "      <th>3</th>\n",
       "      <td>@rundraj</td>\n",
       "      <td>2018-01-01</td>\n",
       "      <td>13:39</td>\n",
       "      <td>Sing seneng akeh  sing mules merga mburi ngom...</td>\n",
       "      <td>947719008975015936</td>\n",
       "      <td>c4397d8c10325af5</td>\n",
       "      <td>Kasihan</td>\n",
       "      <td>Kasihan Indonesia</td>\n",
       "      <td>110.33361932383802</td>\n",
       "      <td>-7.814738999999999</td>\n",
       "      <td>sing neng akeh sing mules merga mburi ngomah k...</td>\n",
       "    </tr>\n",
       "    <tr>\n",
       "      <th>4</th>\n",
       "      <td>@fitryfee3</td>\n",
       "      <td>2018-01-01</td>\n",
       "      <td>11:55</td>\n",
       "      <td>Maag kumat sejak kemarin  hasilnya diare. Mul...</td>\n",
       "      <td>947692732536971264</td>\n",
       "      <td>420f122b6bea262c</td>\n",
       "      <td>Lemahabang</td>\n",
       "      <td>Lemahabang Indonesia</td>\n",
       "      <td>107.18428703876046</td>\n",
       "      <td>-6.2976855</td>\n",
       "      <td>maag kumat kemarin hasil diare mules plus my p...</td>\n",
       "    </tr>\n",
       "  </tbody>\n",
       "</table>\n",
       "</div>"
      ],
      "text/plain": [
       "           username         date    time  \\\n",
       "0  @AbdulIkromMukti   2018-01-01   17:22   \n",
       "1   @nengnurlaela21   2018-01-01   18:36   \n",
       "2  @_sulistiyowati_   2018-01-01   19:57   \n",
       "3          @rundraj   2018-01-01   13:39   \n",
       "4        @fitryfee3   2018-01-01   11:55   \n",
       "\n",
       "                                                text             tweetID  \\\n",
       "0   Ntah ini gaya apa. Nahan bersin Nahan mules M...  947775136970797056   \n",
       "1   get well soon Kak Dori   masih di Sukabumi ka...  947793618315522048   \n",
       "2   Awalnya pening doang berhari-hari. Terus dema...  947813927059988481   \n",
       "3   Sing seneng akeh  sing mules merga mburi ngom...  947719008975015936   \n",
       "4   Maag kumat sejak kemarin  hasilnya diare. Mul...  947692732536971264   \n",
       "\n",
       "             placeID              daerah                        lokasi  \\\n",
       "0   2eb44917f4d6dddc       Cirebon Barat       Cirebon Barat Indonesia   \n",
       "1   8b2c9342507e86d3               Baros               Baros Indonesia   \n",
       "2   dc83e4ea9c950d75   Labuhan Maringgai   Labuhan Maringgai Indonesia   \n",
       "3   c4397d8c10325af5             Kasihan             Kasihan Indonesia   \n",
       "4   420f122b6bea262c          Lemahabang          Lemahabang Indonesia   \n",
       "\n",
       "             longitude             latitude  \\\n",
       "0   108.53915156648996           -6.7191105   \n",
       "1   106.92870584765362            -6.946683   \n",
       "2   105.81180643124533            -5.342388   \n",
       "3   110.33361932383802   -7.814738999999999   \n",
       "4   107.18428703876046           -6.2976855   \n",
       "\n",
       "                                              result  \n",
       "0  ntah gaya nahan bersin nahan mules muka kane m...  \n",
       "1  get well soon kak dor sukabumi kak niat ken sa...  \n",
       "2          pening doang hari demam diare lemes kapar  \n",
       "3  sing neng akeh sing mules merga mburi ngomah k...  \n",
       "4  maag kumat kemarin hasil diare mules plus my p...  "
      ]
     },
     "execution_count": 54,
     "metadata": {},
     "output_type": "execute_result"
    }
   ],
   "source": [
    "result = []\n",
    "for text in pm_id['text']:\n",
    "    result.append(tweet_cleaner(text))\n",
    "pm_id['result'] = result\n",
    "pm_id.head()"
   ]
  },
  {
   "cell_type": "markdown",
   "metadata": {
    "slideshow": {
     "slide_type": "slide"
    }
   },
   "source": [
    "# Term Document Matrix"
   ]
  },
  {
   "cell_type": "code",
   "execution_count": null,
   "metadata": {
    "slideshow": {
     "slide_type": "slide"
    }
   },
   "outputs": [],
   "source": [
    "from sklearn.feature_extraction.text import CountVectorizer\n",
    "\n",
    "# create a dataframe from a word matrix\n",
    "def wm2df(wm, feat_names):\n",
    "    \n",
    "    # create an index for each row\n",
    "    doc_names = ['Doc{:d}'.format(idx) for idx, _ in enumerate(wm)]\n",
    "    df = pd.DataFrame(data=wm.toarray(), index=doc_names,\n",
    "                      columns=feat_names)\n",
    "    return(df)\n",
    "  \n",
    "# set of documents\n",
    "corpora = pm_id.loc[:,'result'].tolist()\n",
    "\n",
    "# instantiate the vectorizer object\n",
    "cvec = CountVectorizer(lowercase=False, min_df=85)\n",
    "\n",
    "# convert the documents into a document-term matrix\n",
    "wm = cvec.fit_transform(corpora)\n",
    "\n",
    "# retrieve the terms found in the corpora\n",
    "tokens = cvec.get_feature_names()\n",
    "\n",
    "# create a dataframe from the matrix\n",
    "tdm = wm2df(wm, tokens)\n",
    "tdm.shape"
   ]
  },
  {
   "cell_type": "code",
   "execution_count": null,
   "metadata": {
    "slideshow": {
     "slide_type": "slide"
    }
   },
   "outputs": [],
   "source": [
    "tdm.head()\n",
    "tdm.to_csv('./tdm.csv')"
   ]
  },
  {
   "cell_type": "markdown",
   "metadata": {
    "slideshow": {
     "slide_type": "slide"
    }
   },
   "source": [
    "# K-Means Clustering"
   ]
  },
  {
   "cell_type": "code",
   "execution_count": null,
   "metadata": {
    "slideshow": {
     "slide_type": "slide"
    }
   },
   "outputs": [],
   "source": [
    "from sklearn.cluster import KMeans\n",
    "wcss = []\n",
    "for i in range(2,11):\n",
    "    kmeans = KMeans(n_clusters=i,init='k-means++',max_iter=300,n_init=10,random_state=0)\n",
    "    kmeans.fit_predict(tdm)\n",
    "    wcss.append(kmeans.inertia_)\n",
    "\n",
    "plt.plot(range(2,11),wcss)\n",
    "plt.title('The Elbow Method')\n",
    "plt.xlabel('Number of clusters')\n",
    "plt.ylabel('WCSS')\n",
    "plt.show()"
   ]
  },
  {
   "cell_type": "code",
   "execution_count": null,
   "metadata": {},
   "outputs": [],
   "source": []
  }
 ],
 "metadata": {
  "celltoolbar": "Slideshow",
  "kernelspec": {
   "display_name": "Python 3",
   "language": "python",
   "name": "python3"
  },
  "language_info": {
   "codemirror_mode": {
    "name": "ipython",
    "version": 3
   },
   "file_extension": ".py",
   "mimetype": "text/x-python",
   "name": "python",
   "nbconvert_exporter": "python",
   "pygments_lexer": "ipython3",
   "version": "3.6.5"
  }
 },
 "nbformat": 4,
 "nbformat_minor": 2
}
